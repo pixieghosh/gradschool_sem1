{
 "cells": [
  {
   "cell_type": "markdown",
   "metadata": {},
   "source": [
    "# GEOparse"
   ]
  },
  {
   "cell_type": "markdown",
   "metadata": {},
   "source": [
    "GEOparse is a handy python lib that allows one to connect to the GEO database and retrieve different\n",
    "transcriptomice datasets. In this example we will focus on microarray experiments."
   ]
  },
  {
   "cell_type": "markdown",
   "metadata": {},
   "source": [
    "### Install GEOparse"
   ]
  },
  {
   "cell_type": "code",
   "execution_count": 1,
   "metadata": {},
   "outputs": [],
   "source": [
    "# use pip to install GEOparse\n",
    "# !pip install GEOparse"
   ]
  },
  {
   "cell_type": "markdown",
   "metadata": {},
   "source": [
    "Remember that once package is installed it needs to be loaded"
   ]
  },
  {
   "cell_type": "code",
   "execution_count": 2,
   "metadata": {},
   "outputs": [],
   "source": [
    "import GEOparse\n",
    "import math\n",
    "import pandas as pd\n",
    "from scipy import stats\n",
    "import statsmodels.stats.multitest as smm"
   ]
  },
  {
   "cell_type": "markdown",
   "metadata": {},
   "source": [
    "The GEOparse.get_GEO() function in the GEOparse package retrieves meta data from the GEO website with not only\n",
    "the meta data, but also the experimental data points. Below are some useful commands in the package."
   ]
  },
  {
   "cell_type": "code",
   "execution_count": 3,
   "metadata": {},
   "outputs": [
    {
     "name": "stderr",
     "output_type": "stream",
     "text": [
      "24-Feb-2021 10:06:27 DEBUG utils - Directory ./ already exists. Skipping.\n",
      "24-Feb-2021 10:06:27 INFO GEOparse - File already exist: using local version.\n",
      "24-Feb-2021 10:06:27 INFO GEOparse - Parsing ./GDS2084.soft.gz: \n",
      "24-Feb-2021 10:06:27 DEBUG GEOparse - DATABASE: Geo\n",
      "24-Feb-2021 10:06:27 DEBUG GEOparse - DATASET: GDS2084\n",
      "24-Feb-2021 10:06:27 DEBUG GEOparse - SUBSET: GDS2084_1\n",
      "24-Feb-2021 10:06:27 DEBUG GEOparse - SUBSET: GDS2084_2\n",
      "24-Feb-2021 10:06:27 DEBUG GEOparse - DATASET: GDS2084\n"
     ]
    }
   ],
   "source": [
    "gds = GEOparse.get_GEO(geo=\"GDS2084\", destdir=\"./\")"
   ]
  },
  {
   "cell_type": "markdown",
   "metadata": {},
   "source": [
    "### Retrieve data"
   ]
  },
  {
   "cell_type": "code",
   "execution_count": 4,
   "metadata": {},
   "outputs": [
    {
     "data": {
      "text/plain": [
       "{'title': ['Polycystic ovary syndrome: adipose tissue'],\n",
       " 'description': ['Analysis of omental adipose tissues of morbidly obese patients with polycystic ovary syndrome (PCOS). PCOS is a common hormonal disorder among women of reproductive age, and is characterized by hyperandrogenism and chronic anovulation. PCOS is associated with obesity.'],\n",
       " 'type': ['Expression profiling by array'],\n",
       " 'pubmed_id': ['17062763'],\n",
       " 'platform': ['GPL96'],\n",
       " 'platform_organism': ['Homo sapiens'],\n",
       " 'platform_technology_type': ['in situ oligonucleotide'],\n",
       " 'feature_count': ['22283'],\n",
       " 'sample_organism': ['Homo sapiens'],\n",
       " 'sample_type': ['RNA'],\n",
       " 'channel_count': ['1'],\n",
       " 'sample_count': ['15'],\n",
       " 'value_type': ['count'],\n",
       " 'reference_series': ['GSE5090'],\n",
       " 'order': ['none'],\n",
       " 'update_date': ['Mar 21 2007']}"
      ]
     },
     "execution_count": 4,
     "metadata": {},
     "output_type": "execute_result"
    }
   ],
   "source": [
    "# meta data\n",
    "gds.metadata"
   ]
  },
  {
   "cell_type": "code",
   "execution_count": 5,
   "metadata": {},
   "outputs": [
    {
     "data": {
      "text/html": [
       "<div>\n",
       "<style scoped>\n",
       "    .dataframe tbody tr th:only-of-type {\n",
       "        vertical-align: middle;\n",
       "    }\n",
       "\n",
       "    .dataframe tbody tr th {\n",
       "        vertical-align: top;\n",
       "    }\n",
       "\n",
       "    .dataframe thead th {\n",
       "        text-align: right;\n",
       "    }\n",
       "</style>\n",
       "<table border=\"1\" class=\"dataframe\">\n",
       "  <thead>\n",
       "    <tr style=\"text-align: right;\">\n",
       "      <th></th>\n",
       "      <th>ID_REF</th>\n",
       "      <th>IDENTIFIER</th>\n",
       "      <th>GSM114841</th>\n",
       "      <th>GSM114844</th>\n",
       "      <th>GSM114845</th>\n",
       "      <th>GSM114849</th>\n",
       "      <th>GSM114851</th>\n",
       "      <th>GSM114854</th>\n",
       "      <th>GSM114855</th>\n",
       "      <th>GSM114834</th>\n",
       "      <th>GSM114842</th>\n",
       "      <th>GSM114843</th>\n",
       "      <th>GSM114847</th>\n",
       "      <th>GSM114848</th>\n",
       "      <th>GSM114850</th>\n",
       "      <th>GSM114852</th>\n",
       "      <th>GSM114853</th>\n",
       "    </tr>\n",
       "  </thead>\n",
       "  <tbody>\n",
       "    <tr>\n",
       "      <th>0</th>\n",
       "      <td>1007_s_at</td>\n",
       "      <td>MIR4640</td>\n",
       "      <td>222.6</td>\n",
       "      <td>252.7</td>\n",
       "      <td>219.3</td>\n",
       "      <td>258.9</td>\n",
       "      <td>239.0</td>\n",
       "      <td>286.0</td>\n",
       "      <td>230.1</td>\n",
       "      <td>197.1</td>\n",
       "      <td>254.4</td>\n",
       "      <td>296.5</td>\n",
       "      <td>171.1</td>\n",
       "      <td>268.9</td>\n",
       "      <td>251.2</td>\n",
       "      <td>301.9</td>\n",
       "      <td>234.3</td>\n",
       "    </tr>\n",
       "    <tr>\n",
       "      <th>1</th>\n",
       "      <td>1053_at</td>\n",
       "      <td>RFC2</td>\n",
       "      <td>35.5</td>\n",
       "      <td>24.5</td>\n",
       "      <td>23.4</td>\n",
       "      <td>31.4</td>\n",
       "      <td>20.6</td>\n",
       "      <td>26.1</td>\n",
       "      <td>24.3</td>\n",
       "      <td>26.9</td>\n",
       "      <td>31.4</td>\n",
       "      <td>27.1</td>\n",
       "      <td>25.9</td>\n",
       "      <td>40.5</td>\n",
       "      <td>22.2</td>\n",
       "      <td>24.6</td>\n",
       "      <td>31.3</td>\n",
       "    </tr>\n",
       "    <tr>\n",
       "      <th>2</th>\n",
       "      <td>117_at</td>\n",
       "      <td>HSPA6</td>\n",
       "      <td>41.5</td>\n",
       "      <td>53.3</td>\n",
       "      <td>31.3</td>\n",
       "      <td>43.0</td>\n",
       "      <td>65.5</td>\n",
       "      <td>39.6</td>\n",
       "      <td>68.5</td>\n",
       "      <td>46.9</td>\n",
       "      <td>61.7</td>\n",
       "      <td>93.7</td>\n",
       "      <td>68.5</td>\n",
       "      <td>79.6</td>\n",
       "      <td>40.0</td>\n",
       "      <td>43.2</td>\n",
       "      <td>53.4</td>\n",
       "    </tr>\n",
       "    <tr>\n",
       "      <th>3</th>\n",
       "      <td>121_at</td>\n",
       "      <td>PAX8</td>\n",
       "      <td>229.8</td>\n",
       "      <td>419.6</td>\n",
       "      <td>274.5</td>\n",
       "      <td>227.1</td>\n",
       "      <td>271.6</td>\n",
       "      <td>428.7</td>\n",
       "      <td>333.4</td>\n",
       "      <td>221.1</td>\n",
       "      <td>291.5</td>\n",
       "      <td>399.8</td>\n",
       "      <td>307.1</td>\n",
       "      <td>364.8</td>\n",
       "      <td>326.1</td>\n",
       "      <td>387.2</td>\n",
       "      <td>400.9</td>\n",
       "    </tr>\n",
       "    <tr>\n",
       "      <th>4</th>\n",
       "      <td>1255_g_at</td>\n",
       "      <td>GUCA1A</td>\n",
       "      <td>14.3</td>\n",
       "      <td>13.0</td>\n",
       "      <td>29.6</td>\n",
       "      <td>16.3</td>\n",
       "      <td>4.6</td>\n",
       "      <td>10.7</td>\n",
       "      <td>7.8</td>\n",
       "      <td>2.4</td>\n",
       "      <td>13.9</td>\n",
       "      <td>24.7</td>\n",
       "      <td>3.8</td>\n",
       "      <td>14.3</td>\n",
       "      <td>1.9</td>\n",
       "      <td>12.0</td>\n",
       "      <td>11.5</td>\n",
       "    </tr>\n",
       "  </tbody>\n",
       "</table>\n",
       "</div>"
      ],
      "text/plain": [
       "      ID_REF IDENTIFIER  GSM114841  GSM114844  GSM114845  GSM114849  \\\n",
       "0  1007_s_at    MIR4640      222.6      252.7      219.3      258.9   \n",
       "1    1053_at       RFC2       35.5       24.5       23.4       31.4   \n",
       "2     117_at      HSPA6       41.5       53.3       31.3       43.0   \n",
       "3     121_at       PAX8      229.8      419.6      274.5      227.1   \n",
       "4  1255_g_at     GUCA1A       14.3       13.0       29.6       16.3   \n",
       "\n",
       "   GSM114851  GSM114854  GSM114855  GSM114834  GSM114842  GSM114843  \\\n",
       "0      239.0      286.0      230.1      197.1      254.4      296.5   \n",
       "1       20.6       26.1       24.3       26.9       31.4       27.1   \n",
       "2       65.5       39.6       68.5       46.9       61.7       93.7   \n",
       "3      271.6      428.7      333.4      221.1      291.5      399.8   \n",
       "4        4.6       10.7        7.8        2.4       13.9       24.7   \n",
       "\n",
       "   GSM114847  GSM114848  GSM114850  GSM114852  GSM114853  \n",
       "0      171.1      268.9      251.2      301.9      234.3  \n",
       "1       25.9       40.5       22.2       24.6       31.3  \n",
       "2       68.5       79.6       40.0       43.2       53.4  \n",
       "3      307.1      364.8      326.1      387.2      400.9  \n",
       "4        3.8       14.3        1.9       12.0       11.5  "
      ]
     },
     "execution_count": 5,
     "metadata": {},
     "output_type": "execute_result"
    }
   ],
   "source": [
    "# normalized reads\n",
    "gds.table.head()"
   ]
  },
  {
   "cell_type": "code",
   "execution_count": 6,
   "metadata": {},
   "outputs": [
    {
     "data": {
      "text/html": [
       "<div>\n",
       "<style scoped>\n",
       "    .dataframe tbody tr th:only-of-type {\n",
       "        vertical-align: middle;\n",
       "    }\n",
       "\n",
       "    .dataframe tbody tr th {\n",
       "        vertical-align: top;\n",
       "    }\n",
       "\n",
       "    .dataframe thead th {\n",
       "        text-align: right;\n",
       "    }\n",
       "</style>\n",
       "<table border=\"1\" class=\"dataframe\">\n",
       "  <thead>\n",
       "    <tr style=\"text-align: right;\">\n",
       "      <th></th>\n",
       "      <th>description</th>\n",
       "      <th>disease state</th>\n",
       "    </tr>\n",
       "  </thead>\n",
       "  <tbody>\n",
       "    <tr>\n",
       "      <th>GSM114841</th>\n",
       "      <td>Value for GSM114841: EP3_adipose_control; src:...</td>\n",
       "      <td>control</td>\n",
       "    </tr>\n",
       "    <tr>\n",
       "      <th>GSM114844</th>\n",
       "      <td>Value for GSM114844: EP23_adipose_control; src...</td>\n",
       "      <td>control</td>\n",
       "    </tr>\n",
       "    <tr>\n",
       "      <th>GSM114845</th>\n",
       "      <td>Value for GSM114845: EP31_adipose_control_rep1...</td>\n",
       "      <td>control</td>\n",
       "    </tr>\n",
       "    <tr>\n",
       "      <th>GSM114849</th>\n",
       "      <td>Value for GSM114849: EP37_adipose_control; src...</td>\n",
       "      <td>control</td>\n",
       "    </tr>\n",
       "    <tr>\n",
       "      <th>GSM114851</th>\n",
       "      <td>Value for GSM114851: EP49_adipose_control; src...</td>\n",
       "      <td>control</td>\n",
       "    </tr>\n",
       "    <tr>\n",
       "      <th>GSM114854</th>\n",
       "      <td>Value for GSM114854: EP69_adipose_control; src...</td>\n",
       "      <td>control</td>\n",
       "    </tr>\n",
       "    <tr>\n",
       "      <th>GSM114855</th>\n",
       "      <td>Value for GSM114855: EP71_adipose_control; src...</td>\n",
       "      <td>control</td>\n",
       "    </tr>\n",
       "    <tr>\n",
       "      <th>GSM114834</th>\n",
       "      <td>Value for GSM114834: EP1_adipose_pcos_rep1; sr...</td>\n",
       "      <td>polycystic ovary syndrome</td>\n",
       "    </tr>\n",
       "    <tr>\n",
       "      <th>GSM114842</th>\n",
       "      <td>Value for GSM114842: EP10_adipose_pcos; src: O...</td>\n",
       "      <td>polycystic ovary syndrome</td>\n",
       "    </tr>\n",
       "    <tr>\n",
       "      <th>GSM114843</th>\n",
       "      <td>Value for GSM114843: EP18_adipose_pcos; src: O...</td>\n",
       "      <td>polycystic ovary syndrome</td>\n",
       "    </tr>\n",
       "    <tr>\n",
       "      <th>GSM114847</th>\n",
       "      <td>Value for GSM114847: EP32_adipose_pcos; src: O...</td>\n",
       "      <td>polycystic ovary syndrome</td>\n",
       "    </tr>\n",
       "    <tr>\n",
       "      <th>GSM114848</th>\n",
       "      <td>Value for GSM114848: EP34_adipose_pcos; src: O...</td>\n",
       "      <td>polycystic ovary syndrome</td>\n",
       "    </tr>\n",
       "    <tr>\n",
       "      <th>GSM114850</th>\n",
       "      <td>Value for GSM114850: EP47_adipose_pcos; src: O...</td>\n",
       "      <td>polycystic ovary syndrome</td>\n",
       "    </tr>\n",
       "    <tr>\n",
       "      <th>GSM114852</th>\n",
       "      <td>Value for GSM114852: EP55_adipose_pcos; src: O...</td>\n",
       "      <td>polycystic ovary syndrome</td>\n",
       "    </tr>\n",
       "    <tr>\n",
       "      <th>GSM114853</th>\n",
       "      <td>Value for GSM114853: EP66_adipose_pcos; src: O...</td>\n",
       "      <td>polycystic ovary syndrome</td>\n",
       "    </tr>\n",
       "  </tbody>\n",
       "</table>\n",
       "</div>"
      ],
      "text/plain": [
       "                                                 description  \\\n",
       "GSM114841  Value for GSM114841: EP3_adipose_control; src:...   \n",
       "GSM114844  Value for GSM114844: EP23_adipose_control; src...   \n",
       "GSM114845  Value for GSM114845: EP31_adipose_control_rep1...   \n",
       "GSM114849  Value for GSM114849: EP37_adipose_control; src...   \n",
       "GSM114851  Value for GSM114851: EP49_adipose_control; src...   \n",
       "GSM114854  Value for GSM114854: EP69_adipose_control; src...   \n",
       "GSM114855  Value for GSM114855: EP71_adipose_control; src...   \n",
       "GSM114834  Value for GSM114834: EP1_adipose_pcos_rep1; sr...   \n",
       "GSM114842  Value for GSM114842: EP10_adipose_pcos; src: O...   \n",
       "GSM114843  Value for GSM114843: EP18_adipose_pcos; src: O...   \n",
       "GSM114847  Value for GSM114847: EP32_adipose_pcos; src: O...   \n",
       "GSM114848  Value for GSM114848: EP34_adipose_pcos; src: O...   \n",
       "GSM114850  Value for GSM114850: EP47_adipose_pcos; src: O...   \n",
       "GSM114852  Value for GSM114852: EP55_adipose_pcos; src: O...   \n",
       "GSM114853  Value for GSM114853: EP66_adipose_pcos; src: O...   \n",
       "\n",
       "                       disease state  \n",
       "GSM114841                    control  \n",
       "GSM114844                    control  \n",
       "GSM114845                    control  \n",
       "GSM114849                    control  \n",
       "GSM114851                    control  \n",
       "GSM114854                    control  \n",
       "GSM114855                    control  \n",
       "GSM114834  polycystic ovary syndrome  \n",
       "GSM114842  polycystic ovary syndrome  \n",
       "GSM114843  polycystic ovary syndrome  \n",
       "GSM114847  polycystic ovary syndrome  \n",
       "GSM114848  polycystic ovary syndrome  \n",
       "GSM114850  polycystic ovary syndrome  \n",
       "GSM114852  polycystic ovary syndrome  \n",
       "GSM114853  polycystic ovary syndrome  "
      ]
     },
     "execution_count": 6,
     "metadata": {},
     "output_type": "execute_result"
    }
   ],
   "source": [
    "# columns\n",
    "gds.columns"
   ]
  },
  {
   "cell_type": "markdown",
   "metadata": {},
   "source": [
    "Notice that the gds.columns command provides information regarding the different factors and the leves\n",
    "involved in the dataset. Also the gds.table command retrieves all the normalized values. In the case where\n",
    "normalizing the data from the raw data files is too cumbersome, this is an easy alternative.\n",
    "Below we download meta information about a specific sample and using the same commands, we retrieve\n",
    "similar type of information."
   ]
  },
  {
   "cell_type": "markdown",
   "metadata": {},
   "source": [
    "Below we download meta information about a specific sample and using the same commands, we retrieve\n",
    "similar type of information."
   ]
  },
  {
   "cell_type": "code",
   "execution_count": 7,
   "metadata": {},
   "outputs": [
    {
     "name": "stderr",
     "output_type": "stream",
     "text": [
      "24-Feb-2021 10:06:28 DEBUG utils - Directory ./ already exists. Skipping.\n",
      "24-Feb-2021 10:06:28 INFO GEOparse - File already exist: using local version.\n",
      "24-Feb-2021 10:06:28 INFO GEOparse - Parsing ./GSM114841.txt: \n"
     ]
    }
   ],
   "source": [
    "gsm = GEOparse.get_GEO(geo=\"GSM114841\", destdir=\"./\")"
   ]
  },
  {
   "cell_type": "code",
   "execution_count": 8,
   "metadata": {},
   "outputs": [
    {
     "data": {
      "text/plain": [
       "{'title': ['EP3_adipose_control'],\n",
       " 'geo_accession': ['GSM114841'],\n",
       " 'status': ['Public on Jun 17 2006'],\n",
       " 'submission_date': ['Jun 16 2006'],\n",
       " 'last_update_date': ['Jun 16 2006'],\n",
       " 'type': ['RNA'],\n",
       " 'channel_count': ['1'],\n",
       " 'source_name_ch1': ['Omental adipose tissue'],\n",
       " 'organism_ch1': ['Homo sapiens'],\n",
       " 'taxid_ch1': ['9606'],\n",
       " 'characteristics_ch1': ['Morbidly obese control subject'],\n",
       " 'biomaterial_provider_ch1': ['Ramón y Cajal Hospital, Madrid, Spain'],\n",
       " 'molecule_ch1': ['total RNA'],\n",
       " 'label_ch1': ['Biotin'],\n",
       " 'description': ['Total RNA was extracted from omental  adipose tissue from a control subject'],\n",
       " 'data_processing': ['MAS 5.0, scaled to 100 and RMA'],\n",
       " 'platform_id': ['GPL96'],\n",
       " 'contact_name': ['BELEN,,PERAL'],\n",
       " 'contact_email': ['bperal@iib.uam.es'],\n",
       " 'contact_phone': ['34 91 5854478'],\n",
       " 'contact_fax': ['34 91 5854401'],\n",
       " 'contact_institute': ['INSTITUTO DE INVESTIGACIONES BIOMEDICAS, CSIC-UAM'],\n",
       " 'contact_address': ['ARTURO DUPERIER'],\n",
       " 'contact_city': ['MADRID'],\n",
       " 'contact_state': ['MADRID'],\n",
       " 'contact_zip/postal_code': ['28029'],\n",
       " 'contact_country': ['Spain'],\n",
       " 'supplementary_file': ['ftp://ftp.ncbi.nlm.nih.gov/geo/samples/GSM114nnn/GSM114841/suppl/GSM114841.CEL.gz',\n",
       "  'ftp://ftp.ncbi.nlm.nih.gov/geo/samples/GSM114nnn/GSM114841/suppl/GSM114841.EXP.gz'],\n",
       " 'series_id': ['GSE5090'],\n",
       " 'data_row_count': ['22283']}"
      ]
     },
     "execution_count": 8,
     "metadata": {},
     "output_type": "execute_result"
    }
   ],
   "source": [
    "gsm.metadata"
   ]
  },
  {
   "cell_type": "code",
   "execution_count": 9,
   "metadata": {},
   "outputs": [
    {
     "data": {
      "text/html": [
       "<div>\n",
       "<style scoped>\n",
       "    .dataframe tbody tr th:only-of-type {\n",
       "        vertical-align: middle;\n",
       "    }\n",
       "\n",
       "    .dataframe tbody tr th {\n",
       "        vertical-align: top;\n",
       "    }\n",
       "\n",
       "    .dataframe thead th {\n",
       "        text-align: right;\n",
       "    }\n",
       "</style>\n",
       "<table border=\"1\" class=\"dataframe\">\n",
       "  <thead>\n",
       "    <tr style=\"text-align: right;\">\n",
       "      <th></th>\n",
       "      <th>description</th>\n",
       "    </tr>\n",
       "  </thead>\n",
       "  <tbody>\n",
       "    <tr>\n",
       "      <th>ID_REF</th>\n",
       "      <td></td>\n",
       "    </tr>\n",
       "    <tr>\n",
       "      <th>VALUE</th>\n",
       "      <td>Signal intensity - MAS 5.0, scaled to 100 and RMA</td>\n",
       "    </tr>\n",
       "    <tr>\n",
       "      <th>ABS_CALL</th>\n",
       "      <td>Presence/absence of gene transcript in sample;...</td>\n",
       "    </tr>\n",
       "    <tr>\n",
       "      <th>Detection p-value</th>\n",
       "      <td>p-value that indicates the significance level ...</td>\n",
       "    </tr>\n",
       "  </tbody>\n",
       "</table>\n",
       "</div>"
      ],
      "text/plain": [
       "                                                         description\n",
       "ID_REF                                                              \n",
       "VALUE              Signal intensity - MAS 5.0, scaled to 100 and RMA\n",
       "ABS_CALL           Presence/absence of gene transcript in sample;...\n",
       "Detection p-value  p-value that indicates the significance level ..."
      ]
     },
     "execution_count": 9,
     "metadata": {},
     "output_type": "execute_result"
    }
   ],
   "source": [
    "gsm.columns"
   ]
  },
  {
   "cell_type": "code",
   "execution_count": 10,
   "metadata": {},
   "outputs": [
    {
     "data": {
      "text/html": [
       "<div>\n",
       "<style scoped>\n",
       "    .dataframe tbody tr th:only-of-type {\n",
       "        vertical-align: middle;\n",
       "    }\n",
       "\n",
       "    .dataframe tbody tr th {\n",
       "        vertical-align: top;\n",
       "    }\n",
       "\n",
       "    .dataframe thead th {\n",
       "        text-align: right;\n",
       "    }\n",
       "</style>\n",
       "<table border=\"1\" class=\"dataframe\">\n",
       "  <thead>\n",
       "    <tr style=\"text-align: right;\">\n",
       "      <th></th>\n",
       "      <th>ID_REF</th>\n",
       "      <th>VALUE</th>\n",
       "      <th>ABS_CALL</th>\n",
       "      <th>Detection p-value</th>\n",
       "    </tr>\n",
       "  </thead>\n",
       "  <tbody>\n",
       "    <tr>\n",
       "      <th>0</th>\n",
       "      <td>AFFX-TrpnX-M_at</td>\n",
       "      <td>1.3</td>\n",
       "      <td>A</td>\n",
       "      <td>0.963431</td>\n",
       "    </tr>\n",
       "    <tr>\n",
       "      <th>1</th>\n",
       "      <td>AFFX-TrpnX-5_at</td>\n",
       "      <td>2.6</td>\n",
       "      <td>A</td>\n",
       "      <td>0.672921</td>\n",
       "    </tr>\n",
       "    <tr>\n",
       "      <th>2</th>\n",
       "      <td>AFFX-TrpnX-3_at</td>\n",
       "      <td>0.5</td>\n",
       "      <td>A</td>\n",
       "      <td>0.910522</td>\n",
       "    </tr>\n",
       "    <tr>\n",
       "      <th>3</th>\n",
       "      <td>AFFX-ThrX-M_at</td>\n",
       "      <td>4.3</td>\n",
       "      <td>A</td>\n",
       "      <td>0.631562</td>\n",
       "    </tr>\n",
       "    <tr>\n",
       "      <th>4</th>\n",
       "      <td>AFFX-ThrX-5_at</td>\n",
       "      <td>1.9</td>\n",
       "      <td>A</td>\n",
       "      <td>0.897835</td>\n",
       "    </tr>\n",
       "  </tbody>\n",
       "</table>\n",
       "</div>"
      ],
      "text/plain": [
       "            ID_REF  VALUE ABS_CALL  Detection p-value\n",
       "0  AFFX-TrpnX-M_at    1.3        A           0.963431\n",
       "1  AFFX-TrpnX-5_at    2.6        A           0.672921\n",
       "2  AFFX-TrpnX-3_at    0.5        A           0.910522\n",
       "3   AFFX-ThrX-M_at    4.3        A           0.631562\n",
       "4   AFFX-ThrX-5_at    1.9        A           0.897835"
      ]
     },
     "execution_count": 10,
     "metadata": {},
     "output_type": "execute_result"
    }
   ],
   "source": [
    "gsm.table.head()"
   ]
  },
  {
   "cell_type": "markdown",
   "metadata": {},
   "source": [
    "# Differential Expression"
   ]
  },
  {
   "cell_type": "markdown",
   "metadata": {},
   "source": [
    "Now that we can retrieve all the necessary information, we can use the functions we have been writing to\n",
    "perform a t-test and calculate fold change for all genes."
   ]
  },
  {
   "cell_type": "code",
   "execution_count": 11,
   "metadata": {
    "scrolled": true
   },
   "outputs": [
    {
     "name": "stdout",
     "output_type": "stream",
     "text": [
      "The number of genes that pass the fdr cutoff (0.05): 0\n"
     ]
    },
    {
     "name": "stderr",
     "output_type": "stream",
     "text": [
      "/Users/tantaotao/opt/anaconda3/envs/bioinfo/lib/python3.7/site-packages/statsmodels/stats/multitest.py:325: RuntimeWarning: invalid value encountered in less_equal\n",
      "  reject = pvals_sorted <= ecdffactor*alpha\n"
     ]
    }
   ],
   "source": [
    "# save all values to a dataframe\n",
    "alldata = gds.table\n",
    "allsamples = gds.columns\n",
    "\n",
    "# retrieve only columns with sample names\n",
    "expdata = alldata.loc[:,allsamples.index]\n",
    "\n",
    "\n",
    "#let's put the probe/gene names back on the rownames\n",
    "expdata = expdata.set_index(alldata.iloc[:,0])\n",
    "\n",
    "# transpose df to use groupby function\n",
    "t_expdata = expdata.transpose()\n",
    "t_expdata[\"group\"] = list(allsamples.iloc[:,1])\n",
    "genemean = t_expdata.groupby(\"group\").mean()\n",
    "\n",
    "# Use pd.Series to store data\n",
    "generatio = [math.log2(i) for i in (genemean.loc[\"polycystic ovary syndrome\",]/genemean.loc[\"control\",])]\n",
    "generatio = pd.Series(generatio, index=genemean.columns)\n",
    "\n",
    "# get control sample and disease sample\n",
    "ctrl = allsamples.index[allsamples[\"disease state\"] == \"control\"]\n",
    "disease = allsamples.index[allsamples[\"disease state\"] == \"polycystic ovary syndrome\"]\n",
    "\n",
    "# write a function to calculate p value. use stats.ttest_ind() function, set equal_var = False (Welch t test)\n",
    "def dottest(index, ctrl, disease):\n",
    "    return(stats.ttest_ind(expdata.loc[index,ctrl], expdata.loc[index,disease], equal_var=False)[1])\n",
    "\n",
    "# write a loop to calculate p value for each row\n",
    "ttestpvalues = []\n",
    "for i in expdata.index:\n",
    "    ttestpvalues.append(dottest(i, ctrl, disease))\n",
    "    \n",
    "# make the result into a pd.Series\n",
    "ttestpvalues = pd.Series(ttestpvalues, index=genemean.columns)\n",
    "ttestpvaluesfdr = smm.multipletests(list(ttestpvalues),alpha=0.05, method=\"fdr_bh\")\n",
    "print(\"The number of genes that pass the fdr cutoff (0.05):\",sum(ttestpvaluesfdr[0]))\n"
   ]
  },
  {
   "cell_type": "markdown",
   "metadata": {},
   "source": [
    "None of the FDR corrected p-values pass the cutoff. So let’s just take the original p-values and the logratio\n",
    "cutoffs"
   ]
  },
  {
   "cell_type": "code",
   "execution_count": 12,
   "metadata": {},
   "outputs": [
    {
     "name": "stdout",
     "output_type": "stream",
     "text": [
      "The number of genes that pass the p cutoff (0.05): 286\n"
     ]
    }
   ],
   "source": [
    "#filter the dataset\n",
    "temp = (abs(generatio) > math.log2(1.5)) & (ttestpvalues < 0.05)\n",
    "DiffGenes = list(temp[temp == True].index)\n",
    "print(\"The number of genes that pass the p cutoff (0.05):\",len(DiffGenes))"
   ]
  },
  {
   "cell_type": "markdown",
   "metadata": {},
   "source": [
    "Compare the results to running the analysis using SimpleAffy package. What is the major difference between\n",
    "the methods? Why should this cause such a different in number of differentially expressed genes?"
   ]
  }
 ],
 "metadata": {
  "kernelspec": {
   "display_name": "Python 3",
   "language": "python",
   "name": "python3"
  },
  "language_info": {
   "codemirror_mode": {
    "name": "ipython",
    "version": 3
   },
   "file_extension": ".py",
   "mimetype": "text/x-python",
   "name": "python",
   "nbconvert_exporter": "python",
   "pygments_lexer": "ipython3",
   "version": "3.7.6"
  }
 },
 "nbformat": 4,
 "nbformat_minor": 2
}
