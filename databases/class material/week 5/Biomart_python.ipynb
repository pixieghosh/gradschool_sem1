{
 "cells": [
  {
   "cell_type": "markdown",
   "metadata": {},
   "source": [
    "# Biomart"
   ]
  },
  {
   "cell_type": "markdown",
   "metadata": {},
   "source": [
    "#### First we have to install Biomart:"
   ]
  },
  {
   "cell_type": "code",
   "execution_count": 1,
   "metadata": {},
   "outputs": [],
   "source": [
    "# To install pybiomart\n",
    "# !pip install pybiomart"
   ]
  },
  {
   "cell_type": "code",
   "execution_count": 2,
   "metadata": {},
   "outputs": [],
   "source": [
    "# Connect to biomart server\n",
    "import pybiomart\n",
    "from pybiomart import Server\n",
    "import pandas as pd\n",
    "server = Server(host='http://www.ensembl.org')"
   ]
  },
  {
   "cell_type": "markdown",
   "metadata": {},
   "source": [
    "#### Show all services available\n",
    "\n",
    "#### The output of server.marts is a dictionary. Using pandas to convert into a dataframe"
   ]
  },
  {
   "cell_type": "code",
   "execution_count": 3,
   "metadata": {},
   "outputs": [
    {
     "data": {
      "text/html": [
       "<div>\n",
       "<style scoped>\n",
       "    .dataframe tbody tr th:only-of-type {\n",
       "        vertical-align: middle;\n",
       "    }\n",
       "\n",
       "    .dataframe tbody tr th {\n",
       "        vertical-align: top;\n",
       "    }\n",
       "\n",
       "    .dataframe thead th {\n",
       "        text-align: right;\n",
       "    }\n",
       "</style>\n",
       "<table border=\"1\" class=\"dataframe\">\n",
       "  <thead>\n",
       "    <tr style=\"text-align: right;\">\n",
       "      <th></th>\n",
       "      <th>0</th>\n",
       "    </tr>\n",
       "  </thead>\n",
       "  <tbody>\n",
       "    <tr>\n",
       "      <th>ENSEMBL_MART_ENSEMBL</th>\n",
       "      <td>&lt;biomart.Mart name='ENSEMBL_MART_ENSEMBL', dis...</td>\n",
       "    </tr>\n",
       "    <tr>\n",
       "      <th>ENSEMBL_MART_MOUSE</th>\n",
       "      <td>&lt;biomart.Mart name='ENSEMBL_MART_MOUSE', displ...</td>\n",
       "    </tr>\n",
       "    <tr>\n",
       "      <th>ENSEMBL_MART_SEQUENCE</th>\n",
       "      <td>&lt;biomart.Mart name='ENSEMBL_MART_SEQUENCE', di...</td>\n",
       "    </tr>\n",
       "    <tr>\n",
       "      <th>ENSEMBL_MART_ONTOLOGY</th>\n",
       "      <td>&lt;biomart.Mart name='ENSEMBL_MART_ONTOLOGY', di...</td>\n",
       "    </tr>\n",
       "    <tr>\n",
       "      <th>ENSEMBL_MART_GENOMIC</th>\n",
       "      <td>&lt;biomart.Mart name='ENSEMBL_MART_GENOMIC', dis...</td>\n",
       "    </tr>\n",
       "    <tr>\n",
       "      <th>ENSEMBL_MART_SNP</th>\n",
       "      <td>&lt;biomart.Mart name='ENSEMBL_MART_SNP', display...</td>\n",
       "    </tr>\n",
       "    <tr>\n",
       "      <th>ENSEMBL_MART_FUNCGEN</th>\n",
       "      <td>&lt;biomart.Mart name='ENSEMBL_MART_FUNCGEN', dis...</td>\n",
       "    </tr>\n",
       "  </tbody>\n",
       "</table>\n",
       "</div>"
      ],
      "text/plain": [
       "                                                                       0\n",
       "ENSEMBL_MART_ENSEMBL   <biomart.Mart name='ENSEMBL_MART_ENSEMBL', dis...\n",
       "ENSEMBL_MART_MOUSE     <biomart.Mart name='ENSEMBL_MART_MOUSE', displ...\n",
       "ENSEMBL_MART_SEQUENCE  <biomart.Mart name='ENSEMBL_MART_SEQUENCE', di...\n",
       "ENSEMBL_MART_ONTOLOGY  <biomart.Mart name='ENSEMBL_MART_ONTOLOGY', di...\n",
       "ENSEMBL_MART_GENOMIC   <biomart.Mart name='ENSEMBL_MART_GENOMIC', dis...\n",
       "ENSEMBL_MART_SNP       <biomart.Mart name='ENSEMBL_MART_SNP', display...\n",
       "ENSEMBL_MART_FUNCGEN   <biomart.Mart name='ENSEMBL_MART_FUNCGEN', dis..."
      ]
     },
     "execution_count": 3,
     "metadata": {},
     "output_type": "execute_result"
    }
   ],
   "source": [
    "marts = server.marts\n",
    "pd.DataFrame.from_dict(marts, orient='index')"
   ]
  },
  {
   "cell_type": "markdown",
   "metadata": {},
   "source": [
    "#### Select a specific Biomart and list all avalible dataset"
   ]
  },
  {
   "cell_type": "code",
   "execution_count": 4,
   "metadata": {},
   "outputs": [
    {
     "data": {
      "text/html": [
       "<div>\n",
       "<style scoped>\n",
       "    .dataframe tbody tr th:only-of-type {\n",
       "        vertical-align: middle;\n",
       "    }\n",
       "\n",
       "    .dataframe tbody tr th {\n",
       "        vertical-align: top;\n",
       "    }\n",
       "\n",
       "    .dataframe thead th {\n",
       "        text-align: right;\n",
       "    }\n",
       "</style>\n",
       "<table border=\"1\" class=\"dataframe\">\n",
       "  <thead>\n",
       "    <tr style=\"text-align: right;\">\n",
       "      <th></th>\n",
       "      <th>0</th>\n",
       "    </tr>\n",
       "  </thead>\n",
       "  <tbody>\n",
       "    <tr>\n",
       "      <th>mmoschiferus_gene_ensembl</th>\n",
       "      <td>&lt;biomart.Dataset name='mmoschiferus_gene_ensem...</td>\n",
       "    </tr>\n",
       "    <tr>\n",
       "      <th>otshawytscha_gene_ensembl</th>\n",
       "      <td>&lt;biomart.Dataset name='otshawytscha_gene_ensem...</td>\n",
       "    </tr>\n",
       "    <tr>\n",
       "      <th>smerianae_gene_ensembl</th>\n",
       "      <td>&lt;biomart.Dataset name='smerianae_gene_ensembl'...</td>\n",
       "    </tr>\n",
       "    <tr>\n",
       "      <th>eburgeri_gene_ensembl</th>\n",
       "      <td>&lt;biomart.Dataset name='eburgeri_gene_ensembl',...</td>\n",
       "    </tr>\n",
       "    <tr>\n",
       "      <th>csabaeus_gene_ensembl</th>\n",
       "      <td>&lt;biomart.Dataset name='csabaeus_gene_ensembl',...</td>\n",
       "    </tr>\n",
       "    <tr>\n",
       "      <th>...</th>\n",
       "      <td>...</td>\n",
       "    </tr>\n",
       "    <tr>\n",
       "      <th>rbieti_gene_ensembl</th>\n",
       "      <td>&lt;biomart.Dataset name='rbieti_gene_ensembl', d...</td>\n",
       "    </tr>\n",
       "    <tr>\n",
       "      <th>gmorhua_gene_ensembl</th>\n",
       "      <td>&lt;biomart.Dataset name='gmorhua_gene_ensembl', ...</td>\n",
       "    </tr>\n",
       "    <tr>\n",
       "      <th>pnyererei_gene_ensembl</th>\n",
       "      <td>&lt;biomart.Dataset name='pnyererei_gene_ensembl'...</td>\n",
       "    </tr>\n",
       "    <tr>\n",
       "      <th>cdromedarius_gene_ensembl</th>\n",
       "      <td>&lt;biomart.Dataset name='cdromedarius_gene_ensem...</td>\n",
       "    </tr>\n",
       "    <tr>\n",
       "      <th>mgallopavo_gene_ensembl</th>\n",
       "      <td>&lt;biomart.Dataset name='mgallopavo_gene_ensembl...</td>\n",
       "    </tr>\n",
       "  </tbody>\n",
       "</table>\n",
       "<p>202 rows × 1 columns</p>\n",
       "</div>"
      ],
      "text/plain": [
       "                                                                           0\n",
       "mmoschiferus_gene_ensembl  <biomart.Dataset name='mmoschiferus_gene_ensem...\n",
       "otshawytscha_gene_ensembl  <biomart.Dataset name='otshawytscha_gene_ensem...\n",
       "smerianae_gene_ensembl     <biomart.Dataset name='smerianae_gene_ensembl'...\n",
       "eburgeri_gene_ensembl      <biomart.Dataset name='eburgeri_gene_ensembl',...\n",
       "csabaeus_gene_ensembl      <biomart.Dataset name='csabaeus_gene_ensembl',...\n",
       "...                                                                      ...\n",
       "rbieti_gene_ensembl        <biomart.Dataset name='rbieti_gene_ensembl', d...\n",
       "gmorhua_gene_ensembl       <biomart.Dataset name='gmorhua_gene_ensembl', ...\n",
       "pnyererei_gene_ensembl     <biomart.Dataset name='pnyererei_gene_ensembl'...\n",
       "cdromedarius_gene_ensembl  <biomart.Dataset name='cdromedarius_gene_ensem...\n",
       "mgallopavo_gene_ensembl    <biomart.Dataset name='mgallopavo_gene_ensembl...\n",
       "\n",
       "[202 rows x 1 columns]"
      ]
     },
     "execution_count": 4,
     "metadata": {},
     "output_type": "execute_result"
    }
   ],
   "source": [
    "ensembl = server.marts['ENSEMBL_MART_ENSEMBL'].datasets\n",
    "pd.DataFrame.from_dict(ensembl, orient='index')"
   ]
  },
  {
   "cell_type": "markdown",
   "metadata": {},
   "source": [
    "#### Look for human genome\n",
    "\n",
    "#### filter function paired with lambda to grep elements that contains keyword \"sapiens\""
   ]
  },
  {
   "cell_type": "code",
   "execution_count": 5,
   "metadata": {},
   "outputs": [
    {
     "data": {
      "text/plain": [
       "['hsapiens_gene_ensembl']"
      ]
     },
     "execution_count": 5,
     "metadata": {},
     "output_type": "execute_result"
    }
   ],
   "source": [
    "list(filter(lambda x:'sapiens' in x, ensembl.keys()))"
   ]
  },
  {
   "cell_type": "code",
   "execution_count": 6,
   "metadata": {},
   "outputs": [],
   "source": [
    "# select dataset\n",
    "hg38 = ensembl['hsapiens_gene_ensembl']"
   ]
  },
  {
   "cell_type": "code",
   "execution_count": 7,
   "metadata": {},
   "outputs": [
    {
     "data": {
      "text/html": [
       "<div>\n",
       "<style scoped>\n",
       "    .dataframe tbody tr th:only-of-type {\n",
       "        vertical-align: middle;\n",
       "    }\n",
       "\n",
       "    .dataframe tbody tr th {\n",
       "        vertical-align: top;\n",
       "    }\n",
       "\n",
       "    .dataframe thead th {\n",
       "        text-align: right;\n",
       "    }\n",
       "</style>\n",
       "<table border=\"1\" class=\"dataframe\">\n",
       "  <thead>\n",
       "    <tr style=\"text-align: right;\">\n",
       "      <th></th>\n",
       "      <th>Gene stable ID</th>\n",
       "      <th>Gene name</th>\n",
       "    </tr>\n",
       "  </thead>\n",
       "  <tbody>\n",
       "    <tr>\n",
       "      <th>0</th>\n",
       "      <td>ENSG00000223972</td>\n",
       "      <td>DDX11L1</td>\n",
       "    </tr>\n",
       "    <tr>\n",
       "      <th>1</th>\n",
       "      <td>ENSG00000227232</td>\n",
       "      <td>WASH7P</td>\n",
       "    </tr>\n",
       "    <tr>\n",
       "      <th>2</th>\n",
       "      <td>ENSG00000278267</td>\n",
       "      <td>MIR6859-1</td>\n",
       "    </tr>\n",
       "    <tr>\n",
       "      <th>3</th>\n",
       "      <td>ENSG00000243485</td>\n",
       "      <td>MIR1302-2HG</td>\n",
       "    </tr>\n",
       "    <tr>\n",
       "      <th>4</th>\n",
       "      <td>ENSG00000284332</td>\n",
       "      <td>MIR1302-2</td>\n",
       "    </tr>\n",
       "    <tr>\n",
       "      <th>...</th>\n",
       "      <td>...</td>\n",
       "      <td>...</td>\n",
       "    </tr>\n",
       "    <tr>\n",
       "      <th>9666</th>\n",
       "      <td>ENSG00000261186</td>\n",
       "      <td>LINC01238</td>\n",
       "    </tr>\n",
       "    <tr>\n",
       "      <th>9667</th>\n",
       "      <td>ENSG00000220804</td>\n",
       "      <td>LINC01881</td>\n",
       "    </tr>\n",
       "    <tr>\n",
       "      <th>9668</th>\n",
       "      <td>ENSG00000224160</td>\n",
       "      <td>CICP10</td>\n",
       "    </tr>\n",
       "    <tr>\n",
       "      <th>9669</th>\n",
       "      <td>ENSG00000244528</td>\n",
       "      <td>SEPTIN14P2</td>\n",
       "    </tr>\n",
       "    <tr>\n",
       "      <th>9670</th>\n",
       "      <td>ENSG00000271153</td>\n",
       "      <td>RPL23AP88</td>\n",
       "    </tr>\n",
       "  </tbody>\n",
       "</table>\n",
       "<p>9671 rows × 2 columns</p>\n",
       "</div>"
      ],
      "text/plain": [
       "       Gene stable ID    Gene name\n",
       "0     ENSG00000223972      DDX11L1\n",
       "1     ENSG00000227232       WASH7P\n",
       "2     ENSG00000278267    MIR6859-1\n",
       "3     ENSG00000243485  MIR1302-2HG\n",
       "4     ENSG00000284332    MIR1302-2\n",
       "...               ...          ...\n",
       "9666  ENSG00000261186    LINC01238\n",
       "9667  ENSG00000220804    LINC01881\n",
       "9668  ENSG00000224160       CICP10\n",
       "9669  ENSG00000244528   SEPTIN14P2\n",
       "9670  ENSG00000271153    RPL23AP88\n",
       "\n",
       "[9671 rows x 2 columns]"
      ]
     },
     "execution_count": 7,
     "metadata": {},
     "output_type": "execute_result"
    }
   ],
   "source": [
    "hg38.query(attributes=['ensembl_gene_id', 'external_gene_name'],\n",
    "              filters={'chromosome_name': ['1','2']})"
   ]
  },
  {
   "cell_type": "markdown",
   "metadata": {},
   "source": [
    "#### What are filters"
   ]
  },
  {
   "cell_type": "code",
   "execution_count": 8,
   "metadata": {
    "scrolled": true
   },
   "outputs": [
    {
     "data": {
      "text/html": [
       "<div>\n",
       "<style scoped>\n",
       "    .dataframe tbody tr th:only-of-type {\n",
       "        vertical-align: middle;\n",
       "    }\n",
       "\n",
       "    .dataframe tbody tr th {\n",
       "        vertical-align: top;\n",
       "    }\n",
       "\n",
       "    .dataframe thead th {\n",
       "        text-align: right;\n",
       "    }\n",
       "</style>\n",
       "<table border=\"1\" class=\"dataframe\">\n",
       "  <thead>\n",
       "    <tr style=\"text-align: right;\">\n",
       "      <th></th>\n",
       "      <th>0</th>\n",
       "    </tr>\n",
       "  </thead>\n",
       "  <tbody>\n",
       "    <tr>\n",
       "      <th>link_so_mini_closure</th>\n",
       "      <td>&lt;biomart.Filter name='link_so_mini_closure', t...</td>\n",
       "    </tr>\n",
       "    <tr>\n",
       "      <th>link_go_closure</th>\n",
       "      <td>&lt;biomart.Filter name='link_go_closure', type='...</td>\n",
       "    </tr>\n",
       "    <tr>\n",
       "      <th>link_ensembl_transcript_stable_id</th>\n",
       "      <td>&lt;biomart.Filter name='link_ensembl_transcript_...</td>\n",
       "    </tr>\n",
       "    <tr>\n",
       "      <th>gene_id</th>\n",
       "      <td>&lt;biomart.Filter name='gene_id', type='text'&gt;</td>\n",
       "    </tr>\n",
       "    <tr>\n",
       "      <th>transcript_id</th>\n",
       "      <td>&lt;biomart.Filter name='transcript_id', type='te...</td>\n",
       "    </tr>\n",
       "  </tbody>\n",
       "</table>\n",
       "</div>"
      ],
      "text/plain": [
       "                                                                                   0\n",
       "link_so_mini_closure               <biomart.Filter name='link_so_mini_closure', t...\n",
       "link_go_closure                    <biomart.Filter name='link_go_closure', type='...\n",
       "link_ensembl_transcript_stable_id  <biomart.Filter name='link_ensembl_transcript_...\n",
       "gene_id                                 <biomart.Filter name='gene_id', type='text'>\n",
       "transcript_id                      <biomart.Filter name='transcript_id', type='te..."
      ]
     },
     "execution_count": 8,
     "metadata": {},
     "output_type": "execute_result"
    }
   ],
   "source": [
    "# filters\n",
    "pd.DataFrame.from_dict(hg38.filters,orient='index').head()"
   ]
  },
  {
   "cell_type": "markdown",
   "metadata": {},
   "source": [
    "#### What are attributes"
   ]
  },
  {
   "cell_type": "code",
   "execution_count": 9,
   "metadata": {},
   "outputs": [
    {
     "data": {
      "text/html": [
       "<div>\n",
       "<style scoped>\n",
       "    .dataframe tbody tr th:only-of-type {\n",
       "        vertical-align: middle;\n",
       "    }\n",
       "\n",
       "    .dataframe tbody tr th {\n",
       "        vertical-align: top;\n",
       "    }\n",
       "\n",
       "    .dataframe thead th {\n",
       "        text-align: right;\n",
       "    }\n",
       "</style>\n",
       "<table border=\"1\" class=\"dataframe\">\n",
       "  <thead>\n",
       "    <tr style=\"text-align: right;\">\n",
       "      <th></th>\n",
       "      <th>0</th>\n",
       "    </tr>\n",
       "  </thead>\n",
       "  <tbody>\n",
       "    <tr>\n",
       "      <th>ensembl_gene_id</th>\n",
       "      <td>&lt;biomart.Attribute name='ensembl_gene_id', dis...</td>\n",
       "    </tr>\n",
       "    <tr>\n",
       "      <th>ensembl_gene_id_version</th>\n",
       "      <td>&lt;biomart.Attribute name='ensembl_gene_id_versi...</td>\n",
       "    </tr>\n",
       "    <tr>\n",
       "      <th>ensembl_transcript_id</th>\n",
       "      <td>&lt;biomart.Attribute name='ensembl_transcript_id...</td>\n",
       "    </tr>\n",
       "    <tr>\n",
       "      <th>ensembl_transcript_id_version</th>\n",
       "      <td>&lt;biomart.Attribute name='ensembl_transcript_id...</td>\n",
       "    </tr>\n",
       "    <tr>\n",
       "      <th>ensembl_peptide_id</th>\n",
       "      <td>&lt;biomart.Attribute name='ensembl_peptide_id', ...</td>\n",
       "    </tr>\n",
       "  </tbody>\n",
       "</table>\n",
       "</div>"
      ],
      "text/plain": [
       "                                                                               0\n",
       "ensembl_gene_id                <biomart.Attribute name='ensembl_gene_id', dis...\n",
       "ensembl_gene_id_version        <biomart.Attribute name='ensembl_gene_id_versi...\n",
       "ensembl_transcript_id          <biomart.Attribute name='ensembl_transcript_id...\n",
       "ensembl_transcript_id_version  <biomart.Attribute name='ensembl_transcript_id...\n",
       "ensembl_peptide_id             <biomart.Attribute name='ensembl_peptide_id', ..."
      ]
     },
     "execution_count": 9,
     "metadata": {},
     "output_type": "execute_result"
    }
   ],
   "source": [
    "# attributes\n",
    "pd.DataFrame.from_dict(hg38.attributes,orient='index').head()"
   ]
  },
  {
   "cell_type": "markdown",
   "metadata": {},
   "source": [
    "#### Ways to look for specific attributes"
   ]
  },
  {
   "cell_type": "code",
   "execution_count": 10,
   "metadata": {},
   "outputs": [
    {
     "data": {
      "text/plain": [
       "['affy_hc_g110',\n",
       " 'affy_hg_focus',\n",
       " 'affy_hg_u133a',\n",
       " 'affy_hg_u133a_2',\n",
       " 'affy_hg_u133b',\n",
       " 'affy_hg_u133_plus_2',\n",
       " 'affy_hg_u95a',\n",
       " 'affy_hg_u95av2',\n",
       " 'affy_hg_u95b',\n",
       " 'affy_hg_u95c',\n",
       " 'affy_hg_u95d',\n",
       " 'affy_hg_u95e',\n",
       " 'affy_hta_2_0',\n",
       " 'affy_huex_1_0_st_v2',\n",
       " 'affy_hugenefl',\n",
       " 'affy_hugene_1_0_st_v1',\n",
       " 'affy_hugene_2_0_st_v1',\n",
       " 'affy_primeview',\n",
       " 'affy_u133_x3p']"
      ]
     },
     "execution_count": 10,
     "metadata": {},
     "output_type": "execute_result"
    }
   ],
   "source": [
    "list(filter(lambda x:'affy' in x, hg38.attributes.keys()))"
   ]
  },
  {
   "cell_type": "code",
   "execution_count": 11,
   "metadata": {},
   "outputs": [
    {
     "data": {
      "text/html": [
       "<div>\n",
       "<style scoped>\n",
       "    .dataframe tbody tr th:only-of-type {\n",
       "        vertical-align: middle;\n",
       "    }\n",
       "\n",
       "    .dataframe tbody tr th {\n",
       "        vertical-align: top;\n",
       "    }\n",
       "\n",
       "    .dataframe thead th {\n",
       "        text-align: right;\n",
       "    }\n",
       "</style>\n",
       "<table border=\"1\" class=\"dataframe\">\n",
       "  <thead>\n",
       "    <tr style=\"text-align: right;\">\n",
       "      <th></th>\n",
       "      <th>Gene stable ID</th>\n",
       "      <th>Gene description</th>\n",
       "      <th>AFFY HG U133A probe</th>\n",
       "    </tr>\n",
       "  </thead>\n",
       "  <tbody>\n",
       "    <tr>\n",
       "      <th>0</th>\n",
       "      <td>ENSG00000223972</td>\n",
       "      <td>DEAD/H-box helicase 11 like 1 (pseudogene) [So...</td>\n",
       "      <td>NaN</td>\n",
       "    </tr>\n",
       "    <tr>\n",
       "      <th>1</th>\n",
       "      <td>ENSG00000227232</td>\n",
       "      <td>WASP family homolog 7, pseudogene [Source:HGNC...</td>\n",
       "      <td>NaN</td>\n",
       "    </tr>\n",
       "    <tr>\n",
       "      <th>2</th>\n",
       "      <td>ENSG00000278267</td>\n",
       "      <td>microRNA 6859-1 [Source:HGNC Symbol;Acc:HGNC:5...</td>\n",
       "      <td>NaN</td>\n",
       "    </tr>\n",
       "    <tr>\n",
       "      <th>3</th>\n",
       "      <td>ENSG00000243485</td>\n",
       "      <td>MIR1302-2 host gene [Source:HGNC Symbol;Acc:HG...</td>\n",
       "      <td>NaN</td>\n",
       "    </tr>\n",
       "    <tr>\n",
       "      <th>4</th>\n",
       "      <td>ENSG00000284332</td>\n",
       "      <td>microRNA 1302-2 [Source:HGNC Symbol;Acc:HGNC:3...</td>\n",
       "      <td>NaN</td>\n",
       "    </tr>\n",
       "    <tr>\n",
       "      <th>...</th>\n",
       "      <td>...</td>\n",
       "      <td>...</td>\n",
       "      <td>...</td>\n",
       "    </tr>\n",
       "    <tr>\n",
       "      <th>7340</th>\n",
       "      <td>ENSG00000171163</td>\n",
       "      <td>zinc finger protein 692 [Source:HGNC Symbol;Ac...</td>\n",
       "      <td>NaN</td>\n",
       "    </tr>\n",
       "    <tr>\n",
       "      <th>7341</th>\n",
       "      <td>ENSG00000227237</td>\n",
       "      <td>novel transcript</td>\n",
       "      <td>NaN</td>\n",
       "    </tr>\n",
       "    <tr>\n",
       "      <th>7342</th>\n",
       "      <td>ENSG00000185220</td>\n",
       "      <td>piggyBac transposable element derived 2 [Sourc...</td>\n",
       "      <td>NaN</td>\n",
       "    </tr>\n",
       "    <tr>\n",
       "      <th>7343</th>\n",
       "      <td>ENSG00000200495</td>\n",
       "      <td>RNA, U6 small nuclear 1205, pseudogene [Source...</td>\n",
       "      <td>NaN</td>\n",
       "    </tr>\n",
       "    <tr>\n",
       "      <th>7344</th>\n",
       "      <td>ENSG00000233084</td>\n",
       "      <td>ribosomal protein L23a pseudogene 25 [Source:H...</td>\n",
       "      <td>221634_at</td>\n",
       "    </tr>\n",
       "  </tbody>\n",
       "</table>\n",
       "<p>7345 rows × 3 columns</p>\n",
       "</div>"
      ],
      "text/plain": [
       "       Gene stable ID                                   Gene description  \\\n",
       "0     ENSG00000223972  DEAD/H-box helicase 11 like 1 (pseudogene) [So...   \n",
       "1     ENSG00000227232  WASP family homolog 7, pseudogene [Source:HGNC...   \n",
       "2     ENSG00000278267  microRNA 6859-1 [Source:HGNC Symbol;Acc:HGNC:5...   \n",
       "3     ENSG00000243485  MIR1302-2 host gene [Source:HGNC Symbol;Acc:HG...   \n",
       "4     ENSG00000284332  microRNA 1302-2 [Source:HGNC Symbol;Acc:HGNC:3...   \n",
       "...               ...                                                ...   \n",
       "7340  ENSG00000171163  zinc finger protein 692 [Source:HGNC Symbol;Ac...   \n",
       "7341  ENSG00000227237                                   novel transcript   \n",
       "7342  ENSG00000185220  piggyBac transposable element derived 2 [Sourc...   \n",
       "7343  ENSG00000200495  RNA, U6 small nuclear 1205, pseudogene [Source...   \n",
       "7344  ENSG00000233084  ribosomal protein L23a pseudogene 25 [Source:H...   \n",
       "\n",
       "     AFFY HG U133A probe  \n",
       "0                    NaN  \n",
       "1                    NaN  \n",
       "2                    NaN  \n",
       "3                    NaN  \n",
       "4                    NaN  \n",
       "...                  ...  \n",
       "7340                 NaN  \n",
       "7341                 NaN  \n",
       "7342                 NaN  \n",
       "7343                 NaN  \n",
       "7344           221634_at  \n",
       "\n",
       "[7345 rows x 3 columns]"
      ]
     },
     "execution_count": 11,
     "metadata": {},
     "output_type": "execute_result"
    }
   ],
   "source": [
    "hg38.query(attributes=['ensembl_gene_id', 'description', \"affy_hg_u133a\"],\n",
    "              filters={'chromosome_name': 1})"
   ]
  },
  {
   "cell_type": "code",
   "execution_count": null,
   "metadata": {},
   "outputs": [],
   "source": []
  }
 ],
 "metadata": {
  "kernelspec": {
   "display_name": "Python 3",
   "language": "python",
   "name": "python3"
  },
  "language_info": {
   "codemirror_mode": {
    "name": "ipython",
    "version": 3
   },
   "file_extension": ".py",
   "mimetype": "text/x-python",
   "name": "python",
   "nbconvert_exporter": "python",
   "pygments_lexer": "ipython3",
   "version": "3.7.6"
  }
 },
 "nbformat": 4,
 "nbformat_minor": 2
}
