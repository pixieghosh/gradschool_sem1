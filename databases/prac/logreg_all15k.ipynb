{
 "cells": [
  {
   "cell_type": "code",
   "execution_count": 51,
   "metadata": {},
   "outputs": [],
   "source": [
    "import numpy as np \n",
    "import pandas as pd \n",
    "from sklearn.linear_model import LogisticRegression\n",
    "from sklearn.model_selection import train_test_split, cross_val_score, cross_val_predict\n",
    "from sklearn.metrics import (accuracy_score,precision_score,recall_score,confusion_matrix,\n",
    "plot_confusion_matrix,plot_roc_curve)\n",
    "\n"
   ]
  },
  {
   "cell_type": "code",
   "execution_count": 35,
   "metadata": {},
   "outputs": [
    {
     "data": {
      "text/html": [
       "<div>\n",
       "<style scoped>\n",
       "    .dataframe tbody tr th:only-of-type {\n",
       "        vertical-align: middle;\n",
       "    }\n",
       "\n",
       "    .dataframe tbody tr th {\n",
       "        vertical-align: top;\n",
       "    }\n",
       "\n",
       "    .dataframe thead th {\n",
       "        text-align: right;\n",
       "    }\n",
       "</style>\n",
       "<table border=\"1\" class=\"dataframe\">\n",
       "  <thead>\n",
       "    <tr style=\"text-align: right;\">\n",
       "      <th></th>\n",
       "      <th>dateofbirth</th>\n",
       "      <th>maritalstatus</th>\n",
       "      <th>race</th>\n",
       "      <th>ageatdiagnosis</th>\n",
       "      <th>alivestatus</th>\n",
       "      <th>survivaltime</th>\n",
       "      <th>grade</th>\n",
       "      <th>nodesexam</th>\n",
       "      <th>nodespos</th>\n",
       "      <th>extent</th>\n",
       "      <th>nodalstatus</th>\n",
       "      <th>size</th>\n",
       "      <th>pgr</th>\n",
       "      <th>er</th>\n",
       "    </tr>\n",
       "  </thead>\n",
       "  <tbody>\n",
       "    <tr>\n",
       "      <th>pid00001</th>\n",
       "      <td>28/01/1932</td>\n",
       "      <td>5</td>\n",
       "      <td>2</td>\n",
       "      <td>61</td>\n",
       "      <td>0</td>\n",
       "      <td>110</td>\n",
       "      <td>3</td>\n",
       "      <td>32</td>\n",
       "      <td>3</td>\n",
       "      <td>10</td>\n",
       "      <td>6</td>\n",
       "      <td>60</td>\n",
       "      <td>2</td>\n",
       "      <td>2</td>\n",
       "    </tr>\n",
       "    <tr>\n",
       "      <th>pid00002</th>\n",
       "      <td>07/05/1934</td>\n",
       "      <td>2</td>\n",
       "      <td>3</td>\n",
       "      <td>60</td>\n",
       "      <td>0</td>\n",
       "      <td>100</td>\n",
       "      <td>2</td>\n",
       "      <td>13</td>\n",
       "      <td>1</td>\n",
       "      <td>10</td>\n",
       "      <td>6</td>\n",
       "      <td>15</td>\n",
       "      <td>1</td>\n",
       "      <td>1</td>\n",
       "    </tr>\n",
       "    <tr>\n",
       "      <th>pid00003</th>\n",
       "      <td>14/04/1921</td>\n",
       "      <td>5</td>\n",
       "      <td>3</td>\n",
       "      <td>76</td>\n",
       "      <td>0</td>\n",
       "      <td>70</td>\n",
       "      <td>3</td>\n",
       "      <td>8</td>\n",
       "      <td>0</td>\n",
       "      <td>10</td>\n",
       "      <td>0</td>\n",
       "      <td>8</td>\n",
       "      <td>1</td>\n",
       "      <td>1</td>\n",
       "    </tr>\n",
       "    <tr>\n",
       "      <th>pid00004</th>\n",
       "      <td>08/11/1931</td>\n",
       "      <td>3</td>\n",
       "      <td>3</td>\n",
       "      <td>61</td>\n",
       "      <td>1</td>\n",
       "      <td>31</td>\n",
       "      <td>3</td>\n",
       "      <td>20</td>\n",
       "      <td>0</td>\n",
       "      <td>10</td>\n",
       "      <td>0</td>\n",
       "      <td>10</td>\n",
       "      <td>2</td>\n",
       "      <td>2</td>\n",
       "    </tr>\n",
       "    <tr>\n",
       "      <th>pid00005</th>\n",
       "      <td>08/01/1922</td>\n",
       "      <td>2</td>\n",
       "      <td>3</td>\n",
       "      <td>74</td>\n",
       "      <td>1</td>\n",
       "      <td>47</td>\n",
       "      <td>2</td>\n",
       "      <td>16</td>\n",
       "      <td>8</td>\n",
       "      <td>10</td>\n",
       "      <td>6</td>\n",
       "      <td>15</td>\n",
       "      <td>2</td>\n",
       "      <td>1</td>\n",
       "    </tr>\n",
       "  </tbody>\n",
       "</table>\n",
       "</div>"
      ],
      "text/plain": [
       "         dateofbirth  maritalstatus  race  ageatdiagnosis  alivestatus  \\\n",
       "pid00001  28/01/1932              5     2              61            0   \n",
       "pid00002  07/05/1934              2     3              60            0   \n",
       "pid00003  14/04/1921              5     3              76            0   \n",
       "pid00004  08/11/1931              3     3              61            1   \n",
       "pid00005  08/01/1922              2     3              74            1   \n",
       "\n",
       "          survivaltime  grade  nodesexam  nodespos  extent  nodalstatus  size  \\\n",
       "pid00001           110      3         32         3      10            6    60   \n",
       "pid00002           100      2         13         1      10            6    15   \n",
       "pid00003            70      3          8         0      10            0     8   \n",
       "pid00004            31      3         20         0      10            0    10   \n",
       "pid00005            47      2         16         8      10            6    15   \n",
       "\n",
       "          pgr  er  \n",
       "pid00001    2   2  \n",
       "pid00002    1   1  \n",
       "pid00003    1   1  \n",
       "pid00004    2   2  \n",
       "pid00005    2   1  "
      ]
     },
     "execution_count": 35,
     "metadata": {},
     "output_type": "execute_result"
    }
   ],
   "source": [
    "# load data\n",
    "df_patients = pd.read_csv('../data/all.15k.patients.txt',sep = '\\t')\n",
    "df_patients.head()"
   ]
  },
  {
   "cell_type": "code",
   "execution_count": 36,
   "metadata": {},
   "outputs": [
    {
     "data": {
      "text/plain": [
       "maritalstatus     0.007629\n",
       "race             -0.103914\n",
       "ageatdiagnosis    0.004361\n",
       "alivestatus       1.000000\n",
       "survivaltime     -0.652302\n",
       "grade             0.215818\n",
       "nodesexam         0.009837\n",
       "nodespos          0.333624\n",
       "extent            0.163409\n",
       "nodalstatus       0.301774\n",
       "size              0.282724\n",
       "pgr               0.126428\n",
       "er                0.125475\n",
       "Name: alivestatus, dtype: float64"
      ]
     },
     "execution_count": 36,
     "metadata": {},
     "output_type": "execute_result"
    }
   ],
   "source": [
    "# calculate correlation between variables\n",
    "df_patients.corr()['alivestatus']"
   ]
  },
  {
   "cell_type": "code",
   "execution_count": 37,
   "metadata": {},
   "outputs": [],
   "source": [
    "#make train and test set\n",
    "x_train,x_test,y_train,y_test = train_test_split(df_patients.loc[:,['size','nodespos','grade','nodalstatus','survivaltime']],df_patients['alivestatus'],test_size=0.2,random_state=777,stratify=df_patients['alivestatus'])"
   ]
  },
  {
   "cell_type": "code",
   "execution_count": 38,
   "metadata": {},
   "outputs": [],
   "source": [
    "# create logistic regression model\n",
    "model = LogisticRegression()\n",
    "model = model.fit(x_train,y_train)"
   ]
  },
  {
   "cell_type": "code",
   "execution_count": 39,
   "metadata": {},
   "outputs": [],
   "source": [
    "# predict from test set\n",
    "y_pred = model.predict(x_test)\n",
    "y_pred_train = model.predict(x_train)"
   ]
  },
  {
   "cell_type": "code",
   "execution_count": 40,
   "metadata": {},
   "outputs": [],
   "source": [
    "# calculate metrics w training set\n",
    "mat_train = confusion_matrix(y_pred_train,y_train)\n",
    "accuracy_train = accuracy_score(y_pred_train,y_train)\n",
    "precision_train = precision_score(y_pred_train,y_train)\n",
    "recall_train = recall_score(y_pred_train,y_train)"
   ]
  },
  {
   "cell_type": "code",
   "execution_count": 41,
   "metadata": {},
   "outputs": [],
   "source": [
    "# calculate metrics w test set\n",
    "mat = confusion_matrix(y_pred,y_test)\n",
    "accuracy = accuracy_score(y_pred,y_test)\n",
    "precision = precision_score(y_pred,y_test)\n",
    "recall = recall_score(y_pred,y_test)\n"
   ]
  },
  {
   "cell_type": "code",
   "execution_count": 42,
   "metadata": {},
   "outputs": [
    {
     "data": {
      "text/plain": [
       "4.44464609800363"
      ]
     },
     "execution_count": 42,
     "metadata": {},
     "output_type": "execute_result"
    }
   ],
   "source": [
    "# find ratio of alive status 0:1\n",
    "dead = df_patients[df_patients['alivestatus'] == 0]\n",
    "alive = df_patients[df_patients['alivestatus'] == 1]\n",
    "dead.shape[0]/alive.shape[0]\n",
    "\n",
    "y_test[y_test == 0].shape[0]/y_test[y_test == 1].shape[0]"
   ]
  },
  {
   "cell_type": "code",
   "execution_count": 49,
   "metadata": {},
   "outputs": [
    {
     "name": "stderr",
     "output_type": "stream",
     "text": [
      "Fontconfig warning: ignoring UTF-8: not a valid region tag\n"
     ]
    },
    {
     "data": {
      "text/plain": [
       "<sklearn.metrics._plot.confusion_matrix.ConfusionMatrixDisplay at 0x7fcf2751c370>"
      ]
     },
     "execution_count": 49,
     "metadata": {},
     "output_type": "execute_result"
    },
    {
     "data": {
      "image/png": "[encoded data removed]",
      "text/plain": [
       "<Figure size 432x288 with 2 Axes>"
      ]
     },
     "metadata": {
      "needs_background": "light"
     },
     "output_type": "display_data"
    }
   ],
   "source": [
    "# plot confusion matrxie\n",
    "plot_confusion_matrix(model,x_test,y_test.values.reshape(-1,1))"
   ]
  },
  {
   "cell_type": "code",
   "execution_count": 50,
   "metadata": {},
   "outputs": [
    {
     "data": {
      "text/plain": [
       "<sklearn.metrics._plot.roc_curve.RocCurveDisplay at 0x7fcf246b1790>"
      ]
     },
     "execution_count": 50,
     "metadata": {},
     "output_type": "execute_result"
    },
    {
     "data": {
      "image/png": "[encoded data removed]",
      "text/plain": [
       "<Figure size 432x288 with 1 Axes>"
      ]
     },
     "metadata": {
      "needs_background": "light"
     },
     "output_type": "display_data"
    }
   ],
   "source": [
    "# plot roc curve\n",
    "plot_roc_curve(model,x_test,y_test.values.reshape(-1,1))"
   ]
  },
  {
   "cell_type": "code",
   "execution_count": 55,
   "metadata": {},
   "outputs": [
    {
     "data": {
      "text/plain": [
       "0.004746343621966047"
      ]
     },
     "execution_count": 55,
     "metadata": {},
     "output_type": "execute_result"
    }
   ],
   "source": [
    "# cross validation to check for overfitting\n",
    "scores = cross_val_score(model,x_train,y_train)\n",
    "predictions = cross_val_predict(model,x_train,y_train)\n",
    "np.mean(scores)\n",
    "np.std(scores)"
   ]
  }
 ],
 "metadata": {
  "interpreter": {
   "hash": "40d3a090f54c6569ab1632332b64b2c03c39dcf918b08424e98f38b5ae0af88f"
  },
  "kernelspec": {
   "display_name": "Python 3.9.7 ('base')",
   "language": "python",
   "name": "python3"
  },
  "language_info": {
   "codemirror_mode": {
    "name": "ipython",
    "version": 3
   },
   "file_extension": ".py",
   "mimetype": "text/x-python",
   "name": "python",
   "nbconvert_exporter": "python",
   "pygments_lexer": "ipython3",
   "version": "3.9.7"
  },
  "orig_nbformat": 4
 },
 "nbformat": 4,
 "nbformat_minor": 2
}
