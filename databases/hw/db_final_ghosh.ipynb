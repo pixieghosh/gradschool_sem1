{
 "cells": [
  {
   "cell_type": "code",
   "execution_count": 57,
   "metadata": {},
   "outputs": [],
   "source": [
    "import pandas as pd\n",
    "import numpy as np\n",
    "from sklearn.ensemble import RandomForestClassifier, VotingClassifier\n",
    "from sklearn.neighbors import KNeighborsClassifier\n",
    "import matplotlib.pyplot as plt\n",
    "import seaborn as sns\n",
    "from sklearn.svm import SVC\n",
    "from sklearn.model_selection import train_test_split, GridSearchCV, cross_val_score\n",
    "from sklearn.metrics import plot_roc_curve\n",
    "from sklearn.preprocessing import StandardScaler"
   ]
  },
  {
   "cell_type": "code",
   "execution_count": 24,
   "metadata": {},
   "outputs": [
    {
     "data": {
      "text/html": [
       "<div>\n",
       "<style scoped>\n",
       "    .dataframe tbody tr th:only-of-type {\n",
       "        vertical-align: middle;\n",
       "    }\n",
       "\n",
       "    .dataframe tbody tr th {\n",
       "        vertical-align: top;\n",
       "    }\n",
       "\n",
       "    .dataframe thead th {\n",
       "        text-align: right;\n",
       "    }\n",
       "</style>\n",
       "<table border=\"1\" class=\"dataframe\">\n",
       "  <thead>\n",
       "    <tr style=\"text-align: right;\">\n",
       "      <th></th>\n",
       "      <th>Pregnancies</th>\n",
       "      <th>Glucose</th>\n",
       "      <th>BloodPressure</th>\n",
       "      <th>SkinThickness</th>\n",
       "      <th>Insulin</th>\n",
       "      <th>BMI</th>\n",
       "      <th>DiabetesPedigreeFunction</th>\n",
       "      <th>Age</th>\n",
       "      <th>Outcome</th>\n",
       "    </tr>\n",
       "  </thead>\n",
       "  <tbody>\n",
       "    <tr>\n",
       "      <th>0</th>\n",
       "      <td>6</td>\n",
       "      <td>148</td>\n",
       "      <td>72</td>\n",
       "      <td>35</td>\n",
       "      <td>0</td>\n",
       "      <td>33.6</td>\n",
       "      <td>0.627</td>\n",
       "      <td>50</td>\n",
       "      <td>1</td>\n",
       "    </tr>\n",
       "    <tr>\n",
       "      <th>1</th>\n",
       "      <td>1</td>\n",
       "      <td>85</td>\n",
       "      <td>66</td>\n",
       "      <td>29</td>\n",
       "      <td>0</td>\n",
       "      <td>26.6</td>\n",
       "      <td>0.351</td>\n",
       "      <td>31</td>\n",
       "      <td>0</td>\n",
       "    </tr>\n",
       "    <tr>\n",
       "      <th>2</th>\n",
       "      <td>8</td>\n",
       "      <td>183</td>\n",
       "      <td>64</td>\n",
       "      <td>0</td>\n",
       "      <td>0</td>\n",
       "      <td>23.3</td>\n",
       "      <td>0.672</td>\n",
       "      <td>32</td>\n",
       "      <td>1</td>\n",
       "    </tr>\n",
       "    <tr>\n",
       "      <th>3</th>\n",
       "      <td>1</td>\n",
       "      <td>89</td>\n",
       "      <td>66</td>\n",
       "      <td>23</td>\n",
       "      <td>94</td>\n",
       "      <td>28.1</td>\n",
       "      <td>0.167</td>\n",
       "      <td>21</td>\n",
       "      <td>0</td>\n",
       "    </tr>\n",
       "    <tr>\n",
       "      <th>4</th>\n",
       "      <td>0</td>\n",
       "      <td>137</td>\n",
       "      <td>40</td>\n",
       "      <td>35</td>\n",
       "      <td>168</td>\n",
       "      <td>43.1</td>\n",
       "      <td>2.288</td>\n",
       "      <td>33</td>\n",
       "      <td>1</td>\n",
       "    </tr>\n",
       "  </tbody>\n",
       "</table>\n",
       "</div>"
      ],
      "text/plain": [
       "   Pregnancies  Glucose  BloodPressure  SkinThickness  Insulin   BMI  \\\n",
       "0            6      148             72             35        0  33.6   \n",
       "1            1       85             66             29        0  26.6   \n",
       "2            8      183             64              0        0  23.3   \n",
       "3            1       89             66             23       94  28.1   \n",
       "4            0      137             40             35      168  43.1   \n",
       "\n",
       "   DiabetesPedigreeFunction  Age  Outcome  \n",
       "0                     0.627   50        1  \n",
       "1                     0.351   31        0  \n",
       "2                     0.672   32        1  \n",
       "3                     0.167   21        0  \n",
       "4                     2.288   33        1  "
      ]
     },
     "execution_count": 24,
     "metadata": {},
     "output_type": "execute_result"
    }
   ],
   "source": [
    "data = pd.read_csv('PimaIndiansDiabetes.csv')\n",
    "data.head()"
   ]
  },
  {
   "cell_type": "markdown",
   "metadata": {},
   "source": [
    "### **1 Outcome is categorical because there are only two possibilities. The BMI and DiabetesPedigreeFunction are numerical because they have decimals and the rest (Glucose, BloodPressure, SkinThickness, Insulin, Age) are numerical because the order of the values is important. Pregnancies could be considered categorical if we assumed the fixed number of unique pregnancies in the data set are the only values possible.** "
   ]
  },
  {
   "cell_type": "code",
   "execution_count": 25,
   "metadata": {},
   "outputs": [],
   "source": [
    "# 1\n",
    "# converting data to correct type\n",
    "data['Outcome_cat'] = data['Outcome'].astype('category') "
   ]
  },
  {
   "cell_type": "code",
   "execution_count": 26,
   "metadata": {},
   "outputs": [
    {
     "data": {
      "text/plain": [
       "<AxesSubplot:xlabel='Glucose', ylabel='Outcome_cat'>"
      ]
     },
     "execution_count": 26,
     "metadata": {},
     "output_type": "execute_result"
    },
    {
     "data": {
      "image/png": "[encoded data removed]",
      "text/plain": [
       "<Figure size 432x288 with 1 Axes>"
      ]
     },
     "metadata": {
      "needs_background": "light"
     },
     "output_type": "display_data"
    }
   ],
   "source": [
    "# 2\n",
    "# Box plot for Glucose variable against catgorical Outcome variable\n",
    "sns.boxplot(data = data, x = 'Glucose', y = 'Outcome_cat')"
   ]
  },
  {
   "cell_type": "code",
   "execution_count": 27,
   "metadata": {},
   "outputs": [
    {
     "data": {
      "text/plain": [
       "<AxesSubplot:xlabel='BloodPressure', ylabel='Outcome_cat'>"
      ]
     },
     "execution_count": 27,
     "metadata": {},
     "output_type": "execute_result"
    },
    {
     "data": {
      "image/png": "[encoded data removed]",
      "text/plain": [
       "<Figure size 432x288 with 1 Axes>"
      ]
     },
     "metadata": {
      "needs_background": "light"
     },
     "output_type": "display_data"
    }
   ],
   "source": [
    "# 2\n",
    "# Box plot for BloodPressure variable against catgorical Outcome variable\n",
    "sns.boxplot(data = data, x = 'BloodPressure', y = 'Outcome_cat')"
   ]
  },
  {
   "cell_type": "code",
   "execution_count": 28,
   "metadata": {},
   "outputs": [
    {
     "data": {
      "text/plain": [
       "<AxesSubplot:xlabel='SkinThickness', ylabel='Outcome_cat'>"
      ]
     },
     "execution_count": 28,
     "metadata": {},
     "output_type": "execute_result"
    },
    {
     "data": {
      "image/png": "[encoded data removed]",
      "text/plain": [
       "<Figure size 432x288 with 1 Axes>"
      ]
     },
     "metadata": {
      "needs_background": "light"
     },
     "output_type": "display_data"
    }
   ],
   "source": [
    "# 2\n",
    "# Box plot for SkinThickness variable against catgorical Outcome variable\n",
    "sns.boxplot(data = data, x = 'SkinThickness', y = 'Outcome_cat')"
   ]
  },
  {
   "cell_type": "code",
   "execution_count": 29,
   "metadata": {},
   "outputs": [
    {
     "data": {
      "text/plain": [
       "<AxesSubplot:xlabel='Insulin', ylabel='Outcome_cat'>"
      ]
     },
     "execution_count": 29,
     "metadata": {},
     "output_type": "execute_result"
    },
    {
     "data": {
      "image/png": "[encoded data removed]",
      "text/plain": [
       "<Figure size 432x288 with 1 Axes>"
      ]
     },
     "metadata": {
      "needs_background": "light"
     },
     "output_type": "display_data"
    }
   ],
   "source": [
    "# 2\n",
    "# Box plot for Insulin variable against catgorical Outcome variable\n",
    "sns.boxplot(data = data, x = 'Insulin', y = 'Outcome_cat')"
   ]
  },
  {
   "cell_type": "code",
   "execution_count": 30,
   "metadata": {},
   "outputs": [
    {
     "data": {
      "text/plain": [
       "<AxesSubplot:xlabel='BMI', ylabel='Outcome_cat'>"
      ]
     },
     "execution_count": 30,
     "metadata": {},
     "output_type": "execute_result"
    },
    {
     "data": {
      "image/png": "[encoded data removed]",
      "text/plain": [
       "<Figure size 432x288 with 1 Axes>"
      ]
     },
     "metadata": {
      "needs_background": "light"
     },
     "output_type": "display_data"
    }
   ],
   "source": [
    "# 2\n",
    "# Box plot for BMI variable against catgorical Outcome variable\n",
    "sns.boxplot(data = data, x = 'BMI', y = 'Outcome_cat')"
   ]
  },
  {
   "cell_type": "code",
   "execution_count": 31,
   "metadata": {},
   "outputs": [
    {
     "data": {
      "text/plain": [
       "<AxesSubplot:xlabel='DiabetesPedigreeFunction', ylabel='Outcome_cat'>"
      ]
     },
     "execution_count": 31,
     "metadata": {},
     "output_type": "execute_result"
    },
    {
     "data": {
      "image/png": "[encoded data removed]",
      "text/plain": [
       "<Figure size 432x288 with 1 Axes>"
      ]
     },
     "metadata": {
      "needs_background": "light"
     },
     "output_type": "display_data"
    }
   ],
   "source": [
    "# 2\n",
    "# Box plot for DiabetesPedigreeFunction variable against catgorical Outcome variable\n",
    "sns.boxplot(data = data, x = 'DiabetesPedigreeFunction', y = 'Outcome_cat')"
   ]
  },
  {
   "cell_type": "code",
   "execution_count": 32,
   "metadata": {},
   "outputs": [
    {
     "data": {
      "text/plain": [
       "<AxesSubplot:xlabel='Age', ylabel='Outcome_cat'>"
      ]
     },
     "execution_count": 32,
     "metadata": {},
     "output_type": "execute_result"
    },
    {
     "data": {
      "image/png": "[encoded data removed]",
      "text/plain": [
       "<Figure size 432x288 with 1 Axes>"
      ]
     },
     "metadata": {
      "needs_background": "light"
     },
     "output_type": "display_data"
    }
   ],
   "source": [
    "# 2\n",
    "# Box plot for Age variable against catgorical Outcome variable\n",
    "sns.boxplot(data = data, x = 'Age', y = 'Outcome_cat')"
   ]
  },
  {
   "cell_type": "code",
   "execution_count": 33,
   "metadata": {},
   "outputs": [
    {
     "data": {
      "text/plain": [
       "Text(0, 0.5, 'Outcome Count')"
      ]
     },
     "execution_count": 33,
     "metadata": {},
     "output_type": "execute_result"
    },
    {
     "data": {
      "image/png": "[encoded data removed]",
      "text/plain": [
       "<Figure size 432x288 with 1 Axes>"
      ]
     },
     "metadata": {
      "needs_background": "light"
     },
     "output_type": "display_data"
    }
   ],
   "source": [
    "# 2 Bar plot for Pregnancy categorical against outcome\n",
    "preg_groups_count = data.groupby(by = ['Outcome_cat','Pregnancies'], as_index=False).count()\n",
    "preg_axis = sns.barplot(data=preg_groups_count, x = 'Pregnancies', y = 'Glucose',hue = 'Outcome_cat')\n",
    "preg_axis.set_ylabel('Outcome Count')"
   ]
  },
  {
   "cell_type": "code",
   "execution_count": 34,
   "metadata": {},
   "outputs": [],
   "source": [
    "# dropping cat_column\n",
    "data = data.drop('Outcome_cat', axis = 1)"
   ]
  },
  {
   "cell_type": "markdown",
   "metadata": {},
   "source": [
    "### **3. With the exception of pregnancies and outcome, all the other 0's must be representing NA's/missing value. There are two options to fix this: 1. replace 0 with median  2. drop rows with 0 in any value. For the rest of the analysis I will be considering all of the variables except for the outcome as numerical.**"
   ]
  },
  {
   "cell_type": "code",
   "execution_count": 35,
   "metadata": {},
   "outputs": [],
   "source": [
    "# 3\n",
    "# making two data sets, one where I will replace 0 with median, another where I drop rows with 0\n",
    "data_median = data.copy()\n",
    "data_drop = data.copy()\n",
    "# Replacing missing values with median\n",
    "for col in data_median.columns:\n",
    "    if col in ['Pregnancies','Outcome']:\n",
    "        continue\n",
    "    else:\n",
    "        data_median[col] = data_median[col].replace(0,data_median[col].median())\n",
    "# Dropping rows with missing values\n",
    "for col in data_drop.columns:\n",
    "    if col in ['Pregnancies','Outcome']:\n",
    "        continue\n",
    "    else:\n",
    "        data_drop[col] = data_drop[col].replace(0,np.NaN)\n",
    "data_drop = data_drop.dropna()"
   ]
  },
  {
   "cell_type": "markdown",
   "metadata": {},
   "source": [
    "### **4. I chose 10xfold Cross Validation for my testing purposes. I am going try RandomForest, SVM and KNN on both the data sets (one with median replacement, one with dropped na's). To regularize against overfitting I will be using GridSearchCV also with 10xfold Cross Validation to search for the best hyperparameters for each model. To determine which model is best, I will be comparing the cross validated AUC scores of each model.**"
   ]
  },
  {
   "cell_type": "code",
   "execution_count": 44,
   "metadata": {},
   "outputs": [
    {
     "name": "stdout",
     "output_type": "stream",
     "text": [
      " the best auc score returned from GridSearchCV where missing values were replaced with the median is 0.8377838036584244\n",
      " the best estimator returned from GridSearchCV where missing values were replaced with the median is RandomForestClassifier(max_depth=5, max_features=4, n_estimators=80,\n",
      "                       random_state=777)\n",
      " the final auc score returned from cross_val_score where missing values were replaced with the median is 0.8377838036584244\n"
     ]
    }
   ],
   "source": [
    "# 4\n",
    "# I will use 10xfold Cross Validation for testing\n",
    "# First, I will do randomForest with the data where missing rows were replaced with the median \n",
    "param_rf = {'max_features':['sqrt','log2', 2, 3, 4, 5, 6, 7, None],\n",
    "        'max_depth':[2, 3, 4, 5, 6, 7],\n",
    "        'n_estimators':np.arange(10,100,10)}\n",
    "\n",
    "rf_model = RandomForestClassifier(random_state= 777)\n",
    "grid_rf_median = GridSearchCV(rf_model, param_rf, cv = 10, scoring= 'roc_auc', n_jobs= -1)\n",
    "grid_rf_median = grid_rf_median.fit(data_median.drop('Outcome', axis = 1), data_median['Outcome'])\n",
    "print(f' the best auc score returned from GridSearchCV where missing values were replaced with the median is {grid_rf_median.best_score_}')\n",
    "print(f' the best estimator returned from GridSearchCV where missing values were replaced with the median is {grid_rf_median.best_estimator_}')\n",
    "\n",
    "auc_score = np.mean(cross_val_score(grid_rf_median.best_estimator_, data_median.drop('Outcome', axis = 1), data_median['Outcome'], cv = 10, scoring= 'roc_auc', n_jobs= -1))\n",
    "print(f' the final auc score returned from cross_val_score where missing values were replaced with the median is {auc_score}')"
   ]
  },
  {
   "cell_type": "code",
   "execution_count": 45,
   "metadata": {},
   "outputs": [
    {
     "name": "stdout",
     "output_type": "stream",
     "text": [
      " the best auc score returned from GridSearchCV where rows with missing values were dropped is 0.8686100131752307\n",
      " the best estimator returned from GridSearchCV where rows with missing values were dropped is RandomForestClassifier(max_depth=5, max_features=4, n_estimators=50,\n",
      "                       random_state=777)\n",
      " the final auc score returned from cross_val_score where rows with missing values were dropped is 0.8686100131752307\n"
     ]
    }
   ],
   "source": [
    "# 4\n",
    "# I will use 10xfold Cross Validation for testing\n",
    "# First, I will do randomForest with the data where rows with missing values were dropped\n",
    "grid_rf_drop = GridSearchCV(rf_model, param_rf, cv = 10, scoring= 'roc_auc', n_jobs= -1)\n",
    "grid_rf_drop = grid_rf_drop.fit(data_drop.drop('Outcome', axis = 1), data_drop['Outcome'])\n",
    "print(f' the best auc score returned from GridSearchCV where rows with missing values were dropped is {grid_rf_drop.best_score_}')\n",
    "print(f' the best estimator returned from GridSearchCV where rows with missing values were dropped is {grid_rf_drop.best_estimator_}')\n",
    "\n",
    "auc_score = np.mean(cross_val_score(grid_rf_drop.best_estimator_, data_drop.drop('Outcome', axis = 1), data_drop['Outcome'], cv = 10, scoring= 'roc_auc', n_jobs= -1))\n",
    "print(f' the final auc score returned from cross_val_score where rows with missing values were dropped is {auc_score}')"
   ]
  },
  {
   "cell_type": "code",
   "execution_count": 60,
   "metadata": {},
   "outputs": [
    {
     "name": "stdout",
     "output_type": "stream",
     "text": [
      " the best auc score returned from GridSearchCV where missing values were replaced with the median is 0.7485753052917231\n",
      " the best estimator returned from GridSearchCV where missing values were replaced with the median is SVC(C=0.8, random_state=777)\n",
      " the final auc score returned from cross_val_score where missing values were replaced with the median is 0.8063348346968165\n"
     ]
    }
   ],
   "source": [
    "# 4\n",
    "# Performing SVM Classification with the data where missing rows were replaced with the median \n",
    "param_svc = {'C':np.arange(0.1,2.0,0.1)}\n",
    "\n",
    "svc_model = SVC(random_state= 777, probability= True)\n",
    "grid_svc_median = GridSearchCV(svc_model, param_svc, cv = 10)\n",
    "grid_svc_median = grid_svc.fit(data_median.drop('Outcome', axis = 1), data_median['Outcome'])\n",
    "print(f' the best auc score returned from GridSearchCV where missing values were replaced with the median is {grid_svc_median.best_score_}')\n",
    "print(f' the best estimator returned from GridSearchCV where missing values were replaced with the median is {grid_svc_median.best_estimator_}')\n",
    "\n",
    "auc_score = np.mean(cross_val_score(grid_svc_median.best_estimator_, data_median.drop('Outcome', axis = 1), data_median['Outcome'], cv = 10, scoring= 'roc_auc', n_jobs= -1))\n",
    "print(f' the final auc score returned from cross_val_score where missing values were replaced with the median is {auc_score}')\n"
   ]
  },
  {
   "cell_type": "code",
   "execution_count": 61,
   "metadata": {},
   "outputs": [
    {
     "name": "stdout",
     "output_type": "stream",
     "text": [
      " the best auc score returned from GridSearchCV where rows with missing values were dropped is 0.7530252100840336\n",
      " the best estimator returned from GridSearchCV where rows with missing values were dropped is SVC(C=0.7000000000000001, probability=True, random_state=777)\n",
      " the final auc score returned from cross_val_score where rows with missing values were dropped is 0.8163208168642951\n"
     ]
    }
   ],
   "source": [
    "# 4\n",
    "# Performing SVM Classification with the data where rows with missing values were dropped\n",
    "grid_svc_drop = GridSearchCV(svc_model, param_svc, cv = 10)\n",
    "grid_svc_drop = grid_svc_drop.fit(data_drop.drop('Outcome', axis = 1), data_drop['Outcome'])\n",
    "print(f' the best auc score returned from GridSearchCV where rows with missing values were dropped is {grid_svc_drop.best_score_}')\n",
    "print(f' the best estimator returned from GridSearchCV where rows with missing values were dropped is {grid_svc_drop.best_estimator_}')\n",
    "\n",
    "auc_score = np.mean(cross_val_score(grid_svc_drop.best_estimator_, data_drop.drop('Outcome', axis = 1), data_drop['Outcome'], cv = 10, scoring= 'roc_auc', n_jobs= -1))\n",
    "print(f' the final auc score returned from cross_val_score where rows with missing values were dropped is {auc_score}')\n"
   ]
  },
  {
   "cell_type": "code",
   "execution_count": 49,
   "metadata": {},
   "outputs": [
    {
     "name": "stdout",
     "output_type": "stream",
     "text": [
      " the best auc score returned from GridSearchCV where missing values were replaced with the median is 0.7306196291270918\n",
      " the best estimator returned from GridSearchCV where missing values were replaced with the median is KNeighborsClassifier(n_neighbors=12)\n",
      " the final auc score returned from cross_val_score where missing values were replaced with the median is 0.7856797882771087\n"
     ]
    }
   ],
   "source": [
    "# 4\n",
    "# Performing KNN Classification with the data where missing rows were replaced with the median \n",
    "param_knn = {'n_neighbors':np.arange(3,15,1)}\n",
    "\n",
    "knn_model = KNeighborsClassifier()\n",
    "grid_knn_median = GridSearchCV(knn_model, param_knn, cv = 10)\n",
    "grid_knn_median = grid_knn_median.fit(data_median.drop('Outcome', axis = 1), data_median['Outcome'])\n",
    "print(f' the best auc score returned from GridSearchCV where missing values were replaced with the median is {grid_knn_median.best_score_}')\n",
    "print(f' the best estimator returned from GridSearchCV where missing values were replaced with the median is {grid_knn_median.best_estimator_}')\n",
    "\n",
    "auc_score = np.mean(cross_val_score(grid_knn_median.best_estimator_, data_median.drop('Outcome', axis = 1), data_median['Outcome'], cv = 10, scoring= 'roc_auc', n_jobs= -1))\n",
    "print(f' the final auc score returned from cross_val_score where missing values were replaced with the median is {auc_score}')"
   ]
  },
  {
   "cell_type": "code",
   "execution_count": 50,
   "metadata": {},
   "outputs": [
    {
     "name": "stdout",
     "output_type": "stream",
     "text": [
      " the best auc score returned from GridSearchCV where rows with missing values were dropped is 0.7473109243697478\n",
      " the best estimator returned from GridSearchCV where rows with missing values were dropped is KNeighborsClassifier(n_neighbors=14)\n",
      " the final auc score returned from cross_val_score where rows with missing values were dropped is 0.7944499341238471\n"
     ]
    }
   ],
   "source": [
    "# 4\n",
    "# Performing KNN Classification with the data where rows with missing values were dropped \n",
    "param_knn = {'n_neighbors':np.arange(3,15,1)}\n",
    "\n",
    "knn_model = KNeighborsClassifier()\n",
    "grid_knn_drop = GridSearchCV(knn_model, param_knn, cv = 10)\n",
    "grid_knn_drop = grid_knn_drop.fit(data_drop.drop('Outcome', axis = 1), data_drop['Outcome'])\n",
    "print(f' the best auc score returned from GridSearchCV where rows with missing values were dropped is {grid_knn_drop.best_score_}')\n",
    "print(f' the best estimator returned from GridSearchCV where rows with missing values were dropped is {grid_knn_drop.best_estimator_}')\n",
    "\n",
    "auc_score = np.mean(cross_val_score(grid_knn_drop.best_estimator_, data_drop.drop('Outcome', axis = 1), data_drop['Outcome'], cv = 10, scoring= 'roc_auc', n_jobs= -1))\n",
    "print(f' the final auc score returned from cross_val_score where rows with missing values were dropped is {auc_score}')"
   ]
  },
  {
   "cell_type": "markdown",
   "metadata": {},
   "source": [
    "#### **In an attempt to see if combining the classifiers improved performance, I used VotingClassifier to combine the highest performing classifiers from the above models and got an auc of 0.833, which was lower than my best individual model.**"
   ]
  },
  {
   "cell_type": "code",
   "execution_count": 62,
   "metadata": {},
   "outputs": [
    {
     "name": "stdout",
     "output_type": "stream",
     "text": [
      " the final auc score returned from the voting classifier where rows with missing values were dropped is 0.8331851119894598\n"
     ]
    }
   ],
   "source": [
    "# Trying to combine methods using voting classifier \n",
    "eclf = VotingClassifier(estimators=[('rf', grid_rf_drop.best_estimator_), ('svc', grid_svc_drop.best_estimator_), ('knn', grid_knn_drop.best_estimator_)], voting='soft')\n",
    "auc_score = np.mean(cross_val_score(eclf, data_drop.drop('Outcome', axis = 1), data_drop['Outcome'], cv = 10, scoring= 'roc_auc', n_jobs= -1))\n",
    "print(f' the final auc score returned from the voting classifier where rows with missing values were dropped is {auc_score}')"
   ]
  },
  {
   "cell_type": "markdown",
   "metadata": {},
   "source": [
    "### **5. From the above it can be seen that the RandomForestClassifier with max_depth=5, max_features=4, and n_estimators=50 when used on the data set in which rows with NA were dropped performed the best, with an AUC score of 0.8686. The code for my best performing model can be seen in the cell below:**"
   ]
  },
  {
   "cell_type": "code",
   "execution_count": 63,
   "metadata": {},
   "outputs": [],
   "source": [
    "# 5\n",
    "grid_rf_drop = GridSearchCV(rf_model, param_rf, cv = 10, scoring= 'roc_auc', n_jobs= -1)\n",
    "grid_rf_drop = grid_rf_drop.fit(data_drop.drop('Outcome', axis = 1), data_drop['Outcome'])\n",
    "best_model = grid_rf_drop.best_estimator_ # please use this to test"
   ]
  }
 ],
 "metadata": {
  "interpreter": {
   "hash": "40d3a090f54c6569ab1632332b64b2c03c39dcf918b08424e98f38b5ae0af88f"
  },
  "kernelspec": {
   "display_name": "Python 3.9.7 ('base')",
   "language": "python",
   "name": "python3"
  },
  "language_info": {
   "codemirror_mode": {
    "name": "ipython",
    "version": 3
   },
   "file_extension": ".py",
   "mimetype": "text/x-python",
   "name": "python",
   "nbconvert_exporter": "python",
   "pygments_lexer": "ipython3",
   "version": "3.9.7"
  },
  "orig_nbformat": 4
 },
 "nbformat": 4,
 "nbformat_minor": 2
}
