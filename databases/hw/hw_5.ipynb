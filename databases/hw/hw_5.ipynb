{
 "cells": [
  {
   "cell_type": "markdown",
   "metadata": {},
   "source": [
    "1 last hw\n",
    "2 from sklearn.ensemble import RandomForestClassifier\n",
    "    fit, predict\n",
    "2.1 do previous, but change max_features all combinations\n",
    "2.2 do feature_importances\n",
    "2.3 last hw\n",
    "3 from sklearn.neighbors import KNeighborsClassifier\n",
    "    try 2, 5, 7\n",
    "3.1 \n",
    "3.2 last hw\n",
    "3.3 import matplotlib.pyplot as plt\n",
    "    import seaborn as sns\n",
    "3.4 do x as radius y as texture do hue as malignant\n",
    "4 from sklearn.svm import SVC\n",
    "    set kernel to linear\n",
    "    low c- less accurate, high c- more overfitting"
   ]
  }
 ],
 "metadata": {
  "language_info": {
   "name": "python"
  },
  "orig_nbformat": 4
 },
 "nbformat": 4,
 "nbformat_minor": 2
}
