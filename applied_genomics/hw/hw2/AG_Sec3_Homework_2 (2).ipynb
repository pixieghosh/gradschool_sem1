{
 "cells": [
  {
   "cell_type": "markdown",
   "metadata": {},
   "source": [
    "# Homework 2 - Applied Genomics Sec 3 - Alignment"
   ]
  },
  {
   "cell_type": "markdown",
   "metadata": {},
   "source": [
    "#### In this assignment, the focus is on learning how to produce a well-annotated Jupyter Notebook, and using your experience with running bwa to run a different aligner."
   ]
  },
  {
   "cell_type": "markdown",
   "metadata": {},
   "source": [
    "#### Textboxes like this one can be produced by selecting \"Markdown\" instead of \"Code\" in the menu at the top. "
   ]
  },
  {
   "cell_type": "markdown",
   "metadata": {},
   "source": [
    "You can manipulate the size of the text by adding different numbers of \"#\" at the beginning of the text. Double-click on any of the other textboxes to see."
   ]
  },
  {
   "cell_type": "markdown",
   "metadata": {},
   "source": [
    "The sequence data we will be aligning is from an RNAseq [study](https://journals.plos.org/plosone/article?id=10.1371/journal.pone.0217309) which looks at differential gene expression in roots after inoculation with growth-promoting bacteria. (Double-click on this textbox to see the link to the study if the hyperlink isn't visible)"
   ]
  },
  {
   "cell_type": "markdown",
   "metadata": {},
   "source": [
    "## Section 1: Setting up (5x4 = 20 points)"
   ]
  },
  {
   "cell_type": "markdown",
   "metadata": {},
   "source": [
    "#### This will count as a brief review of basic bash commands"
   ]
  },
  {
   "cell_type": "markdown",
   "metadata": {},
   "source": [
    "#### 1. Copy the homework_2 folder /scratch/work/courses/AppliedGenomicsSec3/students/homework_2/ into your scratch directory."
   ]
  },
  {
   "cell_type": "code",
   "execution_count": 2,
   "metadata": {},
   "outputs": [],
   "source": [
    "cp -r /scratch/work/courses/AppliedGenomicsSec3/students/homework_2/ ."
   ]
  },
  {
   "cell_type": "markdown",
   "metadata": {},
   "source": [
    "#### 2. Change into the Homework2 folder in your scratch directory and observe what's inside the folder along with the size of the files in human-readable format"
   ]
  },
  {
   "cell_type": "code",
   "execution_count": 3,
   "metadata": {},
   "outputs": [],
   "source": [
    "cd homework_2"
   ]
  },
  {
   "cell_type": "code",
   "execution_count": 4,
   "metadata": {},
   "outputs": [
    {
     "name": "stdout",
     "output_type": "stream",
     "text": [
      "total 25093249\n",
      "-rw-r--r--. 1 sg5096 sg5096   390983951 Feb 21 17:01 OSativaR498.fa\n",
      "-rw-r--r--. 1 sg5096 sg5096 12652199556 Feb 21 17:00 SRR8695538_1.fastq\n",
      "-rw-r--r--. 1 sg5096 sg5096 12652199556 Feb 21 17:01 SRR8695538_2.fastq\n",
      "-rw-r--r--. 1 sg5096 sg5096         203 Feb 21 15:34 process_sam.sh\n",
      "-rw-r--r--. 1 sg5096 sg5096         275 Feb 21 17:00 run_hisat2.sh\n"
     ]
    }
   ],
   "source": [
    "ls -l"
   ]
  },
  {
   "cell_type": "markdown",
   "metadata": {},
   "source": [
    "#### 3. Run a command to see how many reads SRR8695538_1.fastq contains"
   ]
  },
  {
   "cell_type": "code",
   "execution_count": 5,
   "metadata": {},
   "outputs": [
    {
     "name": "stdout",
     "output_type": "stream",
     "text": [
      "33064177\n"
     ]
    }
   ],
   "source": [
    "cat SRR8695538_1.fastq | grep '@SRR*' | wc -l"
   ]
  },
  {
   "cell_type": "markdown",
   "metadata": {},
   "source": [
    "#### 4. Look for and load the module HiSAT2"
   ]
  },
  {
   "cell_type": "code",
   "execution_count": 6,
   "metadata": {},
   "outputs": [
    {
     "name": "stdout",
     "output_type": "stream",
     "text": [
      "\n",
      "--------------------------- /share/apps/modulefiles ----------------------------\n",
      "   hisat2/2.2.1\n"
     ]
    }
   ],
   "source": [
    "module avail HiSAT2"
   ]
  },
  {
   "cell_type": "code",
   "execution_count": 7,
   "metadata": {},
   "outputs": [],
   "source": [
    "module load hisat2/2.2.1"
   ]
  },
  {
   "cell_type": "markdown",
   "metadata": {},
   "source": [
    "#### 5. Print out and look at the usage documentation for the commands hisat2 and hisat2-build"
   ]
  },
  {
   "cell_type": "code",
   "execution_count": 22,
   "metadata": {
    "collapsed": true,
    "jupyter": {
     "outputs_hidden": true
    }
   },
   "outputs": [
    {
     "name": "stdout",
     "output_type": "stream",
     "text": [
      "No index, query, or output file specified!\n",
      "HISAT2 version 2.2.1 by Daehwan Kim (infphilo@gmail.com, www.ccb.jhu.edu/people/infphilo)\n",
      "Usage: \n",
      "  hisat2 [options]* -x <ht2-idx> {-1 <m1> -2 <m2> | -U <r> | --sra-acc <SRA accession number>} [-S <sam>]\n",
      "\n",
      "  <ht2-idx>  Index filename prefix (minus trailing .X.ht2).\n",
      "  <m1>       Files with #1 mates, paired with files in <m2>.\n",
      "             Could be gzip'ed (extension: .gz) or bzip2'ed (extension: .bz2).\n",
      "  <m2>       Files with #2 mates, paired with files in <m1>.\n",
      "             Could be gzip'ed (extension: .gz) or bzip2'ed (extension: .bz2).\n",
      "  <r>        Files with unpaired reads.\n",
      "             Could be gzip'ed (extension: .gz) or bzip2'ed (extension: .bz2).\n",
      "  <SRA accession number>        Comma-separated list of SRA accession numbers, e.g. --sra-acc SRR353653,SRR353654.\n",
      "  <sam>      File for SAM output (default: stdout)\n",
      "\n",
      "  <m1>, <m2>, <r> can be comma-separated lists (no whitespace) and can be\n",
      "  specified many times.  E.g. '-U file1.fq,file2.fq -U file3.fq'.\n",
      "\n",
      "Options (defaults in parentheses):\n",
      "\n",
      " Input:\n",
      "  -q                 query input files are FASTQ .fq/.fastq (default)\n",
      "  --qseq             query input files are in Illumina's qseq format\n",
      "  -f                 query input files are (multi-)FASTA .fa/.mfa\n",
      "  -r                 query input files are raw one-sequence-per-line\n",
      "  -c                 <m1>, <m2>, <r> are sequences themselves, not files\n",
      "  -s/--skip <int>    skip the first <int> reads/pairs in the input (none)\n",
      "  -u/--upto <int>    stop after first <int> reads/pairs (no limit)\n",
      "  -5/--trim5 <int>   trim <int> bases from 5'/left end of reads (0)\n",
      "  -3/--trim3 <int>   trim <int> bases from 3'/right end of reads (0)\n",
      "  --phred33          qualities are Phred+33 (default)\n",
      "  --phred64          qualities are Phred+64\n",
      "  --int-quals        qualities encoded as space-delimited integers\n",
      "  --sra-acc          SRA accession ID\n",
      "\n",
      " Presets:                 Same as:\n",
      "   --fast                 --no-repeat-index\n",
      "   --sensitive            --bowtie2-dp 1 -k 30 --score-min L,0,-0.5\n",
      "   --very-sensitive       --bowtie2-dp 2 -k 50 --score-min L,0,-1\n",
      "\n",
      " Alignment:\n",
      "  --bowtie2-dp <int> use Bowtie2's dynamic programming alignment algorithm (0) - 0: no dynamic programming, 1: conditional dynamic programming, and 2: unconditional dynamic programming (slowest)\n",
      "  --n-ceil <func>    func for max # non-A/C/G/Ts permitted in aln (L,0,0.15)\n",
      "  --ignore-quals     treat all quality values as 30 on Phred scale (off)\n",
      "  --nofw             do not align forward (original) version of read (off)\n",
      "  --norc             do not align reverse-complement version of read (off)\n",
      "  --no-repeat-index  do not use repeat index\n",
      "\n",
      " Spliced Alignment:\n",
      "  --pen-cansplice <int>              penalty for a canonical splice site (0)\n",
      "  --pen-noncansplice <int>           penalty for a non-canonical splice site (12)\n",
      "  --pen-canintronlen <func>          penalty for long introns (G,-8,1) with canonical splice sites\n",
      "  --pen-noncanintronlen <func>       penalty for long introns (G,-8,1) with noncanonical splice sites\n",
      "  --min-intronlen <int>              minimum intron length (20)\n",
      "  --max-intronlen <int>              maximum intron length (500000)\n",
      "  --known-splicesite-infile <path>   provide a list of known splice sites\n",
      "  --novel-splicesite-outfile <path>  report a list of splice sites\n",
      "  --novel-splicesite-infile <path>   provide a list of novel splice sites\n",
      "  --no-temp-splicesite               disable the use of splice sites found\n",
      "  --no-spliced-alignment             disable spliced alignment\n",
      "  --rna-strandness <string>          specify strand-specific information (unstranded)\n",
      "  --tmo                              reports only those alignments within known transcriptome\n",
      "  --dta                              reports alignments tailored for transcript assemblers\n",
      "  --dta-cufflinks                    reports alignments tailored specifically for cufflinks\n",
      "  --avoid-pseudogene                 tries to avoid aligning reads to pseudogenes (experimental option)\n",
      "  --no-templatelen-adjustment        disables template length adjustment for RNA-seq reads\n",
      "\n",
      " Scoring:\n",
      "  --mp <int>,<int>   max and min penalties for mismatch; lower qual = lower penalty <6,2>\n",
      "  --sp <int>,<int>   max and min penalties for soft-clipping; lower qual = lower penalty <2,1>\n",
      "  --no-softclip      no soft-clipping\n",
      "  --np <int>         penalty for non-A/C/G/Ts in read/ref (1)\n",
      "  --rdg <int>,<int>  read gap open, extend penalties (5,3)\n",
      "  --rfg <int>,<int>  reference gap open, extend penalties (5,3)\n",
      "  --score-min <func> min acceptable alignment score w/r/t read length\n",
      "                     (L,0.0,-0.2)\n",
      "\n",
      " Reporting:\n",
      "  -k <int>           It searches for at most <int> distinct, primary alignments for each read. Primary alignments mean \n",
      "                     alignments whose alignment score is equal to or higher than any other alignments. The search terminates \n",
      "                     when it cannot find more distinct valid alignments, or when it finds <int>, whichever happens first. \n",
      "                     The alignment score for a paired-end alignment equals the sum of the alignment scores of \n",
      "                     the individual mates. Each reported read or pair alignment beyond the first has the SAM ‘secondary’ bit \n",
      "                     (which equals 256) set in its FLAGS field. For reads that have more than <int> distinct, \n",
      "                     valid alignments, hisat2 does not guarantee that the <int> alignments reported are the best possible \n",
      "                     in terms of alignment score. Default: 5 (linear index) or 10 (graph index).\n",
      "                     Note: HISAT2 is not designed with large values for -k in mind, and when aligning reads to long, \n",
      "                     repetitive genomes, large -k could make alignment much slower.\n",
      "  --max-seeds <int>  HISAT2, like other aligners, uses seed-and-extend approaches. HISAT2 tries to extend seeds to \n",
      "                     full-length alignments. In HISAT2, --max-seeds is used to control the maximum number of seeds that \n",
      "                     will be extended. For DNA-read alignment (--no-spliced-alignment), HISAT2 extends up to these many seeds\n",
      "                     and skips the rest of the seeds. For RNA-read alignment, HISAT2 skips extending seeds and reports \n",
      "                     no alignments if the number of seeds is larger than the number specified with the option, \n",
      "                     to be compatible with previous versions of HISAT2. Large values for --max-seeds may improve alignment \n",
      "                     sensitivity, but HISAT2 is not designed with large values for --max-seeds in mind, and when aligning \n",
      "                     reads to long, repetitive genomes, large --max-seeds could make alignment much slower. \n",
      "                     The default value is the maximum of 5 and the value that comes with -k times 2.\n",
      "  -a/--all           HISAT2 reports all alignments it can find. Using the option is equivalent to using both --max-seeds \n",
      "                     and -k with the maximum value that a 64-bit signed integer can represent (9,223,372,036,854,775,807).\n",
      "  --repeat           report alignments to repeat sequences directly\n",
      "\n",
      " Paired-end:\n",
      "  -I/--minins <int>  minimum fragment length (0), only valid with --no-spliced-alignment\n",
      "  -X/--maxins <int>  maximum fragment length (500), only valid with --no-spliced-alignment\n",
      "  --fr/--rf/--ff     -1, -2 mates align fw/rev, rev/fw, fw/fw (--fr)\n",
      "  --no-mixed         suppress unpaired alignments for paired reads\n",
      "  --no-discordant    suppress discordant alignments for paired reads\n",
      "\n",
      " Output:\n",
      "  -t/--time          print wall-clock time taken by search phases\n",
      "  --un <path>           write unpaired reads that didn't align to <path>\n",
      "  --al <path>           write unpaired reads that aligned at least once to <path>\n",
      "  --un-conc <path>      write pairs that didn't align concordantly to <path>\n",
      "  --al-conc <path>      write pairs that aligned concordantly at least once to <path>\n",
      "  (Note: for --un, --al, --un-conc, or --al-conc, add '-gz' to the option name, e.g.\n",
      "  --un-gz <path>, to gzip compress output, or add '-bz2' to bzip2 compress output.)\n",
      "  --summary-file <path> print alignment summary to this file.\n",
      "  --new-summary         print alignment summary in a new style, which is more machine-friendly.\n",
      "  --quiet               print nothing to stderr except serious errors\n",
      "  --met-file <path>     send metrics to file at <path> (off)\n",
      "  --met-stderr          send metrics to stderr (off)\n",
      "  --met <int>           report internal counters & metrics every <int> secs (1)\n",
      "  --no-head             suppress header lines, i.e. lines starting with @\n",
      "  --no-sq               suppress @SQ header lines\n",
      "  --rg-id <text>        set read group id, reflected in @RG line and RG:Z: opt field\n",
      "  --rg <text>           add <text> (\"lab:value\") to @RG line of SAM header.\n",
      "                        Note: @RG line only printed when --rg-id is set.\n",
      "  --omit-sec-seq        put '*' in SEQ and QUAL fields for secondary alignments.\n",
      "\n",
      " Performance:\n",
      "  -o/--offrate <int> override offrate of index; must be >= index's offrate\n",
      "  -p/--threads <int> number of alignment threads to launch (1)\n",
      "  --reorder          force SAM output order to match order of input reads\n",
      "  --mm               use memory-mapped I/O for index; many 'hisat2's can share\n",
      "\n",
      " Other:\n",
      "  --qc-filter        filter out reads that are bad according to QSEQ filter\n",
      "  --seed <int>       seed for random number generator (0)\n",
      "  --non-deterministic seed rand. gen. arbitrarily instead of using read attributes\n",
      "  --remove-chrname   remove 'chr' from reference names in alignment\n",
      "  --add-chrname      add 'chr' to reference names in alignment \n",
      "  --version          print version information and quit\n",
      "  -h/--help          print this usage message\n",
      "(ERR): hisat2-align exited with value 1\n"
     ]
    },
    {
     "ename": "",
     "evalue": "1",
     "output_type": "error",
     "traceback": []
    }
   ],
   "source": [
    "hisat2 "
   ]
  },
  {
   "cell_type": "code",
   "execution_count": 13,
   "metadata": {
    "collapsed": true,
    "jupyter": {
     "outputs_hidden": true
    }
   },
   "outputs": [
    {
     "name": "stdout",
     "output_type": "stream",
     "text": [
      "No input sequence or sequence file specified!\n",
      "HISAT2 version 2.2.1 by Daehwan Kim (infphilo@gmail.com, http://www.ccb.jhu.edu/people/infphilo)\n",
      "Usage: hisat2-build [options]* <reference_in> <ht2_index_base>\n",
      "    reference_in            comma-separated list of files with ref sequences\n",
      "    hisat2_index_base       write ht2 data to files with this dir/basename\n",
      "Options:\n",
      "    -c                      reference sequences given on cmd line (as\n",
      "                            <reference_in>)\n",
      "    --large-index           force generated index to be 'large', even if ref\n",
      "                            has fewer than 4 billion nucleotides\n",
      "    -a/--noauto             disable automatic -p/--bmax/--dcv memory-fitting\n",
      "    -p <int>                number of threads\n",
      "    --bmax <int>            max bucket sz for blockwise suffix-array builder\n",
      "    --bmaxdivn <int>        max bucket sz as divisor of ref len (default: 4)\n",
      "    --dcv <int>             diff-cover period for blockwise (default: 1024)\n",
      "    --nodc                  disable diff-cover (algorithm becomes quadratic)\n",
      "    -r/--noref              don't build .3/.4.ht2 (packed reference) portion\n",
      "    -3/--justref            just build .3/.4.ht2 (packed reference) portion\n",
      "    -o/--offrate <int>      SA is sampled every 2^offRate BWT chars (default: 5)\n",
      "    -t/--ftabchars <int>    # of chars consumed in initial lookup (default: 10)\n",
      "    --localoffrate <int>    SA (local) is sampled every 2^offRate BWT chars (default: 3)\n",
      "    --localftabchars <int>  # of chars consumed in initial lookup in a local index (default: 6)\n",
      "    --snp <path>            SNP file name\n",
      "    --haplotype <path>      haplotype file name\n",
      "    --ss <path>             Splice site file name\n",
      "    --exon <path>           Exon file name\n",
      "    --repeat-ref <path>     Repeat reference file name\n",
      "    --repeat-info <path>    Repeat information file name\n",
      "    --repeat-snp <path>     Repeat snp file name\n",
      "    --repeat-haplotype <path>   Repeat haplotype file name\n",
      "    --seed <int>            seed for random number generator\n",
      "    -q/--quiet              disable verbose output (for debugging)\n",
      "    -h/--help               print detailed description of tool and its options\n",
      "    --usage                 print this usage message\n",
      "    --version               print version information and quit\n"
     ]
    },
    {
     "ename": "",
     "evalue": "1",
     "output_type": "error",
     "traceback": []
    }
   ],
   "source": [
    "hisat2-build "
   ]
  },
  {
   "cell_type": "markdown",
   "metadata": {},
   "source": [
    "## Section 2: Using HISAT to align sequences to reference (40 points)"
   ]
  },
  {
   "cell_type": "markdown",
   "metadata": {},
   "source": [
    "#### 1. Write an sbatch script called run_hisat2.sh to run alignment on the paired fastq files. Remember to provide the code you used to index the reference fasta within this script\n",
    "#### In the sbatch script, set cpus-per-task=6 and mem=10GB\n",
    "#### Ask for 6 threads while running the hisat2 command using the --threads argument\n",
    "#### Print out the contents of the sbatch script here (20 points)"
   ]
  },
  {
   "cell_type": "code",
   "execution_count": 8,
   "metadata": {
    "collapsed": true,
    "jupyter": {
     "outputs_hidden": true
    }
   },
   "outputs": [
    {
     "name": "stdout",
     "output_type": "stream",
     "text": [
      "#!/bin/bash\n",
      "#SBATCH --cpus-per-task=6\n",
      "#SBATCH --time=5:00:00\n",
      "#SBATCH --mem=10GB\n",
      "#SBATCH --job-name=hisat\n",
      "\n",
      "\n",
      "module purge\n",
      "module load hisat2/2.2.1\n",
      "\n",
      "index = $1\n",
      "LREAD = $2\n",
      "RREAD = $3\n",
      "\n",
      "hisat2-build -f $index.fa $index\n",
      "\n",
      "hisat2 --threads=6 -x $index -1 $LREAD -2 $RREAD > $LREAD.sam"
     ]
    }
   ],
   "source": [
    "cat run_hisat2.sh"
   ]
  },
  {
   "cell_type": "markdown",
   "metadata": {},
   "source": [
    "#### 2. Run the job and once it's complete, check the memory expenditure (5 points)\n",
    "\n",
    "*seff* is a command that will tell you how much resources your slurm job needed to run.\n",
    "\n",
    "To use the command simply type seff followed by the slurm job id. Remember the slurm job id is also saved as part of the slurm job output file."
   ]
  },
  {
   "cell_type": "code",
   "execution_count": 10,
   "metadata": {},
   "outputs": [
    {
     "name": "stdout",
     "output_type": "stream",
     "text": [
      "Submitted batch job 15126308\n"
     ]
    }
   ],
   "source": [
    "sbatch run_hisat2.sh OSativaR498 SRR8695538_1.fastq SRR8695538_2.fastq"
   ]
  },
  {
   "cell_type": "code",
   "execution_count": 47,
   "metadata": {
    "collapsed": true,
    "jupyter": {
     "outputs_hidden": true
    }
   },
   "outputs": [
    {
     "name": "stdout",
     "output_type": "stream",
     "text": [
      "Job ID: 15126308\n",
      "Cluster: greene\n",
      "User/Group: sg5096/sg5096\n",
      "State: COMPLETED (exit code 0)\n",
      "Nodes: 1\n",
      "Cores per node: 6\n",
      "CPU Utilized: 01:03:01\n",
      "CPU Efficiency: 62.02% of 01:41:36 core-walltime\n",
      "Job Wall-clock time: 00:16:56\n",
      "Memory Utilized: 739.17 MB\n",
      "Memory Efficiency: 7.22% of 10.00 GB\n"
     ]
    }
   ],
   "source": [
    "seff 15126308"
   ]
  },
  {
   "cell_type": "markdown",
   "metadata": {},
   "source": [
    "#### 3. Would bwa have worked just as well for RNA-sequence data? Why or why not? (10 points)"
   ]
  },
  {
   "cell_type": "markdown",
   "metadata": {},
   "source": []
  },
  {
   "cell_type": "markdown",
   "metadata": {},
   "source": [
    "## Section 3: Introducing SAMtools (45 points)"
   ]
  },
  {
   "cell_type": "markdown",
   "metadata": {},
   "source": [
    "#### Load the SAMtools module and explore the usage documentation for the commands view, index, sort, and flagstat by printing out the help documentation for each. \n",
    "#### Add as many code boxes as you need (5 points)"
   ]
  },
  {
   "cell_type": "code",
   "execution_count": 16,
   "metadata": {},
   "outputs": [
    {
     "name": "stdout",
     "output_type": "stream",
     "text": [
      "\n",
      "--------------------------- /share/apps/modulefiles ----------------------------\n",
      "   samtools/intel/1.11    samtools/intel/1.12    samtools/intel/1.14\n"
     ]
    }
   ],
   "source": [
    "module avail SAMtools"
   ]
  },
  {
   "cell_type": "code",
   "execution_count": 18,
   "metadata": {},
   "outputs": [],
   "source": [
    "module load samtools/intel/1.11  "
   ]
  },
  {
   "cell_type": "code",
   "execution_count": 19,
   "metadata": {
    "collapsed": true,
    "jupyter": {
     "outputs_hidden": true
    }
   },
   "outputs": [
    {
     "name": "stdout",
     "output_type": "stream",
     "text": [
      "\n",
      "Program: samtools (Tools for alignments in the SAM format)\n",
      "Version: 1.11 (using htslib 1.11)\n",
      "\n",
      "Usage:   samtools <command> [options]\n",
      "\n",
      "Commands:\n",
      "  -- Indexing\n",
      "     dict           create a sequence dictionary file\n",
      "     faidx          index/extract FASTA\n",
      "     fqidx          index/extract FASTQ\n",
      "     index          index alignment\n",
      "\n",
      "  -- Editing\n",
      "     calmd          recalculate MD/NM tags and '=' bases\n",
      "     fixmate        fix mate information\n",
      "     reheader       replace BAM header\n",
      "     targetcut      cut fosmid regions (for fosmid pool only)\n",
      "     addreplacerg   adds or replaces RG tags\n",
      "     markdup        mark duplicates\n",
      "     ampliconclip   clip oligos from the end of reads\n",
      "\n",
      "  -- File operations\n",
      "     collate        shuffle and group alignments by name\n",
      "     cat            concatenate BAMs\n",
      "     merge          merge sorted alignments\n",
      "     mpileup        multi-way pileup\n",
      "     sort           sort alignment file\n",
      "     split          splits a file by read group\n",
      "     quickcheck     quickly check if SAM/BAM/CRAM file appears intact\n",
      "     fastq          converts a BAM to a FASTQ\n",
      "     fasta          converts a BAM to a FASTA\n",
      "\n",
      "  -- Statistics\n",
      "     bedcov         read depth per BED region\n",
      "     coverage       alignment depth and percent coverage\n",
      "     depth          compute the depth\n",
      "     flagstat       simple stats\n",
      "     idxstats       BAM index stats\n",
      "     phase          phase heterozygotes\n",
      "     stats          generate stats (former bamcheck)\n",
      "     ampliconstats  generate amplicon specific stats\n",
      "\n",
      "  -- Viewing\n",
      "     flags          explain BAM flags\n",
      "     tview          text alignment viewer\n",
      "     view           SAM<->BAM<->CRAM conversion\n",
      "     depad          convert padded BAM to unpadded BAM\n",
      "\n"
     ]
    },
    {
     "ename": "",
     "evalue": "1",
     "output_type": "error",
     "traceback": []
    }
   ],
   "source": [
    "samtools"
   ]
  },
  {
   "cell_type": "code",
   "execution_count": 36,
   "metadata": {
    "collapsed": true,
    "jupyter": {
     "outputs_hidden": true
    }
   },
   "outputs": [
    {
     "name": "stdout",
     "output_type": "stream",
     "text": [
      "Usage: samtools index [-bc] [-m INT] <in.bam> [out.index]\n",
      "Options:\n",
      "  -b       Generate BAI-format index for BAM files [default]\n",
      "  -c       Generate CSI-format index for BAM files\n",
      "  -m INT   Set minimum interval size for CSI indices to 2^INT [14]\n",
      "  -@ INT   Sets the number of threads [none]\n"
     ]
    },
    {
     "ename": "",
     "evalue": "1",
     "output_type": "error",
     "traceback": []
    }
   ],
   "source": [
    "samtools index"
   ]
  },
  {
   "cell_type": "code",
   "execution_count": 37,
   "metadata": {
    "collapsed": true,
    "jupyter": {
     "outputs_hidden": true
    }
   },
   "outputs": [
    {
     "name": "stdout",
     "output_type": "stream",
     "text": [
      "\n",
      "Usage: samtools view [options] <in.bam>|<in.sam>|<in.cram> [region ...]\n",
      "\n",
      "Options:\n",
      "  -b       output BAM\n",
      "  -C       output CRAM (requires -T)\n",
      "  -1       use fast BAM compression (implies -b)\n",
      "  -u       uncompressed BAM output (implies -b)\n",
      "  -h       include header in SAM output\n",
      "  -H       print SAM header only (no alignments)\n",
      "  -c       print only the count of matching records\n",
      "  -o FILE  output file name [stdout]\n",
      "  -U FILE  output reads not selected by filters to FILE [null]\n",
      "  -t FILE  FILE listing reference names and lengths (see long help) [null]\n",
      "  -X       include customized index file\n",
      "  -L FILE  only include reads overlapping this BED FILE [null]\n",
      "  -r STR   only include reads in read group STR [null]\n",
      "  -R FILE  only include reads with read group listed in FILE [null]\n",
      "  -d STR:STR\n",
      "           only include reads with tag STR and associated value STR [null]\n",
      "  -D STR:FILE\n",
      "           only include reads with tag STR and associated values listed in\n",
      "           FILE [null]\n",
      "  -q INT   only include reads with mapping quality >= INT [0]\n",
      "  -l STR   only include reads in library STR [null]\n",
      "  -m INT   only include reads with number of CIGAR operations consuming\n",
      "           query sequence >= INT [0]\n",
      "  -f INT   only include reads with all  of the FLAGs in INT present [0]\n",
      "  -F INT   only include reads with none of the FLAGS in INT present [0]\n",
      "  -G INT   only EXCLUDE reads with all  of the FLAGs in INT present [0]\n",
      "  -s FLOAT subsample reads (given INT.FRAC option value, 0.FRAC is the\n",
      "           fraction of templates/read pairs to keep; INT part sets seed)\n",
      "  -M       use the multi-region iterator (increases the speed, removes\n",
      "           duplicates and outputs the reads as they are ordered in the file)\n",
      "  -x STR   read tag to strip (repeatable) [null]\n",
      "  -B       collapse the backward CIGAR operation\n",
      "  -?       print long help, including note about region specification\n",
      "  -S       ignored (input format is auto-detected)\n",
      "  --no-PG  do not add a PG line\n",
      "      --input-fmt-option OPT[=VAL]\n",
      "               Specify a single input file format option in the form\n",
      "               of OPTION or OPTION=VALUE\n",
      "  -O, --output-fmt FORMAT[,OPT[=VAL]]...\n",
      "               Specify output format (SAM, BAM, CRAM)\n",
      "      --output-fmt-option OPT[=VAL]\n",
      "               Specify a single output file format option in the form\n",
      "               of OPTION or OPTION=VALUE\n",
      "  -T, --reference FILE\n",
      "               Reference sequence FASTA FILE [null]\n",
      "  -@, --threads INT\n",
      "               Number of additional threads to use [0]\n",
      "      --write-index\n",
      "               Automatically index the output files [off]\n",
      "      --verbosity INT\n",
      "               Set level of verbosity\n",
      "\n"
     ]
    }
   ],
   "source": [
    "samtools view"
   ]
  },
  {
   "cell_type": "code",
   "execution_count": 38,
   "metadata": {
    "collapsed": true,
    "jupyter": {
     "outputs_hidden": true
    }
   },
   "outputs": [
    {
     "name": "stdout",
     "output_type": "stream",
     "text": [
      "Usage: samtools sort [options...] [in.bam]\n",
      "Options:\n",
      "  -l INT     Set compression level, from 0 (uncompressed) to 9 (best)\n",
      "  -u         Output uncompressed data (equivalent to -l 0)\n",
      "  -m INT     Set maximum memory per thread; suffix K/M/G recognized [768M]\n",
      "  -M         Use minimiser for clustering unaligned/unplaced reads\n",
      "  -K INT     Kmer size to use for minimiser [20]\n",
      "  -n         Sort by read name (not compatible with samtools index command)\n",
      "  -t TAG     Sort by value of TAG. Uses position as secondary index (or read name if -n is set)\n",
      "  -o FILE    Write final output to FILE rather than standard output\n",
      "  -T PREFIX  Write temporary files to PREFIX.nnnn.bam\n",
      "  --no-PG    do not add a PG line\n",
      "      --input-fmt-option OPT[=VAL]\n",
      "               Specify a single input file format option in the form\n",
      "               of OPTION or OPTION=VALUE\n",
      "  -O, --output-fmt FORMAT[,OPT[=VAL]]...\n",
      "               Specify output format (SAM, BAM, CRAM)\n",
      "      --output-fmt-option OPT[=VAL]\n",
      "               Specify a single output file format option in the form\n",
      "               of OPTION or OPTION=VALUE\n",
      "      --reference FILE\n",
      "               Reference sequence FASTA FILE [null]\n",
      "  -@, --threads INT\n",
      "               Number of additional threads to use [0]\n",
      "      --verbosity INT\n",
      "               Set level of verbosity\n"
     ]
    }
   ],
   "source": [
    "samtools sort"
   ]
  },
  {
   "cell_type": "code",
   "execution_count": 39,
   "metadata": {
    "collapsed": true,
    "jupyter": {
     "outputs_hidden": true
    }
   },
   "outputs": [
    {
     "name": "stdout",
     "output_type": "stream",
     "text": [
      "Usage: samtools flagstat [options] <in.bam>\n",
      "      --input-fmt-option OPT[=VAL]\n",
      "               Specify a single input file format option in the form\n",
      "               of OPTION or OPTION=VALUE\n",
      "  -@, --threads INT\n",
      "               Number of additional threads to use [0]\n",
      "      --verbosity INT\n",
      "               Set level of verbosity\n",
      "  -O, --output-fmt FORMAT[,OPT[=VAL]]...\n",
      "               Specify output format (json, tsv)\n"
     ]
    }
   ],
   "source": [
    "samtools flagstat"
   ]
  },
  {
   "cell_type": "markdown",
   "metadata": {},
   "source": [
    "#### SAM files are often converted to the smaller, binary BAM format for more efficient storage of the same information. \n",
    "#### Use samtools to convert your output SAM file from the previous section into a BAM file.\n",
    "#### This is going to take a few minutes, so do the conversion via an sbatch script called process_sam.sh. Ask for 4GB of memory\n",
    "#### Print out the contents of the script, submit the job, and print out the sizes of the SAM and BAM files after the job is completed (10 points)"
   ]
  },
  {
   "cell_type": "code",
   "execution_count": 16,
   "metadata": {},
   "outputs": [
    {
     "name": "stdout",
     "output_type": "stream",
     "text": [
      "#!/bin/bash\n",
      "#SBATCH --cpus-per-task=6\n",
      "#SBATCH --time=5:00:00\n",
      "#SBATCH --mem=4GB\n",
      "#SBATCH --job-name=samtools\n",
      "\n",
      "\n",
      "module purge\n",
      "module load samtools/intel/1.11 \n",
      "\n",
      "Name=$1\n",
      "\n",
      "samtools view -b $Name.sam > $Name.bam"
     ]
    }
   ],
   "source": [
    "cat process_sam.sh"
   ]
  },
  {
   "cell_type": "code",
   "execution_count": 21,
   "metadata": {},
   "outputs": [
    {
     "name": "stdout",
     "output_type": "stream",
     "text": [
      "Submitted batch job 15128909\n"
     ]
    }
   ],
   "source": [
    "sbatch process_sam.sh SRR8695538_1.fastq"
   ]
  },
  {
   "cell_type": "code",
   "execution_count": 52,
   "metadata": {},
   "outputs": [
    {
     "name": "stdout",
     "output_type": "stream",
     "text": [
      "-rw-r--r--. 1 sg5096 sg5096 12652199556 Feb 21 17:00 SRR8695538_1.fastq\n",
      "-rw-rw-r--. 1 sg5096 sg5096  6312041091 Feb 21 17:46 SRR8695538_1.fastq.bam\n",
      "-rw-rw-r--. 1 sg5096 sg5096 27922090096 Feb 21 17:23 SRR8695538_1.fastq.sam\n",
      "-rw-rw-r--. 1 sg5096 sg5096  4477060508 Feb 21 18:16 SRR8695538_1.fastq.sorted.bam\n"
     ]
    }
   ],
   "source": [
    "ls -l SRR8695538_1.*"
   ]
  },
  {
   "cell_type": "code",
   "execution_count": 43,
   "metadata": {},
   "outputs": [
    {
     "name": "stdout",
     "output_type": "stream",
     "text": [
      "Job ID: 15128909\n",
      "Cluster: greene\n",
      "User/Group: sg5096/sg5096\n",
      "State: COMPLETED (exit code 0)\n",
      "Nodes: 1\n",
      "Cores per node: 6\n",
      "CPU Utilized: 00:17:02\n",
      "CPU Efficiency: 16.57% of 01:42:48 core-walltime\n",
      "Job Wall-clock time: 00:17:08\n",
      "Memory Utilized: 18.68 MB\n",
      "Memory Efficiency: 0.46% of 4.00 GB\n"
     ]
    }
   ],
   "source": [
    "seff 15128909"
   ]
  },
  {
   "cell_type": "markdown",
   "metadata": {},
   "source": [
    "#### We will continue to work with the process_sam.sh. To prevent the code from repeating the sam to bam conversion, comment out the line converting SAM to BAM using \"#\". It should read something like:\n",
    "#### #samtools view ...\n",
    "#### Add a new line of code to sort the BAM file using samtools. Submit the job and explain why sorting a BAM file is useful in the second box. (10 points)"
   ]
  },
  {
   "cell_type": "code",
   "execution_count": 45,
   "metadata": {},
   "outputs": [
    {
     "name": "stdout",
     "output_type": "stream",
     "text": [
      "Submitted batch job 15130234\n"
     ]
    }
   ],
   "source": [
    "sbatch process_sam.sh SRR8695538_1.fastq"
   ]
  },
  {
   "cell_type": "code",
   "execution_count": 51,
   "metadata": {},
   "outputs": [
    {
     "name": "stdout",
     "output_type": "stream",
     "text": [
      "Job ID: 15130234\n",
      "Cluster: greene\n",
      "User/Group: sg5096/sg5096\n",
      "State: COMPLETED (exit code 0)\n",
      "Nodes: 1\n",
      "Cores per node: 6\n",
      "CPU Utilized: 00:20:28\n",
      "CPU Efficiency: 16.41% of 02:04:42 core-walltime\n",
      "Job Wall-clock time: 00:20:47\n",
      "Memory Utilized: 857.66 MB\n",
      "Memory Efficiency: 20.94% of 4.00 GB\n"
     ]
    }
   ],
   "source": [
    "seff 15130234"
   ]
  },
  {
   "cell_type": "markdown",
   "metadata": {},
   "source": [
    " Sorting a BAM file is useful because it sorts the file in genome order. This means the alignments are sorted positionally, based on the alignment coordinate on each chromosome. Without sorting, it is in random order, which makes any analysis difficult. "
   ]
  },
  {
   "cell_type": "markdown",
   "metadata": {},
   "source": [
    "#### Similar to above, comment out the line sorting the BAM file, and add a new line of code to index the sorted BAM file using samtools. Submit the job and explain why indexing a BAM file is useful in the second box. (10 points)"
   ]
  },
  {
   "cell_type": "code",
   "execution_count": 54,
   "metadata": {},
   "outputs": [
    {
     "name": "stdout",
     "output_type": "stream",
     "text": [
      "Submitted batch job 15130560\n"
     ]
    }
   ],
   "source": [
    "sbatch process_sam.sh SRR8695538_1.fastq"
   ]
  },
  {
   "cell_type": "code",
   "execution_count": 56,
   "metadata": {},
   "outputs": [
    {
     "name": "stdout",
     "output_type": "stream",
     "text": [
      "Job ID: 15130560\n",
      "Cluster: greene\n",
      "User/Group: sg5096/sg5096\n",
      "State: COMPLETED (exit code 0)\n",
      "Nodes: 1\n",
      "Cores per node: 6\n",
      "CPU Utilized: 00:01:16\n",
      "CPU Efficiency: 15.64% of 00:08:06 core-walltime\n",
      "Job Wall-clock time: 00:01:21\n",
      "Memory Utilized: 12.96 MB\n",
      "Memory Efficiency: 0.32% of 4.00 GB\n"
     ]
    }
   ],
   "source": [
    "seff 15130560"
   ]
  },
  {
   "cell_type": "markdown",
   "metadata": {},
   "source": [
    "Indexing allows for processes working on the BAM files to be completed faster, because BAM files are large and if not indexed would take longer to process. "
   ]
  },
  {
   "cell_type": "markdown",
   "metadata": {},
   "source": [
    "#### Print out the final contents of process_sam.sh using the cat command"
   ]
  },
  {
   "cell_type": "markdown",
   "metadata": {},
   "source": [
    "#### Run flagstat (no need to run this as an sbatch job) to find out the percentage of primary mapped reads. What do secondary mapped reads represent? (10 points"
   ]
  },
  {
   "cell_type": "code",
   "execution_count": 57,
   "metadata": {},
   "outputs": [
    {
     "name": "stdout",
     "output_type": "stream",
     "text": [
      "#!/bin/bash\n",
      "#SBATCH --cpus-per-task=6\n",
      "#SBATCH --time=5:00:00\n",
      "#SBATCH --mem=4GB\n",
      "#SBATCH --job-name=samtools\n",
      "\n",
      "\n",
      "module purge\n",
      "module load samtools/intel/1.11 \n",
      "\n",
      "Name=$1\n",
      "\n",
      "#samtools view -b $Name.sam > $Name.bam\n",
      "#samtools sort $Name.bam -o $Name.sorted.bam\n",
      "samtools index $Name.sorted.bam"
     ]
    }
   ],
   "source": [
    "cat process_sam.sh"
   ]
  },
  {
   "cell_type": "code",
   "execution_count": 59,
   "metadata": {},
   "outputs": [
    {
     "name": "stdout",
     "output_type": "stream",
     "text": [
      "69192564 + 0 in total (QC-passed reads + QC-failed reads)\n",
      "3064210 + 0 secondary\n",
      "0 + 0 supplementary\n",
      "0 + 0 duplicates\n",
      "39171960 + 0 mapped (56.61% : N/A)\n",
      "66128354 + 0 paired in sequencing\n",
      "33064177 + 0 read1\n",
      "33064177 + 0 read2\n",
      "30730204 + 0 properly paired (46.47% : N/A)\n",
      "34530496 + 0 with itself and mate mapped\n",
      "1577254 + 0 singletons (2.39% : N/A)\n",
      "45946 + 0 with mate mapped to a different chr\n",
      "31911 + 0 with mate mapped to a different chr (mapQ>=5)\n"
     ]
    }
   ],
   "source": [
    "samtools flagstat SRR8695538_1.fastq.bam"
   ]
  },
  {
   "cell_type": "markdown",
   "metadata": {},
   "source": [
    "Based on the above results from using flagstat, the percentage of primary mapped reads is 0%. Secondary mapped reads represent"
   ]
  },
  {
   "cell_type": "markdown",
   "metadata": {},
   "source": [
    "## Export this notebook as an html file (File -> Export Notebook As... -> HTML) and turn in the html file on Brightspace"
   ]
  },
  {
   "cell_type": "code",
   "execution_count": null,
   "metadata": {},
   "outputs": [],
   "source": []
  }
 ],
 "metadata": {
  "kernelspec": {
   "display_name": "Bash",
   "language": "bash",
   "name": "bash"
  },
  "language_info": {
   "codemirror_mode": "shell",
   "file_extension": ".sh",
   "mimetype": "text/x-sh",
   "name": "bash"
  }
 },
 "nbformat": 4,
 "nbformat_minor": 4
}
