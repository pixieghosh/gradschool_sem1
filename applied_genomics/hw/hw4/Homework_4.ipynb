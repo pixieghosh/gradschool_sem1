{
 "cells": [
  {
   "cell_type": "markdown",
   "metadata": {},
   "source": [
    "## Homework 4 - CHIP-seq"
   ]
  },
  {
   "cell_type": "markdown",
   "metadata": {},
   "source": [
    "#### We are going to reanalyze some of the data from [Cheng et al. 2018](https://academic.oup.com/plphys/article/178/2/824/6116647), \"INDETERMINATE SPIKELET1 Recruits Histone Deacetylase and a Transcriptional Repression Complex to Regulate Rice Salt Tolerance\""
   ]
  },
  {
   "cell_type": "markdown",
   "metadata": {},
   "source": [
    "#### Copy Homework4 folder into your scratch directory and change into the new directory"
   ]
  },
  {
   "cell_type": "code",
   "execution_count": 1,
   "metadata": {},
   "outputs": [
    {
     "name": "stdout",
     "output_type": "stream",
     "text": [
      "cp: /scratch/work/courses/AppliedGenomicsSec3/students/homework_4: No such file or directory\n"
     ]
    }
   ],
   "source": [
    "cp -r /scratch/work/courses/AppliedGenomicsSec3/students/homework_4 $SCRATCH/"
   ]
  },
  {
   "cell_type": "code",
   "execution_count": null,
   "metadata": {},
   "outputs": [],
   "source": []
  },
  {
   "cell_type": "markdown",
   "metadata": {},
   "source": [
    "#### Explore folder contents:"
   ]
  },
  {
   "cell_type": "code",
   "execution_count": null,
   "metadata": {},
   "outputs": [],
   "source": []
  },
  {
   "cell_type": "markdown",
   "metadata": {},
   "source": [
    "#### Input is the total input DNA\n",
    "#### Rep_1, Rep_2, and Rep_3 are three replicates of CHIP-seq on the transcription factor IDS1"
   ]
  },
  {
   "cell_type": "markdown",
   "metadata": {},
   "source": [
    "#### Write a script to index the genome fasta file using bowtie2, calling it index_fasta.sh; name the prefix rice_genome\n",
    "#### Print out script and submit the job (10 pts)"
   ]
  },
  {
   "cell_type": "code",
   "execution_count": null,
   "metadata": {},
   "outputs": [],
   "source": []
  },
  {
   "cell_type": "code",
   "execution_count": null,
   "metadata": {},
   "outputs": [],
   "source": []
  },
  {
   "cell_type": "markdown",
   "metadata": {},
   "source": [
    "#### Write code to align the provided fastq files and produce sorted and indexed bam files within a new sbatch script called run_bowtie_alignment.sh\n",
    "\n",
    "#### Retain the prefixes of the file names, so that you eventually end up with Input.sorted.bam, Rep_1.sorted.bam, Rep_2.sorted.bam, and Rep_3.sorted.bam , along with their indexes\n",
    "\n",
    "#### Print out the contents of the sbatch script here (20 pts)"
   ]
  },
  {
   "cell_type": "code",
   "execution_count": null,
   "metadata": {},
   "outputs": [],
   "source": []
  },
  {
   "cell_type": "markdown",
   "metadata": {},
   "source": [
    "#### Run the job"
   ]
  },
  {
   "cell_type": "code",
   "execution_count": null,
   "metadata": {},
   "outputs": [],
   "source": []
  },
  {
   "cell_type": "markdown",
   "metadata": {},
   "source": [
    "#### Observe the size of the files produced"
   ]
  },
  {
   "cell_type": "code",
   "execution_count": null,
   "metadata": {},
   "outputs": [],
   "source": []
  },
  {
   "cell_type": "markdown",
   "metadata": {},
   "source": [
    "#### Merge the replicate BAM files using samtools merge and call the output IDS1.sorted.bam\n",
    "#### Write an sbatch script called merge_bam.sh to do this; print script and submit job (this can take a while, I recommend asking for 8 threads using the --threads argument; make sure to also set cpus-per-task=8 if you do) (10 pts)"
   ]
  },
  {
   "cell_type": "code",
   "execution_count": null,
   "metadata": {},
   "outputs": [],
   "source": []
  },
  {
   "cell_type": "code",
   "execution_count": null,
   "metadata": {},
   "outputs": [],
   "source": []
  },
  {
   "cell_type": "markdown",
   "metadata": {},
   "source": [
    "#### Use MACS2 to call peaks using Input as control and the merged bam file as treatment"
   ]
  },
  {
   "cell_type": "markdown",
   "metadata": {},
   "source": [
    "#### When would you want to look at broad peaks? (10 pts)"
   ]
  },
  {
   "cell_type": "raw",
   "metadata": {},
   "source": []
  },
  {
   "cell_type": "markdown",
   "metadata": {},
   "source": [
    "#### Print out the contents of the sbatch script and submit the job (10 pts)"
   ]
  },
  {
   "cell_type": "code",
   "execution_count": null,
   "metadata": {},
   "outputs": [],
   "source": []
  },
  {
   "cell_type": "code",
   "execution_count": null,
   "metadata": {},
   "outputs": [],
   "source": []
  },
  {
   "cell_type": "markdown",
   "metadata": {},
   "source": [
    "#### We will try running Homer's findMotifsGenome.pl command with no background sequences provided; as per the documentation:\n",
    "[Documentation](http://homer.ucsd.edu/homer/ngs/peakMotifs.html)\n",
    "#### \"If the background sequences were not explicitly defined, HOMER will automatically select them for you.  If you are using genomic positions, sequences will be randomly selected from the genome, matched for GC% content.\"\n",
    "#### Create a new folder called motif_analysis to dump the results from Homer\n",
    "#### Write and print an sbatch script called run_homer.sh to do this and submit the job (10 pts)"
   ]
  },
  {
   "cell_type": "code",
   "execution_count": null,
   "metadata": {},
   "outputs": [],
   "source": []
  },
  {
   "cell_type": "code",
   "execution_count": null,
   "metadata": {},
   "outputs": [],
   "source": []
  },
  {
   "cell_type": "markdown",
   "metadata": {},
   "source": [
    "#### Look at the known and de novo motifs detected by Homer \n",
    "#### Across the known and de novo motifs, what are the top three most enriched motifs (note down their names)? (15 pts)"
   ]
  },
  {
   "cell_type": "raw",
   "metadata": {},
   "source": []
  },
  {
   "cell_type": "markdown",
   "metadata": {},
   "source": [
    "#### Compare these motifs to the ones reported in Figure 3 in the original [paper](https://academic.oup.com/plphys/article/178/2/824/6116647). Comment on similarities/differences. (5 pts)"
   ]
  },
  {
   "cell_type": "raw",
   "metadata": {},
   "source": []
  },
  {
   "cell_type": "markdown",
   "metadata": {},
   "source": [
    "#### Looking at the results from the paper (generated using MEME) and your results using Homer, how would you approach a similar problem in your own work in the future? This is not asking for any single correct answer; just think of ways you would trust your results more. (10 pts)"
   ]
  },
  {
   "cell_type": "raw",
   "metadata": {},
   "source": []
  }
 ],
 "metadata": {
  "interpreter": {
   "hash": "40d3a090f54c6569ab1632332b64b2c03c39dcf918b08424e98f38b5ae0af88f"
  },
  "kernelspec": {
   "display_name": "Bash",
   "language": "python",
   "name": "python3"
  },
  "language_info": {
   "codemirror_mode": {
    "name": "ipython",
    "version": 3
   },
   "file_extension": ".py",
   "mimetype": "text/x-python",
   "name": "python",
   "nbconvert_exporter": "python",
   "pygments_lexer": "ipython3",
   "version": "3.9.7"
  }
 },
 "nbformat": 4,
 "nbformat_minor": 4
}
