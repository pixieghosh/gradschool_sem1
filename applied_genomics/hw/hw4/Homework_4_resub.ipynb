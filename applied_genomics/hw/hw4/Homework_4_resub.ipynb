{
 "cells": [
  {
   "cell_type": "markdown",
   "metadata": {},
   "source": [
    "## Homework 4 - CHIP-seq"
   ]
  },
  {
   "cell_type": "markdown",
   "metadata": {},
   "source": [
    "#### We are going to reanalyze some of the data from [Cheng et al. 2018](https://academic.oup.com/plphys/article/178/2/824/6116647), \"INDETERMINATE SPIKELET1 Recruits Histone Deacetylase and a Transcriptional Repression Complex to Regulate Rice Salt Tolerance\""
   ]
  },
  {
   "cell_type": "markdown",
   "metadata": {},
   "source": [
    "#### Copy Homework4 folder into your scratch directory and change into the new directory"
   ]
  },
  {
   "cell_type": "code",
   "execution_count": 23,
   "metadata": {},
   "outputs": [],
   "source": [
    "cp -r /scratch/work/courses/AppliedGenomicsSec3/students/homework_4 $SCRATCH/"
   ]
  },
  {
   "cell_type": "code",
   "execution_count": 24,
   "metadata": {},
   "outputs": [],
   "source": [
    "cd /scratch/sg5096/homework_4"
   ]
  },
  {
   "cell_type": "markdown",
   "metadata": {},
   "source": [
    "#### Explore folder contents:"
   ]
  },
  {
   "cell_type": "code",
   "execution_count": 26,
   "metadata": {},
   "outputs": [
    {
     "name": "stdout",
     "output_type": "stream",
     "text": [
      "total 39240964\n",
      "drwxrwsr-x.  4 sg5096 sg5096        4096 Apr  9 22:07  .\n",
      "drwx--S---. 10 sg5096 sg5096        4096 Apr  8 12:48  ..\n",
      "drwxr-sr-x.  2 sg5096 sg5096        4096 Apr  9 22:07  .ipynb_checkpoints\n",
      "-rw-r--r--.  1 sg5096 sg5096   378473961 Apr  9 22:06  GCA_001433935.1_IRGSP-1.0_genomic.fna\n",
      "-rw-r--r--.  1 sg5096 sg5096       38458 Apr  9 22:06  Homework_4.ipynb\n",
      "-rw-r--r--.  1 sg5096 sg5096  9015057924 Apr  9 22:06  Input_1.fastq\n",
      "-rw-r--r--.  1 sg5096 sg5096  8878485252 Apr  9 22:06  Rep_1_1.fastq\n",
      "-rw-r--r--.  1 sg5096 sg5096  9662905860 Apr  9 22:06  Rep_2_1.fastq\n",
      "-rw-r--r--.  1 sg5096 sg5096 12247293828 Apr  9 22:06  Rep_3_1.fastq\n",
      "drwxr-sr-x.  2 sg5096 sg5096        4096 Apr  9 21:14 'Untitled Folder'\n",
      "-rw-r--r--.  1 sg5096 sg5096         760 Apr  8 12:48  hw4.ipynb\n",
      "-rw-r--r--.  1 sg5096 sg5096         217 Apr  9 22:06  index_fasta.sh\n",
      "-rw-r--r--.  1 sg5096 sg5096         109 Apr  9 21:53  merge_bam.sh\n",
      "-rw-r--r--.  1 sg5096 sg5096         799 Apr  9 21:58  run_bowtie_alignment.sh\n"
     ]
    }
   ],
   "source": [
    "ls -la"
   ]
  },
  {
   "cell_type": "markdown",
   "metadata": {},
   "source": [
    "#### Input is the total input DNA\n",
    "#### Rep_1, Rep_2, and Rep_3 are three replicates of CHIP-seq on the transcription factor IDS1"
   ]
  },
  {
   "cell_type": "markdown",
   "metadata": {},
   "source": [
    "#### Write a script to index the genome fasta file using bowtie2, calling it index_fasta.sh; name the prefix rice_genome\n",
    "#### Print out script and submit the job (10 pts)"
   ]
  },
  {
   "cell_type": "code",
   "execution_count": 27,
   "metadata": {},
   "outputs": [
    {
     "name": "stdout",
     "output_type": "stream",
     "text": [
      "\n",
      "--------------------------- /share/apps/modulefiles ----------------------------\n",
      "   bowtie2/2.3.2    bowtie2/2.4.2    bowtie2/2.4.4 (L)\n",
      "\n",
      "  Where:\n",
      "   L:  Module is loaded\n"
     ]
    }
   ],
   "source": [
    "module avail bowtie2"
   ]
  },
  {
   "cell_type": "code",
   "execution_count": 2,
   "metadata": {},
   "outputs": [],
   "source": [
    "module load bowtie2/2.4.4"
   ]
  },
  {
   "cell_type": "code",
   "execution_count": 3,
   "metadata": {
    "collapsed": true,
    "jupyter": {
     "outputs_hidden": true
    }
   },
   "outputs": [
    {
     "name": "stdout",
     "output_type": "stream",
     "text": [
      "No index, query, or output file specified!\n",
      "Bowtie 2 version 2.4.4 by Ben Langmead (langmea@cs.jhu.edu, www.cs.jhu.edu/~langmea)\n",
      "Usage: \n",
      "  bowtie2 [options]* -x <bt2-idx> {-1 <m1> -2 <m2> | -U <r> | --interleaved <i> | -b <bam>} [-S <sam>]\n",
      "\n",
      "  <bt2-idx>  Index filename prefix (minus trailing .X.bt2).\n",
      "             NOTE: Bowtie 1 and Bowtie 2 indexes are not compatible.\n",
      "  <m1>       Files with #1 mates, paired with files in <m2>.\n",
      "             Could be gzip'ed (extension: .gz) or bzip2'ed (extension: .bz2).\n",
      "  <m2>       Files with #2 mates, paired with files in <m1>.\n",
      "             Could be gzip'ed (extension: .gz) or bzip2'ed (extension: .bz2).\n",
      "  <r>        Files with unpaired reads.\n",
      "             Could be gzip'ed (extension: .gz) or bzip2'ed (extension: .bz2).\n",
      "  <i>        Files with interleaved paired-end FASTQ/FASTA reads\n",
      "             Could be gzip'ed (extension: .gz) or bzip2'ed (extension: .bz2).\n",
      "  <bam>      Files are unaligned BAM sorted by read name.\n",
      "  <sam>      File for SAM output (default: stdout)\n",
      "\n",
      "  <m1>, <m2>, <r> can be comma-separated lists (no whitespace) and can be\n",
      "  specified many times.  E.g. '-U file1.fq,file2.fq -U file3.fq'.\n",
      "\n",
      "Options (defaults in parentheses):\n",
      "\n",
      " Input:\n",
      "  -q                 query input files are FASTQ .fq/.fastq (default)\n",
      "  --tab5             query input files are TAB5 .tab5\n",
      "  --tab6             query input files are TAB6 .tab6\n",
      "  --qseq             query input files are in Illumina's qseq format\n",
      "  -f                 query input files are (multi-)FASTA .fa/.mfa\n",
      "  -r                 query input files are raw one-sequence-per-line\n",
      "  -F k:<int>,i:<int> query input files are continuous FASTA where reads\n",
      "                     are substrings (k-mers) extracted from a FASTA file <s>\n",
      "                     and aligned at offsets 1, 1+i, 1+2i ... end of reference\n",
      "  -c                 <m1>, <m2>, <r> are sequences themselves, not files\n",
      "  -s/--skip <int>    skip the first <int> reads/pairs in the input (none)\n",
      "  -u/--upto <int>    stop after first <int> reads/pairs (no limit)\n",
      "  -5/--trim5 <int>   trim <int> bases from 5'/left end of reads (0)\n",
      "  -3/--trim3 <int>   trim <int> bases from 3'/right end of reads (0)\n",
      "  --trim-to [3:|5:]<int> trim reads exceeding <int> bases from either 3' or 5' end\n",
      "                     If the read end is not specified then it defaults to 3 (0)\n",
      "  --phred33          qualities are Phred+33 (default)\n",
      "  --phred64          qualities are Phred+64\n",
      "  --int-quals        qualities encoded as space-delimited integers\n",
      "\n",
      " Presets:                 Same as:\n",
      "  For --end-to-end:\n",
      "   --very-fast            -D 5 -R 1 -N 0 -L 22 -i S,0,2.50\n",
      "   --fast                 -D 10 -R 2 -N 0 -L 22 -i S,0,2.50\n",
      "   --sensitive            -D 15 -R 2 -N 0 -L 22 -i S,1,1.15 (default)\n",
      "   --very-sensitive       -D 20 -R 3 -N 0 -L 20 -i S,1,0.50\n",
      "\n",
      "  For --local:\n",
      "   --very-fast-local      -D 5 -R 1 -N 0 -L 25 -i S,1,2.00\n",
      "   --fast-local           -D 10 -R 2 -N 0 -L 22 -i S,1,1.75\n",
      "   --sensitive-local      -D 15 -R 2 -N 0 -L 20 -i S,1,0.75 (default)\n",
      "   --very-sensitive-local -D 20 -R 3 -N 0 -L 20 -i S,1,0.50\n",
      "\n",
      " Alignment:\n",
      "  -N <int>           max # mismatches in seed alignment; can be 0 or 1 (0)\n",
      "  -L <int>           length of seed substrings; must be >3, <32 (22)\n",
      "  -i <func>          interval between seed substrings w/r/t read len (S,1,1.15)\n",
      "  --n-ceil <func>    func for max # non-A/C/G/Ts permitted in aln (L,0,0.15)\n",
      "  --dpad <int>       include <int> extra ref chars on sides of DP table (15)\n",
      "  --gbar <int>       disallow gaps within <int> nucs of read extremes (4)\n",
      "  --ignore-quals     treat all quality values as 30 on Phred scale (off)\n",
      "  --nofw             do not align forward (original) version of read (off)\n",
      "  --norc             do not align reverse-complement version of read (off)\n",
      "  --no-1mm-upfront   do not allow 1 mismatch alignments before attempting to\n",
      "                     scan for the optimal seeded alignments\n",
      "  --end-to-end       entire read must align; no clipping (on)\n",
      "   OR\n",
      "  --local            local alignment; ends might be soft clipped (off)\n",
      "\n",
      " Scoring:\n",
      "  --ma <int>         match bonus (0 for --end-to-end, 2 for --local) \n",
      "  --mp <int>         max penalty for mismatch; lower qual = lower penalty (6)\n",
      "  --np <int>         penalty for non-A/C/G/Ts in read/ref (1)\n",
      "  --rdg <int>,<int>  read gap open, extend penalties (5,3)\n",
      "  --rfg <int>,<int>  reference gap open, extend penalties (5,3)\n",
      "  --score-min <func> min acceptable alignment score w/r/t read length\n",
      "                     (G,20,8 for local, L,-0.6,-0.6 for end-to-end)\n",
      "\n",
      " Reporting:\n",
      "  (default)          look for multiple alignments, report best, with MAPQ\n",
      "   OR\n",
      "  -k <int>           report up to <int> alns per read; MAPQ not meaningful\n",
      "   OR\n",
      "  -a/--all           report all alignments; very slow, MAPQ not meaningful\n",
      "\n",
      " Effort:\n",
      "  -D <int>           give up extending after <int> failed extends in a row (15)\n",
      "  -R <int>           for reads w/ repetitive seeds, try <int> sets of seeds (2)\n",
      "\n",
      " Paired-end:\n",
      "  -I/--minins <int>  minimum fragment length (0)\n",
      "  -X/--maxins <int>  maximum fragment length (500)\n",
      "  --fr/--rf/--ff     -1, -2 mates align fw/rev, rev/fw, fw/fw (--fr)\n",
      "  --no-mixed         suppress unpaired alignments for paired reads\n",
      "  --no-discordant    suppress discordant alignments for paired reads\n",
      "  --dovetail         concordant when mates extend past each other\n",
      "  --no-contain       not concordant when one mate alignment contains other\n",
      "  --no-overlap       not concordant when mates overlap at all\n",
      "\n",
      " BAM:\n",
      "  --align-paired-reads\n",
      "                     Bowtie2 will, by default, attempt to align unpaired BAM reads.\n",
      "                     Use this option to align paired-end reads instead.\n",
      "  --preserve-tags    Preserve tags from the original BAM record by\n",
      "                     appending them to the end of the corresponding SAM output.\n",
      "\n",
      " Output:\n",
      "  -t/--time          print wall-clock time taken by search phases\n",
      "  --un <path>        write unpaired reads that didn't align to <path>\n",
      "  --al <path>        write unpaired reads that aligned at least once to <path>\n",
      "  --un-conc <path>   write pairs that didn't align concordantly to <path>\n",
      "  --al-conc <path>   write pairs that aligned concordantly at least once to <path>\n",
      "    (Note: for --un, --al, --un-conc, or --al-conc, add '-gz' to the option name, e.g.\n",
      "    --un-gz <path>, to gzip compress output, or add '-bz2' to bzip2 compress output.)\n",
      "  --quiet            print nothing to stderr except serious errors\n",
      "  --met-file <path>  send metrics to file at <path> (off)\n",
      "  --met-stderr       send metrics to stderr (off)\n",
      "  --met <int>        report internal counters & metrics every <int> secs (1)\n",
      "  --no-unal          suppress SAM records for unaligned reads\n",
      "  --no-head          suppress header lines, i.e. lines starting with @\n",
      "  --no-sq            suppress @SQ header lines\n",
      "  --rg-id <text>     set read group id, reflected in @RG line and RG:Z: opt field\n",
      "  --rg <text>        add <text> (\"lab:value\") to @RG line of SAM header.\n",
      "                     Note: @RG line only printed when --rg-id is set.\n",
      "  --omit-sec-seq     put '*' in SEQ and QUAL fields for secondary alignments.\n",
      "  --sam-no-qname-trunc\n",
      "                     Suppress standard behavior of truncating readname at first whitespace \n",
      "                     at the expense of generating non-standard SAM.\n",
      "  --xeq              Use '='/'X', instead of 'M,' to specify matches/mismatches in SAM record.\n",
      "  --soft-clipped-unmapped-tlen\n",
      "                     Exclude soft-clipped bases when reporting TLEN\n",
      "  --sam-append-comment\n",
      "                     Append FASTA/FASTQ comment to SAM record\n",
      "\n",
      " Performance:\n",
      "  -p/--threads <int> number of alignment threads to launch (1)\n",
      "  --reorder          force SAM output order to match order of input reads\n",
      "  --mm               use memory-mapped I/O for index; many 'bowtie's can share\n",
      "\n",
      " Other:\n",
      "  --qc-filter        filter out reads that are bad according to QSEQ filter\n",
      "  --seed <int>       seed for random number generator (0)\n",
      "  --non-deterministic\n",
      "                     seed rand. gen. arbitrarily instead of using read attributes\n",
      "  --version          print version information and quit\n",
      "  -h/--help          print this usage message\n",
      "(ERR): bowtie2-align exited with value 1\n"
     ]
    },
    {
     "ename": "",
     "evalue": "1",
     "output_type": "error",
     "traceback": []
    }
   ],
   "source": [
    "bowtie2"
   ]
  },
  {
   "cell_type": "code",
   "execution_count": 7,
   "metadata": {
    "collapsed": true,
    "jupyter": {
     "outputs_hidden": true
    }
   },
   "outputs": [
    {
     "name": "stdout",
     "output_type": "stream",
     "text": [
      "No index, query, or output file specified!\n",
      "Bowtie 2 version 2.4.4 by Ben Langmead (langmea@cs.jhu.edu, www.cs.jhu.edu/~langmea)\n",
      "Usage: \n",
      "  bowtie2 [options]* -x <bt2-idx> {-1 <m1> -2 <m2> | -U <r> | --interleaved <i> | -b <bam>} [-S <sam>]\n",
      "\n",
      "  <bt2-idx>  Index filename prefix (minus trailing .X.bt2).\n",
      "             NOTE: Bowtie 1 and Bowtie 2 indexes are not compatible.\n",
      "  <m1>       Files with #1 mates, paired with files in <m2>.\n",
      "             Could be gzip'ed (extension: .gz) or bzip2'ed (extension: .bz2).\n",
      "  <m2>       Files with #2 mates, paired with files in <m1>.\n",
      "             Could be gzip'ed (extension: .gz) or bzip2'ed (extension: .bz2).\n",
      "  <r>        Files with unpaired reads.\n",
      "             Could be gzip'ed (extension: .gz) or bzip2'ed (extension: .bz2).\n",
      "  <i>        Files with interleaved paired-end FASTQ/FASTA reads\n",
      "             Could be gzip'ed (extension: .gz) or bzip2'ed (extension: .bz2).\n",
      "  <bam>      Files are unaligned BAM sorted by read name.\n",
      "  <sam>      File for SAM output (default: stdout)\n",
      "\n",
      "  <m1>, <m2>, <r> can be comma-separated lists (no whitespace) and can be\n",
      "  specified many times.  E.g. '-U file1.fq,file2.fq -U file3.fq'.\n",
      "\n",
      "Options (defaults in parentheses):\n",
      "\n",
      " Input:\n",
      "  -q                 query input files are FASTQ .fq/.fastq (default)\n",
      "  --tab5             query input files are TAB5 .tab5\n",
      "  --tab6             query input files are TAB6 .tab6\n",
      "  --qseq             query input files are in Illumina's qseq format\n",
      "  -f                 query input files are (multi-)FASTA .fa/.mfa\n",
      "  -r                 query input files are raw one-sequence-per-line\n",
      "  -F k:<int>,i:<int> query input files are continuous FASTA where reads\n",
      "                     are substrings (k-mers) extracted from a FASTA file <s>\n",
      "                     and aligned at offsets 1, 1+i, 1+2i ... end of reference\n",
      "  -c                 <m1>, <m2>, <r> are sequences themselves, not files\n",
      "  -s/--skip <int>    skip the first <int> reads/pairs in the input (none)\n",
      "  -u/--upto <int>    stop after first <int> reads/pairs (no limit)\n",
      "  -5/--trim5 <int>   trim <int> bases from 5'/left end of reads (0)\n",
      "  -3/--trim3 <int>   trim <int> bases from 3'/right end of reads (0)\n",
      "  --trim-to [3:|5:]<int> trim reads exceeding <int> bases from either 3' or 5' end\n",
      "                     If the read end is not specified then it defaults to 3 (0)\n",
      "  --phred33          qualities are Phred+33 (default)\n",
      "  --phred64          qualities are Phred+64\n",
      "  --int-quals        qualities encoded as space-delimited integers\n",
      "\n",
      " Presets:                 Same as:\n",
      "  For --end-to-end:\n",
      "   --very-fast            -D 5 -R 1 -N 0 -L 22 -i S,0,2.50\n",
      "   --fast                 -D 10 -R 2 -N 0 -L 22 -i S,0,2.50\n",
      "   --sensitive            -D 15 -R 2 -N 0 -L 22 -i S,1,1.15 (default)\n",
      "   --very-sensitive       -D 20 -R 3 -N 0 -L 20 -i S,1,0.50\n",
      "\n",
      "  For --local:\n",
      "   --very-fast-local      -D 5 -R 1 -N 0 -L 25 -i S,1,2.00\n",
      "   --fast-local           -D 10 -R 2 -N 0 -L 22 -i S,1,1.75\n",
      "   --sensitive-local      -D 15 -R 2 -N 0 -L 20 -i S,1,0.75 (default)\n",
      "   --very-sensitive-local -D 20 -R 3 -N 0 -L 20 -i S,1,0.50\n",
      "\n",
      " Alignment:\n",
      "  -N <int>           max # mismatches in seed alignment; can be 0 or 1 (0)\n",
      "  -L <int>           length of seed substrings; must be >3, <32 (22)\n",
      "  -i <func>          interval between seed substrings w/r/t read len (S,1,1.15)\n",
      "  --n-ceil <func>    func for max # non-A/C/G/Ts permitted in aln (L,0,0.15)\n",
      "  --dpad <int>       include <int> extra ref chars on sides of DP table (15)\n",
      "  --gbar <int>       disallow gaps within <int> nucs of read extremes (4)\n",
      "  --ignore-quals     treat all quality values as 30 on Phred scale (off)\n",
      "  --nofw             do not align forward (original) version of read (off)\n",
      "  --norc             do not align reverse-complement version of read (off)\n",
      "  --no-1mm-upfront   do not allow 1 mismatch alignments before attempting to\n",
      "                     scan for the optimal seeded alignments\n",
      "  --end-to-end       entire read must align; no clipping (on)\n",
      "   OR\n",
      "  --local            local alignment; ends might be soft clipped (off)\n",
      "\n",
      " Scoring:\n",
      "  --ma <int>         match bonus (0 for --end-to-end, 2 for --local) \n",
      "  --mp <int>         max penalty for mismatch; lower qual = lower penalty (6)\n",
      "  --np <int>         penalty for non-A/C/G/Ts in read/ref (1)\n",
      "  --rdg <int>,<int>  read gap open, extend penalties (5,3)\n",
      "  --rfg <int>,<int>  reference gap open, extend penalties (5,3)\n",
      "  --score-min <func> min acceptable alignment score w/r/t read length\n",
      "                     (G,20,8 for local, L,-0.6,-0.6 for end-to-end)\n",
      "\n",
      " Reporting:\n",
      "  (default)          look for multiple alignments, report best, with MAPQ\n",
      "   OR\n",
      "  -k <int>           report up to <int> alns per read; MAPQ not meaningful\n",
      "   OR\n",
      "  -a/--all           report all alignments; very slow, MAPQ not meaningful\n",
      "\n",
      " Effort:\n",
      "  -D <int>           give up extending after <int> failed extends in a row (15)\n",
      "  -R <int>           for reads w/ repetitive seeds, try <int> sets of seeds (2)\n",
      "\n",
      " Paired-end:\n",
      "  -I/--minins <int>  minimum fragment length (0)\n",
      "  -X/--maxins <int>  maximum fragment length (500)\n",
      "  --fr/--rf/--ff     -1, -2 mates align fw/rev, rev/fw, fw/fw (--fr)\n",
      "  --no-mixed         suppress unpaired alignments for paired reads\n",
      "  --no-discordant    suppress discordant alignments for paired reads\n",
      "  --dovetail         concordant when mates extend past each other\n",
      "  --no-contain       not concordant when one mate alignment contains other\n",
      "  --no-overlap       not concordant when mates overlap at all\n",
      "\n",
      " BAM:\n",
      "  --align-paired-reads\n",
      "                     Bowtie2 will, by default, attempt to align unpaired BAM reads.\n",
      "                     Use this option to align paired-end reads instead.\n",
      "  --preserve-tags    Preserve tags from the original BAM record by\n",
      "                     appending them to the end of the corresponding SAM output.\n",
      "\n",
      " Output:\n",
      "  -t/--time          print wall-clock time taken by search phases\n",
      "  --un <path>        write unpaired reads that didn't align to <path>\n",
      "  --al <path>        write unpaired reads that aligned at least once to <path>\n",
      "  --un-conc <path>   write pairs that didn't align concordantly to <path>\n",
      "  --al-conc <path>   write pairs that aligned concordantly at least once to <path>\n",
      "    (Note: for --un, --al, --un-conc, or --al-conc, add '-gz' to the option name, e.g.\n",
      "    --un-gz <path>, to gzip compress output, or add '-bz2' to bzip2 compress output.)\n",
      "  --quiet            print nothing to stderr except serious errors\n",
      "  --met-file <path>  send metrics to file at <path> (off)\n",
      "  --met-stderr       send metrics to stderr (off)\n",
      "  --met <int>        report internal counters & metrics every <int> secs (1)\n",
      "  --no-unal          suppress SAM records for unaligned reads\n",
      "  --no-head          suppress header lines, i.e. lines starting with @\n",
      "  --no-sq            suppress @SQ header lines\n",
      "  --rg-id <text>     set read group id, reflected in @RG line and RG:Z: opt field\n",
      "  --rg <text>        add <text> (\"lab:value\") to @RG line of SAM header.\n",
      "                     Note: @RG line only printed when --rg-id is set.\n",
      "  --omit-sec-seq     put '*' in SEQ and QUAL fields for secondary alignments.\n",
      "  --sam-no-qname-trunc\n",
      "                     Suppress standard behavior of truncating readname at first whitespace \n",
      "                     at the expense of generating non-standard SAM.\n",
      "  --xeq              Use '='/'X', instead of 'M,' to specify matches/mismatches in SAM record.\n",
      "  --soft-clipped-unmapped-tlen\n",
      "                     Exclude soft-clipped bases when reporting TLEN\n",
      "  --sam-append-comment\n",
      "                     Append FASTA/FASTQ comment to SAM record\n",
      "\n",
      " Performance:\n",
      "  -p/--threads <int> number of alignment threads to launch (1)\n",
      "  --reorder          force SAM output order to match order of input reads\n",
      "  --mm               use memory-mapped I/O for index; many 'bowtie's can share\n",
      "\n",
      " Other:\n",
      "  --qc-filter        filter out reads that are bad according to QSEQ filter\n",
      "  --seed <int>       seed for random number generator (0)\n",
      "  --non-deterministic\n",
      "                     seed rand. gen. arbitrarily instead of using read attributes\n",
      "  --version          print version information and quit\n",
      "  -h/--help          print this usage message\n",
      "(ERR): bowtie2-align exited with value 1\n"
     ]
    },
    {
     "ename": "",
     "evalue": "1",
     "output_type": "error",
     "traceback": []
    }
   ],
   "source": [
    "bowtie2 -- build"
   ]
  },
  {
   "cell_type": "code",
   "execution_count": 33,
   "metadata": {},
   "outputs": [
    {
     "name": "stdout",
     "output_type": "stream",
     "text": [
      "#!/bin/bash\n",
      "#SBATCH --cpus-per-task=6\n",
      "#SBATCH --time=5:00:00\n",
      "#SBATCH --mem=10GB\n",
      "#SBATCH --job-name=bowtie\n",
      "\n",
      "\n",
      "module purge\n",
      "module load bowtie2/2.4.4\n",
      "\n",
      "\n",
      "bowtie2-build -f GCA_001433935.1_IRGSP-1.0_genomic.fna rice_genome\n"
     ]
    }
   ],
   "source": [
    "cat index_fasta.sh"
   ]
  },
  {
   "cell_type": "code",
   "execution_count": 34,
   "metadata": {},
   "outputs": [
    {
     "name": "stdout",
     "output_type": "stream",
     "text": [
      "Submitted batch job 17587053\n"
     ]
    }
   ],
   "source": [
    "sbatch index_fasta.sh "
   ]
  },
  {
   "cell_type": "markdown",
   "metadata": {},
   "source": [
    "#### Write code to align the provided fastq files and produce sorted and indexed bam files within a new sbatch script called run_bowtie_alignment.sh\n",
    "\n",
    "#### Retain the prefixes of the file names, so that you eventually end up with Input.sorted.bam, Rep_1.sorted.bam, Rep_2.sorted.bam, and Rep_3.sorted.bam , along with their indexes\n",
    "\n",
    "#### Print out the contents of the sbatch script here (20 pts)"
   ]
  },
  {
   "cell_type": "code",
   "execution_count": 2,
   "metadata": {
    "collapsed": true,
    "jupyter": {
     "outputs_hidden": true
    }
   },
   "outputs": [
    {
     "name": "stdout",
     "output_type": "stream",
     "text": [
      "#!/bin/bash\n",
      "#SBATCH --cpus-per-task=8\n",
      "#SBATCH --time=8:00:00\n",
      "#SBATCH --mem=64GB\n",
      "#SBATCH --job-name=bowtie\n",
      "\n",
      "\n",
      "module purge\n",
      "module load bowtie2/2.4.4\n",
      "\n",
      "bowtie2 --threads=8 -x rice_genome -U Input_1.fastq -S Input_1.sam\n",
      "bowtie2 --threads=8 -x rice_genome -U Rep_1_1.fastq -S Rep_1.sam\n",
      "bowtie2 --threads=8 -x rice_genome -U Rep_2_1.fastq -S Rep_2.sam\n",
      "bowtie2 --threads=8 -x rice_genome -U Rep_3_1.fastq -S Rep_3.sam\n",
      "\n",
      "module load samtools/intel/1.14\n",
      "\n",
      "samtools view -h -b Input_1.sam > Input_1.bam\n",
      "samtools view -h -b Rep_1.sam > Rep_1.bam\n",
      "samtools view -h -b Rep_2.sam > Rep_2.bam\n",
      "samtools view -h -b Rep_3.sam > Rep_3.bam\n",
      "\n",
      "samtools sort Input_1.bam -o Input_1.sorted.bam\n",
      "samtools sort Rep_1.bam -o Rep_1.sorted.bam\n",
      "samtools sort Rep_2.bam -o Rep_2.sorted.bam\n",
      "samtools sort Rep_3.bam -o Rep_3.sorted.bam\n",
      "\n",
      "samtools index Input_1.sorted.bam > Input_1.index\n",
      "samtools index Rep_1.sorted.bam > Rep_2.index\n",
      "samtools index Rep_2.sorted.bam > Rep_3.index\n",
      "samtools index Rep_3.sorted.bam > Rep_4.index\n"
     ]
    }
   ],
   "source": [
    "cat run_bowtie_alignment.sh"
   ]
  },
  {
   "cell_type": "markdown",
   "metadata": {},
   "source": [
    "#### Run the job"
   ]
  },
  {
   "cell_type": "code",
   "execution_count": 44,
   "metadata": {},
   "outputs": [
    {
     "name": "stdout",
     "output_type": "stream",
     "text": [
      "Submitted batch job 17587295\n"
     ]
    }
   ],
   "source": [
    "sbatch run_bowtie_alignment.sh"
   ]
  },
  {
   "cell_type": "code",
   "execution_count": null,
   "metadata": {},
   "outputs": [],
   "source": []
  },
  {
   "cell_type": "markdown",
   "metadata": {},
   "source": [
    "#### Observe the size of the files produced"
   ]
  },
  {
   "cell_type": "code",
   "execution_count": 9,
   "metadata": {},
   "outputs": [
    {
     "name": "stdout",
     "output_type": "stream",
     "text": [
      "total 102390668\n",
      "drwxrwsr-x.  4 sg5096 sg5096        8192 Apr 10 11:32  .\n",
      "drwx--S---. 10 sg5096 sg5096        4096 Apr  8 12:48  ..\n",
      "drwxr-sr-x.  2 sg5096 sg5096        4096 Apr 10 11:32  .ipynb_checkpoints\n",
      "-rw-r--r--.  1 sg5096 sg5096   378473961 Apr  9 22:06  GCA_001433935.1_IRGSP-1.0_genomic.fna\n",
      "-rw-r--r--.  1 sg5096 sg5096       38206 Apr 10 11:31  Homework_4.ipynb\n",
      "-rw-rw-r--.  1 sg5096 sg5096  2784303385 Apr  9 23:40  Input_1.bam\n",
      "-rw-r--r--.  1 sg5096 sg5096  9015057924 Apr  9 22:06  Input_1.fastq\n",
      "-rw-rw-r--.  1 sg5096 sg5096           0 Apr 10 11:29  Input_1.index\n",
      "-rw-rw-r--.  1 sg5096 sg5096  9972444752 Apr  9 22:41  Input_1.sam\n",
      "-rw-rw-r--.  1 sg5096 sg5096  1780836327 Apr 10 00:16  Input_1.sorted.bam\n",
      "-rw-rw-r--.  1 sg5096 sg5096      521368 Apr 10 11:30  Input_1.sorted.bam.bai\n",
      "-rw-rw-r--.  1 sg5096 sg5096  2789909783 Apr  9 23:48  Rep_1.bam\n",
      "-rw-rw-r--.  1 sg5096 sg5096  9760868085 Apr  9 22:56  Rep_1.sam\n",
      "-rw-rw-r--.  1 sg5096 sg5096  1817291217 Apr 10 00:25  Rep_1.sorted.bam\n",
      "-rw-rw-r--.  1 sg5096 sg5096      505776 Apr 10 11:30  Rep_1.sorted.bam.bai\n",
      "-rw-r--r--.  1 sg5096 sg5096  8878485252 Apr  9 22:06  Rep_1_1.fastq\n",
      "-rw-rw-r--.  1 sg5096 sg5096  2998328071 Apr  9 23:56  Rep_2.bam\n",
      "-rw-rw-r--.  1 sg5096 sg5096           0 Apr 10 11:30  Rep_2.index\n",
      "-rw-rw-r--.  1 sg5096 sg5096 10627262595 Apr  9 23:12  Rep_2.sam\n",
      "-rw-rw-r--.  1 sg5096 sg5096  1887355571 Apr 10 00:34  Rep_2.sorted.bam\n",
      "-rw-rw-r--.  1 sg5096 sg5096      572368 Apr 10 11:31  Rep_2.sorted.bam.bai\n",
      "-rw-r--r--.  1 sg5096 sg5096  9662905860 Apr  9 22:06  Rep_2_1.fastq\n",
      "-rw-rw-r--.  1 sg5096 sg5096  3833184539 Apr 10 00:07  Rep_3.bam\n",
      "-rw-rw-r--.  1 sg5096 sg5096           0 Apr 10 11:30  Rep_3.index\n",
      "-rw-rw-r--.  1 sg5096 sg5096 13468346163 Apr  9 23:32  Rep_3.sam\n",
      "-rw-rw-r--.  1 sg5096 sg5096  2403591294 Apr 10 00:47  Rep_3.sorted.bam\n",
      "-rw-rw-r--.  1 sg5096 sg5096      830632 Apr 10 11:31  Rep_3.sorted.bam.bai\n",
      "-rw-r--r--.  1 sg5096 sg5096 12247293828 Apr  9 22:06  Rep_3_1.fastq\n",
      "-rw-rw-r--.  1 sg5096 sg5096           0 Apr 10 11:31  Rep_4.index\n",
      "drwxr-sr-x.  2 sg5096 sg5096        4096 Apr  9 21:14 'Untitled Folder'\n",
      "-rw-r--r--.  1 sg5096 sg5096         760 Apr  8 12:48  hw4.ipynb\n",
      "-rw-r--r--.  1 sg5096 sg5096         215 Apr  9 22:37  index_fasta.sh\n",
      "-rw-r--r--.  1 sg5096 sg5096         109 Apr  9 21:53  merge_bam.sh\n",
      "-rw-rw-r--.  1 sg5096 sg5096   128771101 Apr  9 22:18  rice_genome.1.bt2\n",
      "-rw-rw-r--.  1 sg5096 sg5096    93419356 Apr  9 22:18  rice_genome.2.bt2\n",
      "-rw-rw-r--.  1 sg5096 sg5096        8702 Apr  9 22:13  rice_genome.3.bt2\n",
      "-rw-rw-r--.  1 sg5096 sg5096    93419351 Apr  9 22:13  rice_genome.4.bt2\n",
      "-rw-rw-r--.  1 sg5096 sg5096   128771101 Apr  9 22:23  rice_genome.rev.1.bt2\n",
      "-rw-rw-r--.  1 sg5096 sg5096    93419356 Apr  9 22:23  rice_genome.rev.2.bt2\n",
      "-rw-r--r--.  1 sg5096 sg5096         986 Apr  9 22:36  run_bowtie_alignment.sh\n",
      "-rw-rw-r--.  1 sg5096 sg5096       12968 Apr  9 22:23  slurm-17587053.out\n",
      "-rw-rw-r--.  1 sg5096 sg5096        1144 Apr 10 00:38  slurm-17587295.out\n",
      "-rw-rw-r--.  1 sg5096 sg5096           0 Apr 10 11:29  slurm-17622987.out\n"
     ]
    }
   ],
   "source": [
    "ls -la"
   ]
  },
  {
   "cell_type": "markdown",
   "metadata": {},
   "source": [
    "#### Merge the replicate BAM files using samtools merge and call the output IDS1.sorted.bam\n",
    "#### Write an sbatch script called merge_bam.sh to do this; print script and submit job (this can take a while, I recommend asking for 8 threads using the --threads argument; make sure to also set cpus-per-task=8 if you do) (10 pts)"
   ]
  },
  {
   "cell_type": "code",
   "execution_count": 14,
   "metadata": {},
   "outputs": [
    {
     "name": "stdout",
     "output_type": "stream",
     "text": [
      "\n",
      "--------------------------- /share/apps/modulefiles ----------------------------\n",
      "   samtools/intel/1.11    samtools/intel/1.12    samtools/intel/1.14 (L)\n",
      "\n",
      "  Where:\n",
      "   L:  Module is loaded\n"
     ]
    }
   ],
   "source": [
    "module avail SAMtools"
   ]
  },
  {
   "cell_type": "code",
   "execution_count": 15,
   "metadata": {},
   "outputs": [
    {
     "name": "stdout",
     "output_type": "stream",
     "text": [
      "\n",
      "Program: samtools (Tools for alignments in the SAM format)\n",
      "Version: 1.14 (using htslib 1.14)\n",
      "\n",
      "Usage:   samtools <command> [options]\n",
      "\n",
      "Commands:\n",
      "  -- Indexing\n",
      "     dict           create a sequence dictionary file\n",
      "     faidx          index/extract FASTA\n",
      "     fqidx          index/extract FASTQ\n",
      "     index          index alignment\n",
      "\n",
      "  -- Editing\n",
      "     calmd          recalculate MD/NM tags and '=' bases\n",
      "     fixmate        fix mate information\n",
      "     reheader       replace BAM header\n",
      "     targetcut      cut fosmid regions (for fosmid pool only)\n",
      "     addreplacerg   adds or replaces RG tags\n",
      "     markdup        mark duplicates\n",
      "     ampliconclip   clip oligos from the end of reads\n",
      "\n",
      "  -- File operations\n",
      "     collate        shuffle and group alignments by name\n",
      "     cat            concatenate BAMs\n",
      "     merge          merge sorted alignments\n",
      "     mpileup        multi-way pileup\n",
      "     sort           sort alignment file\n",
      "     split          splits a file by read group\n",
      "     quickcheck     quickly check if SAM/BAM/CRAM file appears intact\n",
      "     fastq          converts a BAM to a FASTQ\n",
      "     fasta          converts a BAM to a FASTA\n",
      "     import         Converts FASTA or FASTQ files to SAM/BAM/CRAM\n",
      "\n",
      "  -- Statistics\n",
      "     bedcov         read depth per BED region\n",
      "     coverage       alignment depth and percent coverage\n",
      "     depth          compute the depth\n",
      "     flagstat       simple stats\n",
      "     idxstats       BAM index stats\n",
      "     phase          phase heterozygotes\n",
      "     stats          generate stats (former bamcheck)\n",
      "     ampliconstats  generate amplicon specific stats\n",
      "\n",
      "  -- Viewing\n",
      "     flags          explain BAM flags\n",
      "     tview          text alignment viewer\n",
      "     view           SAM<->BAM<->CRAM conversion\n",
      "     depad          convert padded BAM to unpadded BAM\n",
      "     samples        list the samples in a set of SAM/BAM/CRAM files\n",
      "\n",
      "  -- Misc\n",
      "     help [cmd]     display this help message or help for [cmd]\n",
      "     version        detailed version information\n",
      "\n"
     ]
    },
    {
     "ename": "",
     "evalue": "1",
     "output_type": "error",
     "traceback": []
    }
   ],
   "source": [
    "module load samtools/intel/1.14\n",
    "samtools"
   ]
  },
  {
   "cell_type": "code",
   "execution_count": 50,
   "metadata": {},
   "outputs": [
    {
     "name": "stdout",
     "output_type": "stream",
     "text": [
      "Usage: samtools merge [options] -o <out.bam> [options] <in1.bam> ... <inN.bam>\n",
      "   or: samtools merge [options] <out.bam> <in1.bam> ... <inN.bam>\n",
      "\n",
      "Options:\n",
      "  -n         Input files are sorted by read name\n",
      "  -t TAG     Input files are sorted by TAG value\n",
      "  -r         Attach RG tag (inferred from file names)\n",
      "  -u         Uncompressed BAM output\n",
      "  -f         Overwrite the output BAM if exist\n",
      "  -o FILE    Specify output file via option instead of <out.bam> argument\n",
      "  -1         Compress level 1\n",
      "  -l INT     Compression level, from 0 to 9 [-1]\n",
      "  -R STR     Merge file in the specified region STR [all]\n",
      "  -h FILE    Copy the header in FILE to <out.bam> [in1.bam]\n",
      "  -c         Combine @RG headers with colliding IDs [alter IDs to be distinct]\n",
      "  -p         Combine @PG headers with colliding IDs [alter IDs to be distinct]\n",
      "  -s VALUE   Override random seed\n",
      "  -b FILE    List of input BAM filenames, one per line [null]\n",
      "  -X         Use customized index files\n",
      "  -L FILE    Specify a BED file for multiple region filtering [null]\n",
      "  --no-PG    do not add a PG line\n",
      "      --input-fmt-option OPT[=VAL]\n",
      "               Specify a single input file format option in the form\n",
      "               of OPTION or OPTION=VALUE\n",
      "  -O, --output-fmt FORMAT[,OPT[=VAL]]...\n",
      "               Specify output format (SAM, BAM, CRAM)\n",
      "      --output-fmt-option OPT[=VAL]\n",
      "               Specify a single output file format option in the form\n",
      "               of OPTION or OPTION=VALUE\n",
      "      --reference FILE\n",
      "               Reference sequence FASTA FILE [null]\n",
      "  -@, --threads INT\n",
      "               Number of additional threads to use [0]\n",
      "      --write-index\n",
      "               Automatically index the output files [off]\n",
      "      --verbosity INT\n",
      "               Set level of verbosity\n"
     ]
    }
   ],
   "source": [
    "samtools merge"
   ]
  },
  {
   "cell_type": "code",
   "execution_count": 10,
   "metadata": {},
   "outputs": [
    {
     "name": "stdout",
     "output_type": "stream",
     "text": [
      "#!/bin/bash\n",
      "#SBATCH --cpus-per-task=8\n",
      "#SBATCH --time=5:00:00\n",
      "#SBATCH --mem=10GB\n",
      "#SBATCH --job-name=samtools\n",
      "\n",
      "module load samtools/intel/1.14\n",
      "\n",
      "samtools merge --threads=8 -o IDS1.sorted.bam Rep_1.sorted.bam Rep_2.sorted.bam Rep_3.sorted.bam "
     ]
    }
   ],
   "source": [
    "cat merge_bam.sh"
   ]
  },
  {
   "cell_type": "code",
   "execution_count": 11,
   "metadata": {},
   "outputs": [
    {
     "name": "stdout",
     "output_type": "stream",
     "text": [
      "Submitted batch job 17628299\n"
     ]
    }
   ],
   "source": [
    "sbatch merge_bam.sh"
   ]
  },
  {
   "cell_type": "code",
   "execution_count": null,
   "metadata": {},
   "outputs": [],
   "source": []
  },
  {
   "cell_type": "markdown",
   "metadata": {},
   "source": [
    "#### Use MACS2 to call peaks using Input as control and the merged bam file as treatment"
   ]
  },
  {
   "cell_type": "markdown",
   "metadata": {},
   "source": [
    "#### When would you want to look at broad peaks? (10 pts)"
   ]
  },
  {
   "cell_type": "code",
   "execution_count": 74,
   "metadata": {},
   "outputs": [
    {
     "name": "stdout",
     "output_type": "stream",
     "text": [
      "\n",
      "--------------------------- /share/apps/modulefiles ----------------------------\n",
      "   macs2/2.1.1.20160309    macs2/intel/2.2.7.1 (L)\n",
      "\n",
      "  Where:\n",
      "   L:  Module is loaded\n"
     ]
    }
   ],
   "source": [
    "module avail macs2"
   ]
  },
  {
   "cell_type": "code",
   "execution_count": 20,
   "metadata": {},
   "outputs": [],
   "source": [
    "module load macs2/intel/2.2.7.1"
   ]
  },
  {
   "cell_type": "raw",
   "metadata": {},
   "source": [
    "I would want to look at broad peaks to find histone modifications that cover entire gene bodies. "
   ]
  },
  {
   "cell_type": "markdown",
   "metadata": {},
   "source": [
    "#### Print out the contents of the sbatch script and submit the job (10 pts)"
   ]
  },
  {
   "cell_type": "code",
   "execution_count": 16,
   "metadata": {},
   "outputs": [
    {
     "name": "stdout",
     "output_type": "stream",
     "text": [
      "#!/bin/bash\n",
      "#SBATCH --cpus-per-task=8\n",
      "#SBATCH --time=5:00:00\n",
      "#SBATCH --mem=10GB\n",
      "#SBATCH --job-name=samtools\n",
      "\n",
      "module load macs2/intel/2.2.7.1\n",
      "\n",
      "macs2 callpeak \\\n",
      "-t IDS1.sorted.bam \\\n",
      "-c Input_1.bam \\\n",
      "--format=BAM  \\\n",
      "--gsize=380000000 \\\n",
      "--cutoff-analysis  \\\n",
      "--qvalue=0.05 \\\n",
      "--outdir=macs2_out \\\n",
      "--name IDS1\n"
     ]
    }
   ],
   "source": [
    "cat macs.sh"
   ]
  },
  {
   "cell_type": "code",
   "execution_count": 17,
   "metadata": {},
   "outputs": [
    {
     "name": "stdout",
     "output_type": "stream",
     "text": [
      "Submitted batch job 17794925\n"
     ]
    }
   ],
   "source": [
    "sbatch macs.sh"
   ]
  },
  {
   "cell_type": "code",
   "execution_count": 20,
   "metadata": {},
   "outputs": [
    {
     "name": "stdout",
     "output_type": "stream",
     "text": [
      "Job ID: 17794925\n",
      "Cluster: greene\n",
      "User/Group: sg5096/sg5096\n",
      "State: COMPLETED (exit code 0)\n",
      "Nodes: 1\n",
      "Cores per node: 8\n",
      "CPU Utilized: 00:05:40\n",
      "CPU Efficiency: 12.35% of 00:45:52 core-walltime\n",
      "Job Wall-clock time: 00:05:44\n",
      "Memory Utilized: 707.25 MB\n",
      "Memory Efficiency: 6.91% of 10.00 GB\n"
     ]
    }
   ],
   "source": [
    "seff 17794925"
   ]
  },
  {
   "cell_type": "markdown",
   "metadata": {},
   "source": [
    "#### We will try running Homer's findMotifsGenome.pl command with no background sequences provided; as per the documentation:\n",
    "[Documentation](http://homer.ucsd.edu/homer/ngs/peakMotifs.html)\n",
    "#### \"If the background sequences were not explicitly defined, HOMER will automatically select them for you.  If you are using genomic positions, sequences will be randomly selected from the genome, matched for GC% content.\"\n",
    "#### Create a new folder called motif_analysis to dump the results from Homer\n",
    "#### Write and print an sbatch script called run_homer.sh to do this and submit the job (10 pts)"
   ]
  },
  {
   "cell_type": "code",
   "execution_count": 33,
   "metadata": {},
   "outputs": [
    {
     "name": "stdout",
     "output_type": "stream",
     "text": [
      "\n",
      "--------------------------- /share/apps/modulefiles ----------------------------\n",
      "   homer/4.11\n"
     ]
    }
   ],
   "source": [
    "module avail homer"
   ]
  },
  {
   "cell_type": "code",
   "execution_count": 34,
   "metadata": {},
   "outputs": [],
   "source": [
    "module load homer/4.11"
   ]
  },
  {
   "cell_type": "code",
   "execution_count": 21,
   "metadata": {},
   "outputs": [
    {
     "name": "stdout",
     "output_type": "stream",
     "text": [
      "#!/bin/bash\n",
      "#SBATCH --cpus-per-task=8\n",
      "#SBATCH --time=8:00:00\n",
      "#SBATCH --mem=64GB\n",
      "#SBATCH --job-name=homer\n",
      "\n",
      "module purge\n",
      "module load homer/4.11\n",
      "\n",
      "findMotifsGenome.pl macs2_out/IDS1_peaks.narrowPeak GCA_001433935.1_IRGSP-1.0_genomic.fna motif_analysis/ -size 200 -len 8"
     ]
    }
   ],
   "source": [
    "cat run_homer.sh"
   ]
  },
  {
   "cell_type": "code",
   "execution_count": 22,
   "metadata": {},
   "outputs": [
    {
     "name": "stdout",
     "output_type": "stream",
     "text": [
      "Submitted batch job 17796371\n"
     ]
    }
   ],
   "source": [
    "sbatch run_homer.sh"
   ]
  },
  {
   "cell_type": "code",
   "execution_count": 31,
   "metadata": {},
   "outputs": [
    {
     "name": "stdout",
     "output_type": "stream",
     "text": [
      "Job ID: 17796371\n",
      "Cluster: greene\n",
      "User/Group: sg5096/sg5096\n",
      "State: COMPLETED (exit code 0)\n",
      "Nodes: 1\n",
      "Cores per node: 8\n",
      "CPU Utilized: 00:26:38\n",
      "CPU Efficiency: 12.43% of 03:34:16 core-walltime\n",
      "Job Wall-clock time: 00:26:47\n",
      "Memory Utilized: 607.49 MB\n",
      "Memory Efficiency: 0.93% of 64.00 GB\n"
     ]
    }
   ],
   "source": [
    "seff 17796371"
   ]
  },
  {
   "cell_type": "markdown",
   "metadata": {},
   "source": [
    "#### Look at the known and de novo motifs detected by Homer \n",
    "#### Across the known and de novo motifs, what are the top three most enriched motifs (note down their names)? (15 pts)"
   ]
  },
  {
   "cell_type": "raw",
   "metadata": {},
   "source": [
    "For the known motifs, the most enriched motifs with the lowest p-values are: \n",
    "1. TF3A(C2H2)/col-TF3A-DAP-Seq(GSE60143)/Homer\n",
    "2. WRKY55(WRKY)/col-WRKY55-DAP-Seq(GSE60143)/Homer\n",
    "3. WRKY75(WRKY)/col-WRKY75-DAP-Seq(GSE60143)/Homer\n",
    "\n",
    "For the de novo motifs, the most enriched motifs are:\n",
    "1. PB0133.1_Hic1_2/Jaspar(0.829)\n",
    "2. ZNF711(Zf)/SHSY5Y-ZNF711-ChIP-Seq(GSE20673)/Homer(0.794)\n",
    "3. RAV1(1)(AP2/EREBP)/Arabidopsis thaliana/AthaMap(0.819)"
   ]
  },
  {
   "cell_type": "markdown",
   "metadata": {},
   "source": [
    "#### Compare these motifs to the ones reported in Figure 3 in the original [paper](https://academic.oup.com/plphys/article/178/2/824/6116647). Comment on similarities/differences. (5 pts)"
   ]
  },
  {
   "cell_type": "raw",
   "metadata": {},
   "source": [
    "The motifs in figure 3 of the original paper are predominantly T,C and G, specifically TCCTCC and GCCGCC. The known motifs are primarily T, A, and G while the de novo motifs are primarily T, C and G. The known motifs have T and G in common while the de novo motifs have all three bases in common. "
   ]
  },
  {
   "cell_type": "markdown",
   "metadata": {},
   "source": [
    "#### Looking at the results from the paper (generated using MEME) and your results using Homer, how would you approach a similar problem in your own work in the future? This is not asking for any single correct answer; just think of ways you would trust your results more. (10 pts)"
   ]
  },
  {
   "cell_type": "raw",
   "metadata": {},
   "source": [
    "I think I would approach a similar problem in my own work in the future similarly to how I did in this assignment. I would also maybe do a functional analysis along with a sequence analysis to look for potential differences. "
   ]
  }
 ],
 "metadata": {
  "interpreter": {
   "hash": "40d3a090f54c6569ab1632332b64b2c03c39dcf918b08424e98f38b5ae0af88f"
  },
  "kernelspec": {
   "display_name": "Bash",
   "language": "bash",
   "name": "bash"
  },
  "language_info": {
   "codemirror_mode": "shell",
   "file_extension": ".sh",
   "mimetype": "text/x-sh",
   "name": "bash"
  }
 },
 "nbformat": 4,
 "nbformat_minor": 4
}
