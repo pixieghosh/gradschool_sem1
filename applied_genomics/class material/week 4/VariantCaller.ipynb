{
 "cells": [
  {
   "cell_type": "markdown",
   "metadata": {},
   "source": [
    "# Variant Caller\n",
    "\n",
    "The following pipeline is derived from : [Learn Gencore - Variant Calling](https://learn.gencore.bio.nyu.edu/variant-calling/)\n",
    "\n",
    "Continuing from last week's alignment. Let's first add a \"read group\" to the alignment file so GATK will have more information about the sample.\n",
    "\n"
   ]
  },
  {
   "cell_type": "code",
   "execution_count": 2,
   "metadata": {},
   "outputs": [],
   "source": [
    "cd alignment"
   ]
  },
  {
   "cell_type": "code",
   "execution_count": 3,
   "metadata": {},
   "outputs": [
    {
     "name": "stdout",
     "output_type": "stream",
     "text": [
      "GCF_000001405.33_GRCh38.p7_chr20_genomic.fna  read_2.fastq\n",
      "aligned_reads.sam\t\t\t      slurm-14772653.out\n",
      "aligned_reads2.sam\t\t\t      slurm-14772803.out\n",
      "bwa.sh\t\t\t\t\t      slurm-14772830.out\n",
      "human20.0123\t\t\t\t      slurm-14772859.out\n",
      "human20.amb\t\t\t\t      slurm-14772860.out\n",
      "human20.ann\t\t\t\t      slurm-14772861.out\n",
      "human20.bwt.2bit.64\t\t\t      slurm-14772862.out\n",
      "human20.pac\t\t\t\t      slurm-14772863.out\n",
      "read_1.fastq\t\t\t\t      slurm-14839008.out\n",
      "read_1.fastq.sam\n"
     ]
    }
   ],
   "source": [
    "ls"
   ]
  },
  {
   "cell_type": "markdown",
   "metadata": {},
   "source": [
    "## Sorting and converting to BAM in one step\n",
    "\n",
    "The algorithms used in downstream steps require the data to be sorted by coordinate and in bam format in order to be processed. We use Picard Tools and issue a single command to both sort the sam file produced in step 1 and output the resulting sorted data in bam format.\n",
    "\n",
    "For a full list of all commands available in picard tools, see this site [Picard tools](https://broadinstitute.github.io/picard/)\n",
    "\n",
    "similar to trimmomatic, we can use the environment variable to tell the java application where the picard jar file is.\n"
   ]
  },
  {
   "cell_type": "code",
   "execution_count": 4,
   "metadata": {},
   "outputs": [
    {
     "name": "stdout",
     "output_type": "stream",
     "text": [
      "\n",
      "--------------------------- /share/apps/modulefiles ----------------------------\n",
      "   picard/2.17.11    picard/2.23.8\n"
     ]
    }
   ],
   "source": [
    "module avail picard"
   ]
  },
  {
   "cell_type": "code",
   "execution_count": 5,
   "metadata": {},
   "outputs": [],
   "source": [
    "module load picard/2.23.8"
   ]
  },
  {
   "cell_type": "code",
   "execution_count": 6,
   "metadata": {},
   "outputs": [
    {
     "name": "stdout",
     "output_type": "stream",
     "text": [
      "INFO\t2022-02-15 21:20:24\tSortSam\t\n",
      "\n",
      "********** NOTE: Picard's command line syntax is changing.\n",
      "**********\n",
      "********** For more information, please see:\n",
      "********** https://github.com/broadinstitute/picard/wiki/Command-Line-Syntax-Transition-For-Users-(Pre-Transition)\n",
      "**********\n",
      "********** The command line looks like this in the new syntax:\n",
      "**********\n",
      "**********    SortSam -INPUT aligned_reads.sam -OUTPUT sorted_reads.bam -SORT_ORDER coordinate\n",
      "**********\n",
      "\n",
      "\n",
      "21:20:24.713 INFO  NativeLibraryLoader - Loading libgkl_compression.so from jar:file:/share/apps/picard/2.23.8/picard.jar!/com/intel/gkl/native/libgkl_compression.so\n",
      "[Tue Feb 15 21:20:24 EST 2022] SortSam INPUT=aligned_reads.sam OUTPUT=sorted_reads.bam SORT_ORDER=coordinate    VERBOSITY=INFO QUIET=false VALIDATION_STRINGENCY=STRICT COMPRESSION_LEVEL=5 MAX_RECORDS_IN_RAM=500000 CREATE_INDEX=false CREATE_MD5_FILE=false GA4GH_CLIENT_SECRETS=client_secrets.json USE_JDK_DEFLATER=false USE_JDK_INFLATER=false\n",
      "[Tue Feb 15 21:20:24 EST 2022] Executing as msk8@cm002.hpc.nyu.edu on Linux 4.18.0-305.28.1.el8_4.x86_64 amd64; Java HotSpot(TM) 64-Bit Server VM 1.8.0_271-b09; Deflater: Intel; Inflater: Intel; Provider GCS is not available; Picard version: 2.23.8\n",
      "INFO\t2022-02-15 21:20:25\tSortSam\tSeen many non-increasing record positions. Printing Read-names as well.\n",
      "INFO\t2022-02-15 21:20:27\tSortSam\tFinished reading inputs, merging and writing to output now.\n",
      "[Tue Feb 15 21:20:29 EST 2022] picard.sam.SortSam done. Elapsed time: 0.09 minutes.\n",
      "Runtime.totalMemory()=518979584\n"
     ]
    }
   ],
   "source": [
    "java -jar $PICARD_JAR SortSam \\\n",
    "INPUT=aligned_reads.sam \\\n",
    "OUTPUT=sorted_reads.bam \\\n",
    "SORT_ORDER=coordinate"
   ]
  },
  {
   "cell_type": "code",
   "execution_count": 10,
   "metadata": {},
   "outputs": [
    {
     "name": "stdout",
     "output_type": "stream",
     "text": [
      "-rw-rw-r--. 1 msk8 msk8 63M Feb  9 11:25 aligned_reads.sam\n",
      "-rw-rw-r--. 1 msk8 msk8 63M Feb  9 11:52 aligned_reads2.sam\n",
      "-rw-rw-r--. 1 msk8 msk8 63M Feb 10 23:17 read_1.fastq.sam\n",
      "-rw-rw-r--. 1 msk8 msk8 16M Feb 15 21:20 sorted_reads.bam\n"
     ]
    }
   ],
   "source": [
    "ls -hl *am"
   ]
  },
  {
   "cell_type": "markdown",
   "metadata": {},
   "source": [
    "Notice how much smaller the bam file is. It contains the same information as the sam file but sorted."
   ]
  },
  {
   "cell_type": "markdown",
   "metadata": {},
   "source": [
    "## Add Readgroup\n",
    "\n",
    "In the pipeline it is important to tag all the reads with the sample id and other meta information which will be helpful to group the samples for our analysis. This can be done during the alignment step, as discussed in the reference provided, but also using picard tools. \n",
    "\n"
   ]
  },
  {
   "cell_type": "code",
   "execution_count": 11,
   "metadata": {},
   "outputs": [
    {
     "name": "stdout",
     "output_type": "stream",
     "text": [
      "INFO\t2022-02-15 21:22:18\tAddOrReplaceReadGroups\t\n",
      "\n",
      "********** NOTE: Picard's command line syntax is changing.\n",
      "**********\n",
      "********** For more information, please see:\n",
      "********** https://github.com/broadinstitute/picard/wiki/Command-Line-Syntax-Transition-For-Users-(Pre-Transition)\n",
      "**********\n",
      "********** The command line looks like this in the new syntax:\n",
      "**********\n",
      "**********    AddOrReplaceReadGroups -I sorted_reads.bam -O sorted_reads_rg.bam -RGID sample_1 -RGLB sample_1 -RGPL ILLUMINA -RGPM HISEQ -RGPU sample_1 -RGSM sample_1\n",
      "**********\n",
      "\n",
      "\n",
      "21:22:19.240 INFO  NativeLibraryLoader - Loading libgkl_compression.so from jar:file:/share/apps/picard/2.23.8/picard.jar!/com/intel/gkl/native/libgkl_compression.so\n",
      "[Tue Feb 15 21:22:19 EST 2022] AddOrReplaceReadGroups INPUT=sorted_reads.bam OUTPUT=sorted_reads_rg.bam RGID=sample_1 RGLB=sample_1 RGPL=ILLUMINA RGPU=sample_1 RGSM=sample_1 RGPM=HISEQ    VERBOSITY=INFO QUIET=false VALIDATION_STRINGENCY=STRICT COMPRESSION_LEVEL=5 MAX_RECORDS_IN_RAM=500000 CREATE_INDEX=false CREATE_MD5_FILE=false GA4GH_CLIENT_SECRETS=client_secrets.json USE_JDK_DEFLATER=false USE_JDK_INFLATER=false\n",
      "[Tue Feb 15 21:22:19 EST 2022] Executing as msk8@cm002.hpc.nyu.edu on Linux 4.18.0-305.28.1.el8_4.x86_64 amd64; Java HotSpot(TM) 64-Bit Server VM 1.8.0_271-b09; Deflater: Intel; Inflater: Intel; Provider GCS is not available; Picard version: 2.23.8\n",
      "INFO\t2022-02-15 21:22:19\tAddOrReplaceReadGroups\tCreated read-group ID=sample_1 PL=ILLUMINA LB=sample_1 SM=sample_1\n",
      "\n",
      "[Tue Feb 15 21:22:23 EST 2022] picard.sam.AddOrReplaceReadGroups done. Elapsed time: 0.07 minutes.\n",
      "Runtime.totalMemory()=518979584\n"
     ]
    }
   ],
   "source": [
    "java -jar $PICARD_JAR AddOrReplaceReadGroups \\\n",
    "I=sorted_reads.bam \\\n",
    "O=sorted_reads_rg.bam \\\n",
    "RGID=sample_1 \\\n",
    "RGLB=sample_1 \\\n",
    "RGPL=ILLUMINA \\\n",
    "RGPM=HISEQ \\\n",
    "RGPU=sample_1 \\\n",
    "RGSM=sample_1\n"
   ]
  },
  {
   "cell_type": "markdown",
   "metadata": {},
   "source": [
    "Let's inspect the original sam file and the new bam file with read groups to see the difference. We will use samtools to peak into the bam file."
   ]
  },
  {
   "cell_type": "code",
   "execution_count": 12,
   "metadata": {},
   "outputs": [
    {
     "name": "stdout",
     "output_type": "stream",
     "text": [
      "\n",
      "--------------------------- /share/apps/modulefiles ----------------------------\n",
      "   samtools/intel/1.11    samtools/intel/1.12    samtools/intel/1.14\n"
     ]
    }
   ],
   "source": [
    "module avail samtools"
   ]
  },
  {
   "cell_type": "code",
   "execution_count": 13,
   "metadata": {},
   "outputs": [],
   "source": [
    "module load samtools/intel/1.14"
   ]
  },
  {
   "cell_type": "code",
   "execution_count": 14,
   "metadata": {},
   "outputs": [
    {
     "name": "stdout",
     "output_type": "stream",
     "text": [
      "HS2000-940_146:5:1101:1161:63226\t73\tNC_000020.11\t23775298\t60\t78M22S\t=\t23775298\t0\tCTGNTAGCCCTGCTGAATCTCCCTCCTGACCCAACTCCCTCNTNNNNNNNGCTGGGTGACTGCTGNCNNCACNGGCTGTGNNNNNNNNNNNNNCAGCTGG\t?@@#4ADDDFDFFHIGGFCFHCHFGIHGCGHEHHEHD3?BH#0#######--5CEECG=?AEEHE###################################\tNM:i:13\tMD:Z:3G37C1C0T0A0C0T0C0T15T1C0T3T5\tAS:i:52\tXS:i:0\n",
      "HS2000-940_146:5:1101:1161:63226\t133\tNC_000020.11\t23775298\t0\t*\t=\t23775298\t0\tNNCTCNNNNNNNNNNNNNNNNNNNNNNNNNNNNNNNNNNNNNNNNNNNNNNNNNNNNNNNNNNNNNNNNNNNNNNNNNNGNNNNCNAAAGGAGCCTGGGT\t####################################################################################################\tMC:Z:78M22S\tAS:i:0\tXS:i:0\n",
      "HS2000-940_146:5:1101:1262:12434\t99\tNC_000020.11\t23843774\t60\t100M\t=\t23843977\t258\tATCAATGGTGTTTCTTTGCCAAGCTTCCTTAGTCGCCTTTAATCGGGAAAAGGTCTTCATTCTTTCTTGTCTTTGTTACCCTGTCATTTTTGAAGATAAC\t?@@BDDFFFFHHHGHIIIHJEGHIIIGIJICHIGIIGIJIDHHGJJJ:;8EFH=CFHGGHIIIJJHHGBEHFFFFEEDCCCCEDCCADDEDD(5>5>@5@\tNM:i:0\tMD:Z:100\tMC:Z:55M45S\tAS:i:100\tXS:i:60\n",
      "HS2000-940_146:5:1101:1262:12434\t147\tNC_000020.11\t23843977\t60\t55M45S\t=\t23843774\t-258\tGTACATCATTCTGGGAGGCCAGGATACCATTGTCCAATTGCNNNNGGATGTTAATNNNNNNNNNNNNNNNNNNNNANNNNCTTCCNNNNNNNNCCACTCT\t#CDDCCC@38C<DDDDBBCDC;5ADDDCCACAADCC?=5,,####>CGHDC;;--####################1####FC<24########FDDD=B=\tNM:i:4\tMD:Z:41T0G0A0T10\tMC:Z:100M\tAS:i:47\tXS:i:28\n",
      "HS2000-940_146:5:1101:1295:90112\t83\tNC_000020.11\t23920564\t60\t100M\t=\t23920284\t-380\tGCAAGTGAATGCTCTTTCCCACAGCAAAGGATTAACTGATTTCTGCTACTTGTGGCTCAGAGGCCAGGGACACTTGACCTGTCCTAGGAAGGCTGTCACC\t#@DDDD@><DDDEEAC?FFFHHEC=HECEAIGGE@IIGGHB;HAFD??F?IIJIEGGCIIJJJIHCIIIIIHIIHECIJIIHIJJJIFGHHFFDFFF@C@\tNM:i:0\tMD:Z:100\tMC:Z:100M\tAS:i:100\tXS:i:0\n",
      "samtools view: writing to standard output failed: Broken pipe\n",
      "samtools view: error closing standard output: -1\n"
     ]
    }
   ],
   "source": [
    "samtools view aligned_reads.sam | head -5"
   ]
  },
  {
   "cell_type": "code",
   "execution_count": 15,
   "metadata": {},
   "outputs": [
    {
     "name": "stdout",
     "output_type": "stream",
     "text": [
      "HS2000-940_146:5:2109:14063:29918\t161\tNC_000020.11\t64145\t2\t54S46M\t=\t23724989\t23660944\tTTCCAATCCATTCCATTCCATCACACTGCATTCCATTCCATTCCAATCCCCTCAACTCCACTCCACTCCACTCCATTCCACTCCAATCAATTCCATTGCA\t@CCFFFFFHGDHHJIJJJJJIJIFHHGCGIHHIJJJGHIHIIIJJIHIGGGHIJJE:FFHIGIDHJGIGGIJJ@;CDHGGEIHHHEHF;CCB>;;3;>;>\tXA:Z:NC_000020.11,+60520,54S31M15S,0;NC_000020.11,+60582,56S29M15S,0;NC_000020.11,+64492,56S29M15S,0;NC_000020.11,+62105,85M15S,12;\tMC:Z:100M\tMD:Z:6G27C8T2\tRG:Z:sample_1\tNM:i:3\tAS:i:33\tXS:i:31\n",
      "HS2000-940_146:5:2110:1521:37886\t163\tNC_000020.11\t1217420\t0\t55S21M24S\t=\t1217591\t271\tGACAGTTCTGAAGAGAGCAGGGGTTCTTCCAGCATTGCATTTGAGCTCCGAAAATGGACAGACTGCCTCCTCAAGTCGGTCCTTGACCTCCGTGCACCCT\t?7:DDD:B,+ADD43C?BF++<2<):**11*1:;C*0?0B?F>GCDBF30'-'-8@8..@1@E@;37@)?76@###########################\tXA:Z:NC_000020.11,+22851991,88M12S,11;NC_000020.11,-23620838,66S34M,1;NC_000020.11,-35076707,12S32M56S,2;NC_000020.11,-16793280,12S36M52S,3;\tMC:Z:100M\tMD:Z:21\tRG:Z:sample_1\tNM:i:0\tAS:i:21\tXS:i:34\n",
      "HS2000-940_146:5:2110:1521:37886\t83\tNC_000020.11\t1217591\t0\t100M\t=\t1217420\t-271\tATATCCAGACAAACAGGGTCTGGAGTAGACCTCCAGCAAATTCCAACAGACCTGCAGCTGAGGGTCCTGACTGTTAGAAGGAAAACTAACAAACAGAAAG\tCA@>9CA;5?@>6;;..1;77;3=77)75CCF=)>HG@>BB3GEIGFB??BHDIIIGBHGFC:13@ACF9CAA,@F?EDA4IGGGAGHHHGHEFFFD?@@\tMC:Z:55S21M24S\tMD:Z:3C4G17G13C59\tRG:Z:sample_1\tNM:i:4\tAS:i:81\tXS:i:81\n",
      "HS2000-940_146:5:1102:10582:53061\t113\tNC_000020.11\t1544082\t22\t100M\t=\t23852837\t22308739\tTTCTGTTGATTTGGGGTGGAGAGTTCTGTAGAGGTCTGTTAGGTCTGCTTGGTCCAGAGCTGAGCTCAAATCCTGAATATCCTTGTTAATTTTCTGTCTC\t###CCA:(>(;?:8;A>A>D@>D@=3=>7=@72@@AED@7BFCF?EIIF?0;IGAFD9HFD9D9@>E?9+<HCIGHEA?C3DDFDGBFD?C?DDAAD?;;\tXA:Z:NC_000020.11,+24945365,100M,6;NC_000020.11,+25168529,100M,6;NC_000020.11,-13378546,100M,7;\tMC:Z:17S83M\tMD:Z:32T4A26T4G30\tRG:Z:sample_1\tNM:i:4\tAS:i:80\tXS:i:70\n",
      "HS2000-940_146:5:1112:8371:47601\t99\tNC_000020.11\t2502086\t10\t100M\t=\t2502334\t348\tAACTAGAATAACCAATGCAGAGAAGTCCTTAAAGGACCTGATGGAGCTGAAAACCAAGGCACAAGAACTACGTGATGAATACACAAGCCTCAGTAGCCGA\tCCCFFFFFHHHHHIJIIJJJJGJJIHHIIJJJJIJGIJJIGGHGHHGGIIJJJJJJJGHGGGIIJIIGHHHGEDFEEFEEEEEEDDDBDDDCC>CCDDBB\tXA:Z:NC_000020.11,+29023197,100M,5;NC_000020.11,-22992370,5S95M,4;NC_000020.11,-54906174,100M,6;NC_000020.11,-14466350,25S75M,1;\tMC:Z:100M\tMD:Z:33A22T5G12C4G19\tRG:Z:sample_1\tNM:i:5\tAS:i:75\tXS:i:79\n",
      "samtools view: writing to standard output failed: Broken pipe\n",
      "samtools view: error closing standard output: -1\n"
     ]
    }
   ],
   "source": [
    "samtools view sorted_reads_rg.bam | head -5"
   ]
  },
  {
   "cell_type": "markdown",
   "metadata": {},
   "source": [
    "Notice in the original file the pair reads are near each other, where as in the sorted file it is based on where the sequences match on the chromosome.\n",
    "\n",
    "Also notice in the second file there is an entry for **RG:Z:sample_1** in the last column. "
   ]
  },
  {
   "cell_type": "markdown",
   "metadata": {},
   "source": [
    "Samtools also has a command to provide a summary of the alignment"
   ]
  },
  {
   "cell_type": "code",
   "execution_count": 16,
   "metadata": {},
   "outputs": [
    {
     "name": "stdout",
     "output_type": "stream",
     "text": [
      "194483 + 0 in total (QC-passed reads + QC-failed reads)\n",
      "194412 + 0 primary\n",
      "0 + 0 secondary\n",
      "71 + 0 supplementary\n",
      "0 + 0 duplicates\n",
      "0 + 0 primary duplicates\n",
      "193795 + 0 mapped (99.65% : N/A)\n",
      "193724 + 0 primary mapped (99.65% : N/A)\n",
      "194412 + 0 paired in sequencing\n",
      "97206 + 0 read1\n",
      "97206 + 0 read2\n",
      "190810 + 0 properly paired (98.15% : N/A)\n",
      "193108 + 0 with itself and mate mapped\n",
      "616 + 0 singletons (0.32% : N/A)\n",
      "0 + 0 with mate mapped to a different chr\n",
      "0 + 0 with mate mapped to a different chr (mapQ>=5)\n"
     ]
    }
   ],
   "source": [
    "samtools flagstat sorted_reads_rg.bam"
   ]
  },
  {
   "cell_type": "markdown",
   "metadata": {},
   "source": [
    "## Mark Duplicates.\n",
    "\n",
    "During the sequencing process, the same DNA fragments may be sequenced several times. These duplicate reads are not informative and cannot be considered as evidence for or against a putative variant. For example, duplicates can arise during sample preparation e.g. library construction using PCR. Without this step, you risk having over-representation in your sequence of areas preferentially amplified during PCR. Duplicate reads can also result from a single amplification cluster, incorrectly detected as multiple clusters by the optical sensor of the sequencing instrument. These duplication artifacts are referred to as optical duplicates.\n",
    "\n",
    "We use Picard Tools to locate and tag duplicate reads in a BAM or SAM file, where duplicate reads are defined as originating from a single fragment of DNA.\n",
    "\n",
    "Note that this step does not remove the duplicate reads, but rather flags them as such in the read’s SAM record. We’ll take a look at how this is done shortly. Downstream GATK tools will ignore reads flagged as duplicates by default.\n",
    "\n",
    "Note: Duplicate marking should not be applied to amplicon sequencing or other data types where reads start and stop at the same positions by design."
   ]
  },
  {
   "cell_type": "code",
   "execution_count": 17,
   "metadata": {},
   "outputs": [
    {
     "name": "stdout",
     "output_type": "stream",
     "text": [
      "INFO\t2022-02-15 21:30:10\tMarkDuplicates\t\n",
      "\n",
      "********** NOTE: Picard's command line syntax is changing.\n",
      "**********\n",
      "********** For more information, please see:\n",
      "********** https://github.com/broadinstitute/picard/wiki/Command-Line-Syntax-Transition-For-Users-(Pre-Transition)\n",
      "**********\n",
      "********** The command line looks like this in the new syntax:\n",
      "**********\n",
      "**********    MarkDuplicates -INPUT sorted_reads_rg.bam -OUTPUT dedup_reads.bam -METRICS_FILE metrics.txt\n",
      "**********\n",
      "\n",
      "\n",
      "21:30:10.724 INFO  NativeLibraryLoader - Loading libgkl_compression.so from jar:file:/share/apps/picard/2.23.8/picard.jar!/com/intel/gkl/native/libgkl_compression.so\n",
      "[Tue Feb 15 21:30:10 EST 2022] MarkDuplicates INPUT=[sorted_reads_rg.bam] OUTPUT=dedup_reads.bam METRICS_FILE=metrics.txt    MAX_SEQUENCES_FOR_DISK_READ_ENDS_MAP=50000 MAX_FILE_HANDLES_FOR_READ_ENDS_MAP=8000 SORTING_COLLECTION_SIZE_RATIO=0.25 TAG_DUPLICATE_SET_MEMBERS=false REMOVE_SEQUENCING_DUPLICATES=false TAGGING_POLICY=DontTag CLEAR_DT=true DUPLEX_UMI=false ADD_PG_TAG_TO_READS=true REMOVE_DUPLICATES=false ASSUME_SORTED=false DUPLICATE_SCORING_STRATEGY=SUM_OF_BASE_QUALITIES PROGRAM_RECORD_ID=MarkDuplicates PROGRAM_GROUP_NAME=MarkDuplicates READ_NAME_REGEX=<optimized capture of last three ':' separated fields as numeric values> OPTICAL_DUPLICATE_PIXEL_DISTANCE=100 MAX_OPTICAL_DUPLICATE_SET_SIZE=300000 VERBOSITY=INFO QUIET=false VALIDATION_STRINGENCY=STRICT COMPRESSION_LEVEL=5 MAX_RECORDS_IN_RAM=500000 CREATE_INDEX=false CREATE_MD5_FILE=false GA4GH_CLIENT_SECRETS=client_secrets.json USE_JDK_DEFLATER=false USE_JDK_INFLATER=false\n",
      "[Tue Feb 15 21:30:10 EST 2022] Executing as msk8@cm002.hpc.nyu.edu on Linux 4.18.0-305.28.1.el8_4.x86_64 amd64; Java HotSpot(TM) 64-Bit Server VM 1.8.0_271-b09; Deflater: Intel; Inflater: Intel; Provider GCS is not available; Picard version: 2.23.8\n",
      "INFO\t2022-02-15 21:30:10\tMarkDuplicates\tStart of doWork freeMemory: 505985144; totalMemory: 519110656; maxMemory: 8303607808\n",
      "INFO\t2022-02-15 21:30:10\tMarkDuplicates\tReading input file and constructing read end information.\n",
      "INFO\t2022-02-15 21:30:10\tMarkDuplicates\tWill retain up to 30085535 data points before spilling to disk.\n",
      "INFO\t2022-02-15 21:30:14\tMarkDuplicates\tRead 194411 records. 0 pairs never matched.\n",
      "INFO\t2022-02-15 21:30:14\tMarkDuplicates\tAfter buildSortedReadEndLists freeMemory: 382115504; totalMemory: 657932288; maxMemory: 8303607808\n",
      "INFO\t2022-02-15 21:30:14\tMarkDuplicates\tWill retain up to 259487744 duplicate indices before spilling to disk.\n",
      "INFO\t2022-02-15 21:30:16\tMarkDuplicates\tTraversing read pair information and detecting duplicates.\n",
      "INFO\t2022-02-15 21:30:16\tMarkDuplicates\tTraversing fragment information and detecting duplicates.\n",
      "INFO\t2022-02-15 21:30:16\tMarkDuplicates\tSorting list of duplicate records.\n",
      "INFO\t2022-02-15 21:30:17\tMarkDuplicates\tAfter generateDuplicateIndexes freeMemory: 2919023064; totalMemory: 5026181120; maxMemory: 8303607808\n",
      "INFO\t2022-02-15 21:30:17\tMarkDuplicates\tMarking 15269 records as duplicates.\n",
      "INFO\t2022-02-15 21:30:17\tMarkDuplicates\tFound 31 optical duplicate clusters.\n",
      "INFO\t2022-02-15 21:30:17\tMarkDuplicates\tReads are assumed to be ordered by: coordinate\n",
      "INFO\t2022-02-15 21:30:19\tMarkDuplicates\tWriting complete. Closing input iterator.\n",
      "INFO\t2022-02-15 21:30:19\tMarkDuplicates\tDuplicate Index cleanup.\n",
      "INFO\t2022-02-15 21:30:19\tMarkDuplicates\tGetting Memory Stats.\n",
      "INFO\t2022-02-15 21:30:19\tMarkDuplicates\tBefore output close freeMemory: 4994501184; totalMemory: 5026181120; maxMemory: 8303607808\n",
      "INFO\t2022-02-15 21:30:19\tMarkDuplicates\tClosed outputs. Getting more Memory Stats.\n",
      "INFO\t2022-02-15 21:30:19\tMarkDuplicates\tAfter output close freeMemory: 4546269376; totalMemory: 4575494144; maxMemory: 8303607808\n",
      "[Tue Feb 15 21:30:19 EST 2022] picard.sam.markduplicates.MarkDuplicates done. Elapsed time: 0.15 minutes.\n",
      "Runtime.totalMemory()=4575494144\n"
     ]
    }
   ],
   "source": [
    "java -jar $PICARD_JAR MarkDuplicates \\\n",
    "INPUT=sorted_reads_rg.bam \\\n",
    "OUTPUT=dedup_reads.bam \\\n",
    "METRICS_FILE=metrics.txt"
   ]
  },
  {
   "cell_type": "code",
   "execution_count": 18,
   "metadata": {},
   "outputs": [
    {
     "name": "stdout",
     "output_type": "stream",
     "text": [
      "## htsjdk.samtools.metrics.StringHeader\n",
      "# MarkDuplicates INPUT=[sorted_reads_rg.bam] OUTPUT=dedup_reads.bam METRICS_FILE=metrics.txt    MAX_SEQUENCES_FOR_DISK_READ_ENDS_MAP=50000 MAX_FILE_HANDLES_FOR_READ_ENDS_MAP=8000 SORTING_COLLECTION_SIZE_RATIO=0.25 TAG_DUPLICATE_SET_MEMBERS=false REMOVE_SEQUENCING_DUPLICATES=false TAGGING_POLICY=DontTag CLEAR_DT=true DUPLEX_UMI=false ADD_PG_TAG_TO_READS=true REMOVE_DUPLICATES=false ASSUME_SORTED=false DUPLICATE_SCORING_STRATEGY=SUM_OF_BASE_QUALITIES PROGRAM_RECORD_ID=MarkDuplicates PROGRAM_GROUP_NAME=MarkDuplicates READ_NAME_REGEX=<optimized capture of last three ':' separated fields as numeric values> OPTICAL_DUPLICATE_PIXEL_DISTANCE=100 MAX_OPTICAL_DUPLICATE_SET_SIZE=300000 VERBOSITY=INFO QUIET=false VALIDATION_STRINGENCY=STRICT COMPRESSION_LEVEL=5 MAX_RECORDS_IN_RAM=500000 CREATE_INDEX=false CREATE_MD5_FILE=false GA4GH_CLIENT_SECRETS=client_secrets.json USE_JDK_DEFLATER=false USE_JDK_INFLATER=false\n",
      "## htsjdk.samtools.metrics.StringHeader\n",
      "# Started on: Tue Feb 15 21:30:10 EST 2022\n",
      "\n",
      "## METRICS CLASS\tpicard.sam.DuplicationMetrics\n",
      "LIBRARY\tUNPAIRED_READS_EXAMINED\tREAD_PAIRS_EXAMINED\tSECONDARY_OR_SUPPLEMENTARY_RDS\tUNMAPPED_READS\tUNPAIRED_READ_DUPLICATES\tREAD_PAIR_DUPLICATES\tREAD_PAIR_OPTICAL_DUPLICATES\tPERCENT_DUPLICATION\tESTIMATED_LIBRARY_SIZE\n",
      "sample_1\t616\t96554\t71\t688\t165\t7552\t31\t0.078818\t586767\n",
      "\n",
      "## HISTOGRAM\tjava.lang.Double\n",
      "BIN\tCoverageMult\tall_sets\toptical_sets\tnon_optical_sets\n",
      "1.0\t1.000295\t81919\t0\t81946\n",
      "2.0\t1.848819\t6644\t31\t6620\n",
      "3.0\t2.568599\t410\t0\t408\n",
      "4.0\t3.179169\t28\t0\t27\n",
      "5.0\t3.697099\t1\t0\t1\n",
      "6.0\t4.136445\t0\t0\t0\n",
      "7.0\t4.509131\t0\t0\t0\n",
      "8.0\t4.82527\t0\t0\t0\n",
      "9.0\t5.093443\t0\t0\t0\n",
      "10.0\t5.320926\t0\t0\t0\n",
      "11.0\t5.513894\t0\t0\t0\n",
      "12.0\t5.677584\t0\t0\t0\n",
      "13.0\t5.816438\t0\t0\t0\n",
      "14.0\t5.934224\t0\t0\t0\n",
      "15.0\t6.034138\t0\t0\t0\n",
      "16.0\t6.118893\t0\t0\t0\n",
      "17.0\t6.190788\t0\t0\t0\n",
      "18.0\t6.251775\t0\t0\t0\n",
      "19.0\t6.303508\t0\t0\t0\n",
      "20.0\t6.347393\t0\t0\t0\n",
      "21.0\t6.384618\t0\t0\t0\n",
      "22.0\t6.416196\t0\t0\t0\n",
      "23.0\t6.442982\t0\t0\t0\n",
      "24.0\t6.465704\t0\t0\t0\n",
      "25.0\t6.484979\t0\t0\t0\n",
      "26.0\t6.501329\t0\t0\t0\n",
      "27.0\t6.515199\t0\t0\t0\n",
      "28.0\t6.526964\t0\t0\t0\n",
      "29.0\t6.536944\t0\t0\t0\n",
      "30.0\t6.545409\t0\t0\t0\n",
      "31.0\t6.552591\t0\t0\t0\n",
      "32.0\t6.558682\t0\t0\t0\n",
      "33.0\t6.56385\t0\t0\t0\n",
      "34.0\t6.568233\t0\t0\t0\n",
      "35.0\t6.571951\t0\t0\t0\n",
      "36.0\t6.575105\t0\t0\t0\n",
      "37.0\t6.577781\t0\t0\t0\n",
      "38.0\t6.580051\t0\t0\t0\n",
      "39.0\t6.581976\t0\t0\t0\n",
      "40.0\t6.583609\t0\t0\t0\n",
      "41.0\t6.584994\t0\t0\t0\n",
      "42.0\t6.586169\t0\t0\t0\n",
      "43.0\t6.587166\t0\t0\t0\n",
      "44.0\t6.588012\t0\t0\t0\n",
      "45.0\t6.588729\t0\t0\t0\n",
      "46.0\t6.589338\t0\t0\t0\n",
      "47.0\t6.589854\t0\t0\t0\n",
      "48.0\t6.590292\t0\t0\t0\n",
      "49.0\t6.590663\t0\t0\t0\n",
      "50.0\t6.590978\t0\t0\t0\n",
      "51.0\t6.591245\t0\t0\t0\n",
      "52.0\t6.591472\t0\t0\t0\n",
      "53.0\t6.591664\t0\t0\t0\n",
      "54.0\t6.591827\t0\t0\t0\n",
      "55.0\t6.591966\t0\t0\t0\n",
      "56.0\t6.592083\t0\t0\t0\n",
      "57.0\t6.592183\t0\t0\t0\n",
      "58.0\t6.592267\t0\t0\t0\n",
      "59.0\t6.592339\t0\t0\t0\n",
      "60.0\t6.5924\t0\t0\t0\n",
      "61.0\t6.592451\t0\t0\t0\n",
      "62.0\t6.592495\t0\t0\t0\n",
      "63.0\t6.592532\t0\t0\t0\n",
      "64.0\t6.592564\t0\t0\t0\n",
      "65.0\t6.59259\t0\t0\t0\n",
      "66.0\t6.592613\t0\t0\t0\n",
      "67.0\t6.592632\t0\t0\t0\n",
      "68.0\t6.592648\t0\t0\t0\n",
      "69.0\t6.592662\t0\t0\t0\n",
      "70.0\t6.592674\t0\t0\t0\n",
      "71.0\t6.592684\t0\t0\t0\n",
      "72.0\t6.592692\t0\t0\t0\n",
      "73.0\t6.592699\t0\t0\t0\n",
      "74.0\t6.592706\t0\t0\t0\n",
      "75.0\t6.592711\t0\t0\t0\n",
      "76.0\t6.592715\t0\t0\t0\n",
      "77.0\t6.592719\t0\t0\t0\n",
      "78.0\t6.592722\t0\t0\t0\n",
      "79.0\t6.592725\t0\t0\t0\n",
      "80.0\t6.592727\t0\t0\t0\n",
      "81.0\t6.592729\t0\t0\t0\n",
      "82.0\t6.59273\t0\t0\t0\n",
      "83.0\t6.592732\t0\t0\t0\n",
      "84.0\t6.592733\t0\t0\t0\n",
      "85.0\t6.592734\t0\t0\t0\n",
      "86.0\t6.592735\t0\t0\t0\n",
      "87.0\t6.592735\t0\t0\t0\n",
      "88.0\t6.592736\t0\t0\t0\n",
      "89.0\t6.592737\t0\t0\t0\n",
      "90.0\t6.592737\t0\t0\t0\n",
      "91.0\t6.592737\t0\t0\t0\n",
      "92.0\t6.592738\t0\t0\t0\n",
      "93.0\t6.592738\t0\t0\t0\n",
      "94.0\t6.592738\t0\t0\t0\n",
      "95.0\t6.592738\t0\t0\t0\n",
      "96.0\t6.592739\t0\t0\t0\n",
      "97.0\t6.592739\t0\t0\t0\n",
      "98.0\t6.592739\t0\t0\t0\n",
      "99.0\t6.592739\t0\t0\t0\n",
      "100.0\t6.592739\t0\t0\t0\n",
      "\n"
     ]
    }
   ],
   "source": [
    "# take a look at the metrics file\n",
    "cat metrics.txt"
   ]
  },
  {
   "cell_type": "markdown",
   "metadata": {},
   "source": [
    "## Additional file preparation steps\n",
    "\n",
    "Before we can use GATK, we need to create a few more index files."
   ]
  },
  {
   "cell_type": "code",
   "execution_count": 19,
   "metadata": {},
   "outputs": [
    {
     "name": "stdout",
     "output_type": "stream",
     "text": [
      "INFO\t2022-02-15 21:49:35\tCreateSequenceDictionary\t\n",
      "\n",
      "********** NOTE: Picard's command line syntax is changing.\n",
      "**********\n",
      "********** For more information, please see:\n",
      "********** https://github.com/broadinstitute/picard/wiki/Command-Line-Syntax-Transition-For-Users-(Pre-Transition)\n",
      "**********\n",
      "********** The command line looks like this in the new syntax:\n",
      "**********\n",
      "**********    CreateSequenceDictionary -R GCF_000001405.33_GRCh38.p7_chr20_genomic.fna -O GCF_000001405.33_GRCh38.p7_chr20_genomic.dict\n",
      "**********\n",
      "\n",
      "\n",
      "21:49:35.622 INFO  NativeLibraryLoader - Loading libgkl_compression.so from jar:file:/share/apps/picard/2.23.8/picard.jar!/com/intel/gkl/native/libgkl_compression.so\n",
      "[Tue Feb 15 21:49:35 EST 2022] CreateSequenceDictionary OUTPUT=GCF_000001405.33_GRCh38.p7_chr20_genomic.dict REFERENCE=GCF_000001405.33_GRCh38.p7_chr20_genomic.fna    TRUNCATE_NAMES_AT_WHITESPACE=true NUM_SEQUENCES=2147483647 VERBOSITY=INFO QUIET=false VALIDATION_STRINGENCY=STRICT COMPRESSION_LEVEL=5 MAX_RECORDS_IN_RAM=500000 CREATE_INDEX=false CREATE_MD5_FILE=false GA4GH_CLIENT_SECRETS=client_secrets.json USE_JDK_DEFLATER=false USE_JDK_INFLATER=false\n",
      "[Tue Feb 15 21:49:35 EST 2022] Executing as msk8@cm002.hpc.nyu.edu on Linux 4.18.0-305.28.1.el8_4.x86_64 amd64; Java HotSpot(TM) 64-Bit Server VM 1.8.0_271-b09; Deflater: Intel; Inflater: Intel; Provider GCS is not available; Picard version: 2.23.8\n",
      "[Tue Feb 15 21:49:36 EST 2022] picard.sam.CreateSequenceDictionary done. Elapsed time: 0.01 minutes.\n",
      "Runtime.totalMemory()=518979584\n"
     ]
    }
   ],
   "source": [
    "java -jar $PICARD_JAR CreateSequenceDictionary \\\n",
    "R=GCF_000001405.33_GRCh38.p7_chr20_genomic.fna \\\n",
    "O=GCF_000001405.33_GRCh38.p7_chr20_genomic.dict"
   ]
  },
  {
   "cell_type": "code",
   "execution_count": 20,
   "metadata": {},
   "outputs": [],
   "source": [
    "samtools faidx GCF_000001405.33_GRCh38.p7_chr20_genomic.fna\n"
   ]
  },
  {
   "cell_type": "code",
   "execution_count": 21,
   "metadata": {},
   "outputs": [],
   "source": [
    "samtools index dedup_reads.bam\n"
   ]
  },
  {
   "cell_type": "markdown",
   "metadata": {},
   "source": [
    "## Recalibrating quality scores\n",
    "\n",
    "Normally we would now recalibrate our quality scores. Unfortunately we don't have the correct vcf file of known snps. So we will perform the variant calling without recalibration.\n",
    "\n",
    "## Ready to call variants\n",
    "\n",
    "We will be using [GATK](https://gatk.broadinstitute.org/hc/en-us) to call variants."
   ]
  },
  {
   "cell_type": "code",
   "execution_count": 23,
   "metadata": {},
   "outputs": [
    {
     "name": "stdout",
     "output_type": "stream",
     "text": [
      "\n",
      "--------------------------- /share/apps/modulefiles ----------------------------\n",
      "   gatk/3.8-0    gatk/4.1.7.0    gatk/4.1.9.0    gatk/4.2.0.0    gatk/4.2.4.1\n"
     ]
    }
   ],
   "source": [
    "module avail gatk"
   ]
  },
  {
   "cell_type": "code",
   "execution_count": 41,
   "metadata": {},
   "outputs": [],
   "source": [
    "module load gatk/4.1.9.0"
   ]
  },
  {
   "cell_type": "code",
   "execution_count": 42,
   "metadata": {},
   "outputs": [
    {
     "name": "stdout",
     "output_type": "stream",
     "text": [
      "GATK_HOME=/share/apps/gatk/4.1.9.0\n",
      "GATK_LOCAL_JAR=/share/apps/gatk/4.1.9.0/gatk-package-4.1.9.0-local.jar\n",
      "LMOD_FAMILY_GATK_VERSION=4.1.9.0\n",
      "LMOD_FAMILY_GATK=gatk\n",
      "GATK_SPARK_JAR=/share/apps/gatk/4.1.9.0/gatk-package-4.1.9.0-spark.jar\n",
      "GATK_JAR=/share/apps/gatk/4.1.9.0/gatk-package-4.1.9.0-local.jar\n",
      "GATK_ROOT=/share/apps/gatk/4.1.9.0\n"
     ]
    }
   ],
   "source": [
    "env | grep GATK"
   ]
  },
  {
   "cell_type": "code",
   "execution_count": 47,
   "metadata": {},
   "outputs": [
    {
     "name": "stdout",
     "output_type": "stream",
     "text": [
      "22:23:00.932 INFO  NativeLibraryLoader - Loading libgkl_compression.so from jar:file:/share/apps/gatk/4.1.9.0/gatk-package-4.1.9.0-local.jar!/com/intel/gkl/native/libgkl_compression.so\n",
      "Feb 15, 2022 10:23:01 PM shaded.cloud_nio.com.google.auth.oauth2.ComputeEngineCredentials runningOnComputeEngine\n",
      "INFO: Failed to detect whether we are running on Google Compute Engine.\n",
      "22:23:01.137 INFO  HaplotypeCaller - ------------------------------------------------------------\n",
      "22:23:01.137 INFO  HaplotypeCaller - The Genome Analysis Toolkit (GATK) v4.1.9.0\n",
      "22:23:01.137 INFO  HaplotypeCaller - For support and documentation go to https://software.broadinstitute.org/gatk/\n",
      "22:23:01.137 INFO  HaplotypeCaller - Executing as msk8@cm002.hpc.nyu.edu on Linux v4.18.0-305.28.1.el8_4.x86_64 amd64\n",
      "22:23:01.137 INFO  HaplotypeCaller - Java runtime: Java HotSpot(TM) 64-Bit Server VM v1.8.0_271-b09\n",
      "22:23:01.137 INFO  HaplotypeCaller - Start Date/Time: February 15, 2022 10:23:00 PM EST\n",
      "22:23:01.137 INFO  HaplotypeCaller - ------------------------------------------------------------\n",
      "22:23:01.137 INFO  HaplotypeCaller - ------------------------------------------------------------\n",
      "22:23:01.138 INFO  HaplotypeCaller - HTSJDK Version: 2.23.0\n",
      "22:23:01.138 INFO  HaplotypeCaller - Picard Version: 2.23.3\n",
      "22:23:01.138 INFO  HaplotypeCaller - HTSJDK Defaults.COMPRESSION_LEVEL : 2\n",
      "22:23:01.138 INFO  HaplotypeCaller - HTSJDK Defaults.USE_ASYNC_IO_READ_FOR_SAMTOOLS : false\n",
      "22:23:01.138 INFO  HaplotypeCaller - HTSJDK Defaults.USE_ASYNC_IO_WRITE_FOR_SAMTOOLS : true\n",
      "22:23:01.138 INFO  HaplotypeCaller - HTSJDK Defaults.USE_ASYNC_IO_WRITE_FOR_TRIBBLE : false\n",
      "22:23:01.138 INFO  HaplotypeCaller - Deflater: IntelDeflater\n",
      "22:23:01.138 INFO  HaplotypeCaller - Inflater: IntelInflater\n",
      "22:23:01.138 INFO  HaplotypeCaller - GCS max retries/reopens: 20\n",
      "22:23:01.138 INFO  HaplotypeCaller - Requester pays: disabled\n",
      "22:23:01.138 INFO  HaplotypeCaller - Initializing engine\n",
      "22:23:01.469 INFO  HaplotypeCaller - Done initializing engine\n",
      "22:23:01.483 INFO  HaplotypeCallerEngine - Disabling physical phasing, which is supported only for reference-model confidence output\n",
      "22:23:01.499 INFO  NativeLibraryLoader - Loading libgkl_utils.so from jar:file:/share/apps/gatk/4.1.9.0/gatk-package-4.1.9.0-local.jar!/com/intel/gkl/native/libgkl_utils.so\n",
      "22:23:01.503 INFO  NativeLibraryLoader - Loading libgkl_pairhmm_omp.so from jar:file:/share/apps/gatk/4.1.9.0/gatk-package-4.1.9.0-local.jar!/com/intel/gkl/native/libgkl_pairhmm_omp.so\n",
      "22:23:01.534 INFO  IntelPairHmm - Using CPU-supported AVX-512 instructions\n",
      "22:23:01.534 INFO  IntelPairHmm - Flush-to-zero (FTZ) is enabled when running PairHMM\n",
      "22:23:01.535 INFO  IntelPairHmm - Available threads: 1\n",
      "22:23:01.535 INFO  IntelPairHmm - Requested threads: 4\n",
      "22:23:01.535 WARN  IntelPairHmm - Using 1 available threads, but 4 were requested\n",
      "22:23:01.535 INFO  PairHMM - Using the OpenMP multi-threaded AVX-accelerated native PairHMM implementation\n",
      "22:23:01.575 INFO  ProgressMeter - Starting traversal\n",
      "22:23:01.582 INFO  ProgressMeter -        Current Locus  Elapsed Minutes     Regions Processed   Regions/Minute\n",
      "22:23:08.832 WARN  InbreedingCoeff - InbreedingCoeff will not be calculated; at least 10 samples must have called genotypes\n",
      "22:23:11.722 INFO  ProgressMeter - NC_000020.11:23548363              0.2                 78560         464852.1\n",
      "22:23:21.759 INFO  ProgressMeter - NC_000020.11:23663164              0.3                 79220         235586.8\n",
      "22:23:31.831 INFO  ProgressMeter - NC_000020.11:23778840              0.5                 79920         158524.2\n",
      "22:23:41.942 INFO  ProgressMeter - NC_000020.11:23980541              0.7                 81210         120731.4\n",
      "22:23:51.941 INFO  ProgressMeter - NC_000020.11:63999561              0.8                214780         255898.6\n",
      "22:23:52.218 INFO  HaplotypeCaller - 1302 read(s) filtered by: MappingQualityReadFilter \n",
      "0 read(s) filtered by: MappingQualityAvailableReadFilter \n",
      "0 read(s) filtered by: MappedReadFilter \n",
      "0 read(s) filtered by: NotSecondaryAlignmentReadFilter \n",
      "15234 read(s) filtered by: NotDuplicateReadFilter \n",
      "0 read(s) filtered by: PassesVendorQualityCheckReadFilter \n",
      "0 read(s) filtered by: NonZeroReferenceLengthAlignmentReadFilter \n",
      "0 read(s) filtered by: GoodCigarReadFilter \n",
      "0 read(s) filtered by: WellformedReadFilter \n",
      "16536 total reads filtered\n",
      "22:23:52.218 INFO  ProgressMeter - NC_000020.11:64443561              0.8                216262         256254.8\n",
      "22:23:52.218 INFO  ProgressMeter - Traversal complete. Processed 216262 total regions in 0.8 minutes.\n",
      "22:23:52.301 INFO  VectorLoglessPairHMM - Time spent in setup for JNI call : 0.118360872\n",
      "22:23:52.301 INFO  PairHMM - Total compute time in PairHMM computeLogLikelihoods() : 4.8796875680000005\n",
      "22:23:52.302 INFO  SmithWatermanAligner - Total compute time in java Smith-Waterman : 5.04 sec\n",
      "22:23:52.302 INFO  HaplotypeCaller - Shutting down engine\n",
      "[February 15, 2022 10:23:52 PM EST] org.broadinstitute.hellbender.tools.walkers.haplotypecaller.HaplotypeCaller done. Elapsed time: 0.86 minutes.\n",
      "Runtime.totalMemory()=519110656\n"
     ]
    }
   ],
   "source": [
    "java -jar $GATK_JAR HaplotypeCaller \\\n",
    "-R GCF_000001405.33_GRCh38.p7_chr20_genomic.fna \\\n",
    "-I dedup_reads.bam \\\n",
    "-O raw_variants.vcf\n"
   ]
  },
  {
   "cell_type": "code",
   "execution_count": 48,
   "metadata": {},
   "outputs": [
    {
     "name": "stdout",
     "output_type": "stream",
     "text": [
      "##fileformat=VCFv4.2\n",
      "##FILTER=<ID=LowQual,Description=\"Low quality\">\n",
      "##FORMAT=<ID=AD,Number=R,Type=Integer,Description=\"Allelic depths for the ref and alt alleles in the order listed\">\n",
      "##FORMAT=<ID=DP,Number=1,Type=Integer,Description=\"Approximate read depth (reads with MQ=255 or with bad mates are filtered)\">\n",
      "##FORMAT=<ID=GQ,Number=1,Type=Integer,Description=\"Genotype Quality\">\n",
      "##FORMAT=<ID=GT,Number=1,Type=String,Description=\"Genotype\">\n",
      "##FORMAT=<ID=PL,Number=G,Type=Integer,Description=\"Normalized, Phred-scaled likelihoods for genotypes as defined in the VCF specification\">\n",
      "##GATKCommandLine=<ID=HaplotypeCaller,CommandLine=\"HaplotypeCaller --output raw_variants.vcf --input dedup_reads.bam --reference GCF_000001405.33_GRCh38.p7_chr20_genomic.fna --annotate-with-num-discovered-alleles false --heterozygosity 0.001 --indel-heterozygosity 1.25E-4 --heterozygosity-stdev 0.01 --standard-min-confidence-threshold-for-calling 30.0 --max-alternate-alleles 6 --max-genotype-count 1024 --sample-ploidy 2 --num-reference-samples-if-no-call 0 --contamination-fraction-to-filter 0.0 --output-mode EMIT_VARIANTS_ONLY --all-site-pls false --gvcf-gq-bands 1 --gvcf-gq-bands 2 --gvcf-gq-bands 3 --gvcf-gq-bands 4 --gvcf-gq-bands 5 --gvcf-gq-bands 6 --gvcf-gq-bands 7 --gvcf-gq-bands 8 --gvcf-gq-bands 9 --gvcf-gq-bands 10 --gvcf-gq-bands 11 --gvcf-gq-bands 12 --gvcf-gq-bands 13 --gvcf-gq-bands 14 --gvcf-gq-bands 15 --gvcf-gq-bands 16 --gvcf-gq-bands 17 --gvcf-gq-bands 18 --gvcf-gq-bands 19 --gvcf-gq-bands 20 --gvcf-gq-bands 21 --gvcf-gq-bands 22 --gvcf-gq-bands 23 --gvcf-gq-bands 24 --gvcf-gq-bands 25 --gvcf-gq-bands 26 --gvcf-gq-bands 27 --gvcf-gq-bands 28 --gvcf-gq-bands 29 --gvcf-gq-bands 30 --gvcf-gq-bands 31 --gvcf-gq-bands 32 --gvcf-gq-bands 33 --gvcf-gq-bands 34 --gvcf-gq-bands 35 --gvcf-gq-bands 36 --gvcf-gq-bands 37 --gvcf-gq-bands 38 --gvcf-gq-bands 39 --gvcf-gq-bands 40 --gvcf-gq-bands 41 --gvcf-gq-bands 42 --gvcf-gq-bands 43 --gvcf-gq-bands 44 --gvcf-gq-bands 45 --gvcf-gq-bands 46 --gvcf-gq-bands 47 --gvcf-gq-bands 48 --gvcf-gq-bands 49 --gvcf-gq-bands 50 --gvcf-gq-bands 51 --gvcf-gq-bands 52 --gvcf-gq-bands 53 --gvcf-gq-bands 54 --gvcf-gq-bands 55 --gvcf-gq-bands 56 --gvcf-gq-bands 57 --gvcf-gq-bands 58 --gvcf-gq-bands 59 --gvcf-gq-bands 60 --gvcf-gq-bands 70 --gvcf-gq-bands 80 --gvcf-gq-bands 90 --gvcf-gq-bands 99 --floor-blocks false --indel-size-to-eliminate-in-ref-model 10 --disable-optimizations false --just-determine-active-regions false --dont-genotype false --do-not-run-physical-phasing false --do-not-correct-overlapping-quality false --use-filtered-reads-for-annotations false --adaptive-pruning false --do-not-recover-dangling-branches false --recover-dangling-heads false --kmer-size 10 --kmer-size 25 --dont-increase-kmer-sizes-for-cycles false --allow-non-unique-kmers-in-ref false --num-pruning-samples 1 --min-dangling-branch-length 4 --recover-all-dangling-branches false --max-num-haplotypes-in-population 128 --min-pruning 2 --adaptive-pruning-initial-error-rate 0.001 --pruning-lod-threshold 2.302585092994046 --pruning-seeding-lod-threshold 9.210340371976184 --max-unpruned-variants 100 --linked-de-bruijn-graph false --disable-artificial-haplotype-recovery false --debug-assembly false --debug-graph-transformations false --capture-assembly-failure-bam false --error-correction-log-odds -Infinity --error-correct-reads false --kmer-length-for-read-error-correction 25 --min-observations-for-kmer-to-be-solid 20 --base-quality-score-threshold 18 --pair-hmm-gap-continuation-penalty 10 --pair-hmm-implementation FASTEST_AVAILABLE --pcr-indel-model CONSERVATIVE --phred-scaled-global-read-mismapping-rate 45 --native-pair-hmm-threads 4 --native-pair-hmm-use-double-precision false --bam-writer-type CALLED_HAPLOTYPES --dont-use-soft-clipped-bases false --min-base-quality-score 10 --smith-waterman JAVA --emit-ref-confidence NONE --max-mnp-distance 0 --force-call-filtered-alleles false --allele-informative-reads-overlap-margin 2 --min-assembly-region-size 50 --max-assembly-region-size 300 --active-probability-threshold 0.002 --max-prob-propagation-distance 50 --force-active false --assembly-region-padding 100 --padding-around-indels 75 --padding-around-snps 20 --padding-around-strs 75 --max-reads-per-alignment-start 50 --interval-set-rule UNION --interval-padding 0 --interval-exclusion-padding 0 --interval-merging-rule ALL --read-validation-stringency SILENT --seconds-between-progress-updates 10.0 --disable-sequence-dictionary-validation false --create-output-bam-index true --create-output-bam-md5 false --create-output-variant-index true --create-output-variant-md5 false --lenient false --add-output-sam-program-record true --add-output-vcf-command-line true --cloud-prefetch-buffer 40 --cloud-index-prefetch-buffer -1 --disable-bam-index-caching false --sites-only-vcf-output false --help false --version false --showHidden false --verbosity INFO --QUIET false --use-jdk-deflater false --use-jdk-inflater false --gcs-max-retries 20 --gcs-project-for-requester-pays  --disable-tool-default-read-filters false --minimum-mapping-quality 20 --disable-tool-default-annotations false --enable-all-annotations false --allow-old-rms-mapping-quality-annotation-data false\",Version=\"4.1.9.0\",Date=\"February 15, 2022 10:23:01 PM EST\">\n",
      "##INFO=<ID=AC,Number=A,Type=Integer,Description=\"Allele count in genotypes, for each ALT allele, in the same order as listed\">\n",
      "##INFO=<ID=AF,Number=A,Type=Float,Description=\"Allele Frequency, for each ALT allele, in the same order as listed\">\n",
      "##INFO=<ID=AN,Number=1,Type=Integer,Description=\"Total number of alleles in called genotypes\">\n",
      "##INFO=<ID=BaseQRankSum,Number=1,Type=Float,Description=\"Z-score from Wilcoxon rank sum test of Alt Vs. Ref base qualities\">\n",
      "##INFO=<ID=DP,Number=1,Type=Integer,Description=\"Approximate read depth; some reads may have been filtered\">\n",
      "##INFO=<ID=ExcessHet,Number=1,Type=Float,Description=\"Phred-scaled p-value for exact test of excess heterozygosity\">\n",
      "##INFO=<ID=FS,Number=1,Type=Float,Description=\"Phred-scaled p-value using Fisher's exact test to detect strand bias\">\n",
      "##INFO=<ID=InbreedingCoeff,Number=1,Type=Float,Description=\"Inbreeding coefficient as estimated from the genotype likelihoods per-sample when compared against the Hardy-Weinberg expectation\">\n",
      "##INFO=<ID=MLEAC,Number=A,Type=Integer,Description=\"Maximum likelihood expectation (MLE) for the allele counts (not necessarily the same as the AC), for each ALT allele, in the same order as listed\">\n",
      "##INFO=<ID=MLEAF,Number=A,Type=Float,Description=\"Maximum likelihood expectation (MLE) for the allele frequency (not necessarily the same as the AF), for each ALT allele, in the same order as listed\">\n",
      "##INFO=<ID=MQ,Number=1,Type=Float,Description=\"RMS Mapping Quality\">\n",
      "##INFO=<ID=MQRankSum,Number=1,Type=Float,Description=\"Z-score From Wilcoxon rank sum test of Alt vs. Ref read mapping qualities\">\n",
      "##INFO=<ID=QD,Number=1,Type=Float,Description=\"Variant Confidence/Quality by Depth\">\n",
      "##INFO=<ID=ReadPosRankSum,Number=1,Type=Float,Description=\"Z-score from Wilcoxon rank sum test of Alt vs. Ref read position bias\">\n",
      "##INFO=<ID=SOR,Number=1,Type=Float,Description=\"Symmetric Odds Ratio of 2x2 contingency table to detect strand bias\">\n",
      "##contig=<ID=NC_000020.11,length=64444167>\n",
      "##source=HaplotypeCaller\n",
      "#CHROM\tPOS\tID\tREF\tALT\tQUAL\tFILTER\tINFO\tFORMAT\tsample_1\n",
      "NC_000020.11\t23524775\t.\tG\tGT\t328.60\t.\tAC=1;AF=0.500;AN=2;BaseQRankSum=0.000;DP=32;ExcessHet=3.0103;FS=0.000;MLEAC=1;MLEAF=0.500;MQ=60.00;MQRankSum=0.000;QD=16.43;ReadPosRankSum=0.000;SOR=1.244\tGT:AD:DP:GQ:PL\t0/1:4,16:20:44:336,0,44\n",
      "NC_000020.11\t23531045\t.\tT\tA\t1209.06\t.\tAC=2;AF=1.00;AN=2;DP=35;ExcessHet=3.0103;FS=0.000;MLEAC=2;MLEAF=1.00;MQ=60.00;QD=25.36;SOR=0.693\tGT:AD:DP:GQ:PL\t1/1:0,32:32:95:1223,95,0\n",
      "NC_000020.11\t23531143\t.\tC\tA\t1610.06\t.\tAC=2;AF=1.00;AN=2;DP=45;ExcessHet=3.0103;FS=0.000;MLEAC=2;MLEAF=1.00;MQ=60.00;QD=28.73;SOR=0.741\tGT:AD:DP:GQ:PL\t1/1:0,41:41:99:1624,123,0\n",
      "NC_000020.11\t23531819\t.\tCTTTTTTTTTTTTTTTTTTTTTTTTTTTTTT\tC\t172.60\t.\tAC=1;AF=0.500;AN=2;BaseQRankSum=-3.224;DP=41;ExcessHet=3.0103;FS=13.554;MLEAC=1;MLEAF=0.500;MQ=58.91;MQRankSum=0.775;QD=10.15;ReadPosRankSum=2.063;SOR=3.599\tGT:AD:DP:GQ:PL\t0/1:12,5:17:99:180,0,230\n"
     ]
    }
   ],
   "source": [
    "head -30 raw_variants.vcf\n"
   ]
  },
  {
   "cell_type": "code",
   "execution_count": 49,
   "metadata": {},
   "outputs": [
    {
     "name": "stdout",
     "output_type": "stream",
     "text": [
      "Using GATK jar /share/apps/gatk/4.1.9.0/gatk-package-4.1.9.0-local.jar defined in environment variable GATK_LOCAL_JAR\n",
      "Running:\n",
      "    java -Dsamjdk.use_async_io_read_samtools=false -Dsamjdk.use_async_io_write_samtools=true -Dsamjdk.use_async_io_write_tribble=false -Dsamjdk.compression_level=2 -jar /share/apps/gatk/4.1.9.0/gatk-package-4.1.9.0-local.jar SelectVariants -R GCF_000001405.33_GRCh38.p7_chr20_genomic.fna -V raw_variants.vcf -select-type SNP -O raw_snps.vcf\n",
      "22:24:24.045 INFO  NativeLibraryLoader - Loading libgkl_compression.so from jar:file:/share/apps/gatk/4.1.9.0/gatk-package-4.1.9.0-local.jar!/com/intel/gkl/native/libgkl_compression.so\n",
      "Feb 15, 2022 10:24:24 PM shaded.cloud_nio.com.google.auth.oauth2.ComputeEngineCredentials runningOnComputeEngine\n",
      "INFO: Failed to detect whether we are running on Google Compute Engine.\n",
      "22:24:24.301 INFO  SelectVariants - ------------------------------------------------------------\n",
      "22:24:24.302 INFO  SelectVariants - The Genome Analysis Toolkit (GATK) v4.1.9.0\n",
      "22:24:24.302 INFO  SelectVariants - For support and documentation go to https://software.broadinstitute.org/gatk/\n",
      "22:24:24.302 INFO  SelectVariants - Executing as msk8@cm002.hpc.nyu.edu on Linux v4.18.0-305.28.1.el8_4.x86_64 amd64\n",
      "22:24:24.302 INFO  SelectVariants - Java runtime: Java HotSpot(TM) 64-Bit Server VM v1.8.0_271-b09\n",
      "22:24:24.302 INFO  SelectVariants - Start Date/Time: February 15, 2022 10:24:23 PM EST\n",
      "22:24:24.302 INFO  SelectVariants - ------------------------------------------------------------\n",
      "22:24:24.302 INFO  SelectVariants - ------------------------------------------------------------\n",
      "22:24:24.302 INFO  SelectVariants - HTSJDK Version: 2.23.0\n",
      "22:24:24.302 INFO  SelectVariants - Picard Version: 2.23.3\n",
      "22:24:24.303 INFO  SelectVariants - HTSJDK Defaults.COMPRESSION_LEVEL : 2\n",
      "22:24:24.303 INFO  SelectVariants - HTSJDK Defaults.USE_ASYNC_IO_READ_FOR_SAMTOOLS : false\n",
      "22:24:24.303 INFO  SelectVariants - HTSJDK Defaults.USE_ASYNC_IO_WRITE_FOR_SAMTOOLS : true\n",
      "22:24:24.303 INFO  SelectVariants - HTSJDK Defaults.USE_ASYNC_IO_WRITE_FOR_TRIBBLE : false\n",
      "22:24:24.303 INFO  SelectVariants - Deflater: IntelDeflater\n",
      "22:24:24.303 INFO  SelectVariants - Inflater: IntelInflater\n",
      "22:24:24.303 INFO  SelectVariants - GCS max retries/reopens: 20\n",
      "22:24:24.303 INFO  SelectVariants - Requester pays: disabled\n",
      "22:24:24.303 INFO  SelectVariants - Initializing engine\n",
      "22:24:24.579 INFO  FeatureManager - Using codec VCFCodec to read file file:///scratch/msk8/Sec3/alignment/raw_variants.vcf\n",
      "22:24:24.607 INFO  SelectVariants - Done initializing engine\n",
      "22:24:24.642 INFO  ProgressMeter - Starting traversal\n",
      "22:24:24.655 INFO  ProgressMeter -        Current Locus  Elapsed Minutes    Variants Processed  Variants/Minute\n",
      "22:24:25.140 INFO  ProgressMeter - NC_000020.11:23861165              0.0                  1410         174433.0\n",
      "22:24:25.140 INFO  ProgressMeter - Traversal complete. Processed 1410 total variants in 0.0 minutes.\n",
      "22:24:25.195 INFO  SelectVariants - Shutting down engine\n",
      "[February 15, 2022 10:24:25 PM EST] org.broadinstitute.hellbender.tools.walkers.variantutils.SelectVariants done. Elapsed time: 0.02 minutes.\n",
      "Runtime.totalMemory()=519110656\n",
      "Using GATK jar /share/apps/gatk/4.1.9.0/gatk-package-4.1.9.0-local.jar defined in environment variable GATK_LOCAL_JAR\n",
      "Running:\n",
      "    java -Dsamjdk.use_async_io_read_samtools=false -Dsamjdk.use_async_io_write_samtools=true -Dsamjdk.use_async_io_write_tribble=false -Dsamjdk.compression_level=2 -jar /share/apps/gatk/4.1.9.0/gatk-package-4.1.9.0-local.jar SelectVariants -R GCF_000001405.33_GRCh38.p7_chr20_genomic.fna -V raw_variants.vcf -select-type INDEL -O raw_indels.vcf\n",
      "22:24:28.527 INFO  NativeLibraryLoader - Loading libgkl_compression.so from jar:file:/share/apps/gatk/4.1.9.0/gatk-package-4.1.9.0-local.jar!/com/intel/gkl/native/libgkl_compression.so\n",
      "Feb 15, 2022 10:24:28 PM shaded.cloud_nio.com.google.auth.oauth2.ComputeEngineCredentials runningOnComputeEngine\n",
      "INFO: Failed to detect whether we are running on Google Compute Engine.\n",
      "22:24:28.771 INFO  SelectVariants - ------------------------------------------------------------\n",
      "22:24:28.772 INFO  SelectVariants - The Genome Analysis Toolkit (GATK) v4.1.9.0\n",
      "22:24:28.772 INFO  SelectVariants - For support and documentation go to https://software.broadinstitute.org/gatk/\n",
      "22:24:28.772 INFO  SelectVariants - Executing as msk8@cm002.hpc.nyu.edu on Linux v4.18.0-305.28.1.el8_4.x86_64 amd64\n",
      "22:24:28.772 INFO  SelectVariants - Java runtime: Java HotSpot(TM) 64-Bit Server VM v1.8.0_271-b09\n",
      "22:24:28.772 INFO  SelectVariants - Start Date/Time: February 15, 2022 10:24:28 PM EST\n",
      "22:24:28.772 INFO  SelectVariants - ------------------------------------------------------------\n",
      "22:24:28.772 INFO  SelectVariants - ------------------------------------------------------------\n",
      "22:24:28.772 INFO  SelectVariants - HTSJDK Version: 2.23.0\n",
      "22:24:28.772 INFO  SelectVariants - Picard Version: 2.23.3\n",
      "22:24:28.772 INFO  SelectVariants - HTSJDK Defaults.COMPRESSION_LEVEL : 2\n",
      "22:24:28.772 INFO  SelectVariants - HTSJDK Defaults.USE_ASYNC_IO_READ_FOR_SAMTOOLS : false\n",
      "22:24:28.772 INFO  SelectVariants - HTSJDK Defaults.USE_ASYNC_IO_WRITE_FOR_SAMTOOLS : true\n",
      "22:24:28.772 INFO  SelectVariants - HTSJDK Defaults.USE_ASYNC_IO_WRITE_FOR_TRIBBLE : false\n",
      "22:24:28.773 INFO  SelectVariants - Deflater: IntelDeflater\n",
      "22:24:28.773 INFO  SelectVariants - Inflater: IntelInflater\n",
      "22:24:28.773 INFO  SelectVariants - GCS max retries/reopens: 20\n",
      "22:24:28.773 INFO  SelectVariants - Requester pays: disabled\n",
      "22:24:28.773 INFO  SelectVariants - Initializing engine\n",
      "22:24:29.043 INFO  FeatureManager - Using codec VCFCodec to read file file:///scratch/msk8/Sec3/alignment/raw_variants.vcf\n",
      "22:24:29.070 INFO  SelectVariants - Done initializing engine\n",
      "22:24:29.101 INFO  ProgressMeter - Starting traversal\n",
      "22:24:29.118 INFO  ProgressMeter -        Current Locus  Elapsed Minutes    Variants Processed  Variants/Minute\n",
      "22:24:29.357 INFO  ProgressMeter -             unmapped              0.0                   175          43933.1\n",
      "22:24:29.358 INFO  ProgressMeter - Traversal complete. Processed 175 total variants in 0.0 minutes.\n",
      "22:24:29.392 INFO  SelectVariants - Shutting down engine\n",
      "[February 15, 2022 10:24:29 PM EST] org.broadinstitute.hellbender.tools.walkers.variantutils.SelectVariants done. Elapsed time: 0.02 minutes.\n",
      "Runtime.totalMemory()=519110656\n",
      "bash: U: command not found\n"
     ]
    },
    {
     "ename": "",
     "evalue": "127",
     "output_type": "error",
     "traceback": []
    }
   ],
   "source": [
    "# split the variants to snps and indels\n",
    "gatk SelectVariants -R GCF_000001405.33_GRCh38.p7_chr20_genomic.fna -V raw_variants.vcf -select-type SNP -O raw_snps.vcf\n",
    "gatk SelectVariants -R GCF_000001405.33_GRCh38.p7_chr20_genomic.fna -V raw_variants.vcf -select-type INDEL -O raw_indels.vcf\n"
   ]
  },
  {
   "cell_type": "code",
   "execution_count": 50,
   "metadata": {},
   "outputs": [
    {
     "name": "stdout",
     "output_type": "stream",
     "text": [
      "22:24:48.583 INFO  NativeLibraryLoader - Loading libgkl_compression.so from jar:file:/share/apps/gatk/4.1.9.0/gatk-package-4.1.9.0-local.jar!/com/intel/gkl/native/libgkl_compression.so\n",
      "Feb 15, 2022 10:24:48 PM shaded.cloud_nio.com.google.auth.oauth2.ComputeEngineCredentials runningOnComputeEngine\n",
      "INFO: Failed to detect whether we are running on Google Compute Engine.\n",
      "22:24:48.809 INFO  VariantFiltration - ------------------------------------------------------------\n",
      "22:24:48.809 INFO  VariantFiltration - The Genome Analysis Toolkit (GATK) v4.1.9.0\n",
      "22:24:48.809 INFO  VariantFiltration - For support and documentation go to https://software.broadinstitute.org/gatk/\n",
      "22:24:48.809 INFO  VariantFiltration - Executing as msk8@cm002.hpc.nyu.edu on Linux v4.18.0-305.28.1.el8_4.x86_64 amd64\n",
      "22:24:48.809 INFO  VariantFiltration - Java runtime: Java HotSpot(TM) 64-Bit Server VM v1.8.0_271-b09\n",
      "22:24:48.809 INFO  VariantFiltration - Start Date/Time: February 15, 2022 10:24:48 PM EST\n",
      "22:24:48.809 INFO  VariantFiltration - ------------------------------------------------------------\n",
      "22:24:48.809 INFO  VariantFiltration - ------------------------------------------------------------\n",
      "22:24:48.810 INFO  VariantFiltration - HTSJDK Version: 2.23.0\n",
      "22:24:48.810 INFO  VariantFiltration - Picard Version: 2.23.3\n",
      "22:24:48.810 INFO  VariantFiltration - HTSJDK Defaults.COMPRESSION_LEVEL : 2\n",
      "22:24:48.810 INFO  VariantFiltration - HTSJDK Defaults.USE_ASYNC_IO_READ_FOR_SAMTOOLS : false\n",
      "22:24:48.810 INFO  VariantFiltration - HTSJDK Defaults.USE_ASYNC_IO_WRITE_FOR_SAMTOOLS : true\n",
      "22:24:48.810 INFO  VariantFiltration - HTSJDK Defaults.USE_ASYNC_IO_WRITE_FOR_TRIBBLE : false\n",
      "22:24:48.810 INFO  VariantFiltration - Deflater: IntelDeflater\n",
      "22:24:48.810 INFO  VariantFiltration - Inflater: IntelInflater\n",
      "22:24:48.810 INFO  VariantFiltration - GCS max retries/reopens: 20\n",
      "22:24:48.810 INFO  VariantFiltration - Requester pays: disabled\n",
      "22:24:48.810 INFO  VariantFiltration - Initializing engine\n",
      "22:24:49.095 INFO  FeatureManager - Using codec VCFCodec to read file file:///scratch/msk8/Sec3/alignment/raw_snps.vcf\n",
      "22:24:49.117 INFO  VariantFiltration - Done initializing engine\n",
      "22:24:49.196 INFO  ProgressMeter - Starting traversal\n",
      "22:24:49.212 INFO  ProgressMeter -        Current Locus  Elapsed Minutes    Variants Processed  Variants/Minute\n",
      "22:24:49.653 INFO  ProgressMeter - NC_000020.11:23861165              0.0                  1410         191836.7\n",
      "22:24:49.653 INFO  ProgressMeter - Traversal complete. Processed 1410 total variants in 0.0 minutes.\n",
      "22:24:49.715 INFO  VariantFiltration - Shutting down engine\n",
      "[February 15, 2022 10:24:49 PM EST] org.broadinstitute.hellbender.tools.walkers.filters.VariantFiltration done. Elapsed time: 0.02 minutes.\n",
      "Runtime.totalMemory()=519110656\n"
     ]
    }
   ],
   "source": [
    "java -jar $GATK_JAR VariantFiltration \\\n",
    "-R GCF_000001405.33_GRCh38.p7_chr20_genomic.fna \\\n",
    "-V raw_snps.vcf \\\n",
    "--filter-name \"QD_filter\" \\\n",
    "-filter \"QD<2.0\" \\\n",
    "--filter-name \"FS_filter\" \\\n",
    "-filter \"FS>60.0\" \\\n",
    "--filter-name \"MQ_filter\" \\\n",
    "-filter \"MQ<40.0\" \\\n",
    "--filter-name \"SOR_filter\" \\\n",
    "-filter \"SOR>10.0\" \\\n",
    "-O filtered_snps.vcf"
   ]
  },
  {
   "cell_type": "code",
   "execution_count": 51,
   "metadata": {},
   "outputs": [
    {
     "name": "stdout",
     "output_type": "stream",
     "text": [
      "   1445 filtered_snps.vcf\n",
      "    204 raw_indels.vcf\n",
      "   1439 raw_snps.vcf\n",
      "   1614 raw_variants.vcf\n",
      "   4702 total\n"
     ]
    }
   ],
   "source": [
    "wc -l *vcf\n"
   ]
  },
  {
   "cell_type": "code",
   "execution_count": 52,
   "metadata": {},
   "outputs": [
    {
     "name": "stdout",
     "output_type": "stream",
     "text": [
      "#CHROM\tPOS\tID\tREF\tALT\tQUAL\tFILTER\tINFO\tFORMAT\tsample_1\n",
      "NC_000020.11\t23531045\t.\tT\tA\t1209.06\tPASS\tAC=2;AF=1.00;AN=2;DP=35;ExcessHet=3.0103;FS=0.000;MLEAC=2;MLEAF=1.00;MQ=60.00;QD=25.36;SOR=0.693\tGT:AD:DP:GQ:PL\t1/1:0,32:32:95:1223,95,0\n",
      "NC_000020.11\t23531143\t.\tC\tA\t1610.06\tPASS\tAC=2;AF=1.00;AN=2;DP=45;ExcessHet=3.0103;FS=0.000;MLEAC=2;MLEAF=1.00;MQ=60.00;QD=28.73;SOR=0.741\tGT:AD:DP:GQ:PL\t1/1:0,41:41:99:1624,123,0\n",
      "NC_000020.11\t23532123\t.\tG\tC\t1619.06\tPASS\tAC=2;AF=1.00;AN=2;DP=39;ExcessHet=3.0103;FS=0.000;MLEAC=2;MLEAF=1.00;MQ=60.00;QD=30.97;SOR=1.096\tGT:AD:DP:GQ:PL\t1/1:0,39:39:99:1633,117,0\n",
      "NC_000020.11\t23532137\t.\tC\tT\t1649.06\tPASS\tAC=2;AF=1.00;AN=2;DP=41;ExcessHet=3.0103;FS=0.000;MLEAC=2;MLEAF=1.00;MQ=60.00;QD=27.24;SOR=1.022\tGT:AD:DP:GQ:PL\t1/1:0,40:40:99:1663,120,0\n",
      "NC_000020.11\t23532481\t.\tC\tT\t2157.06\tPASS\tAC=2;AF=1.00;AN=2;DP=51;ExcessHet=3.0103;FS=0.000;MLEAC=2;MLEAF=1.00;MQ=60.00;QD=28.20;SOR=1.157\tGT:AD:DP:GQ:PL\t1/1:0,50:50:99:2171,151,0\n",
      "NC_000020.11\t23533472\t.\tA\tT\t1003.06\tPASS\tAC=2;AF=1.00;AN=2;DP=36;ExcessHet=3.0103;FS=0.000;MLEAC=2;MLEAF=1.00;MQ=60.00;QD=30.40;SOR=0.760\tGT:AD:DP:GQ:PL\t1/1:0,33:33:99:1017,99,0\n",
      "NC_000020.11\t23534561\t.\tT\tC\t1724.06\tPASS\tAC=2;AF=1.00;AN=2;DP=44;ExcessHet=3.0103;FS=0.000;MLEAC=2;MLEAF=1.00;MQ=60.00;QD=30.62;SOR=0.739\tGT:AD:DP:GQ:PL\t1/1:0,43:43:99:1738,129,0\n",
      "NC_000020.11\t23535205\t.\tT\tC\t982.06\tPASS\tAC=2;AF=1.00;AN=2;DP=26;ExcessHet=3.0103;FS=0.000;MLEAC=2;MLEAF=1.00;MQ=60.00;QD=28.17;SOR=0.693\tGT:AD:DP:GQ:PL\t1/1:0,26:26:78:996,78,0\n",
      "NC_000020.11\t23536321\t.\tG\tA\t1492.06\tPASS\tAC=2;AF=1.00;AN=2;DP=38;ExcessHet=3.0103;FS=0.000;MLEAC=2;MLEAF=1.00;MQ=60.00;QD=30.02;SOR=1.609\tGT:AD:DP:GQ:PL\t1/1:0,37:37:99:1506,111,0\n",
      "grep: write error: Broken pipe\n",
      "NC_000020.11\t34157294\t.\tG\tA\t56.32\tMQ_filter\tAC=2;AF=1.00;AN=2;DP=2;ExcessHet=3.0103;FS=0.000;MLEAC=1;MLEAF=0.500;MQ=30.02;QD=28.16;SOR=2.303\tGT:AD:DP:GQ:PL\t1/1:0,2:2:6:68,6,0\n",
      "NC_000020.11\t34157330\t.\tG\tA\t78.32\tMQ_filter\tAC=2;AF=1.00;AN=2;DP=2;ExcessHet=3.0103;FS=0.000;MLEAC=1;MLEAF=0.500;MQ=30.02;QD=29.16;SOR=2.303\tGT:AD:DP:GQ:PL\t1/1:0,2:2:6:90,6,0\n",
      "NC_000020.11\t34157334\t.\tT\tC\t78.32\tMQ_filter\tAC=2;AF=1.00;AN=2;DP=2;ExcessHet=3.0103;FS=0.000;MLEAC=1;MLEAF=0.500;MQ=30.02;QD=27.87;SOR=2.303\tGT:AD:DP:GQ:PL\t1/1:0,2:2:6:90,6,0\n",
      "NC_000020.11\t34157337\t.\tC\tA\t78.32\tMQ_filter\tAC=2;AF=1.00;AN=2;DP=2;ExcessHet=3.0103;FS=0.000;MLEAC=1;MLEAF=0.500;MQ=30.02;QD=29.13;SOR=2.303\tGT:AD:DP:GQ:PL\t1/1:0,2:2:6:90,6,0\n",
      "NC_000020.11\t34157338\t.\tG\tA\t78.32\tMQ_filter\tAC=2;AF=1.00;AN=2;DP=2;ExcessHet=3.0103;FS=0.000;MLEAC=1;MLEAF=0.500;MQ=30.02;QD=30.17;SOR=2.303\tGT:AD:DP:GQ:PL\t1/1:0,2:2:6:90,6,0\n",
      "NC_000020.11\t43453383\t.\tC\tT\t39.32\tMQ_filter\tAC=2;AF=1.00;AN=2;DP=2;ExcessHet=3.0103;FS=0.000;MLEAC=1;MLEAF=0.500;MQ=21.00;QD=19.66;SOR=2.303\tGT:AD:DP:GQ:PL\t1/1:0,2:2:6:51,6,0\n",
      "NC_000020.11\t43453422\t.\tG\tT\t78.32\tMQ_filter\tAC=2;AF=1.00;AN=2;DP=2;ExcessHet=3.0103;FS=0.000;MLEAC=1;MLEAF=0.500;MQ=21.00;QD=28.79;SOR=2.303\tGT:AD:DP:GQ:PL\t1/1:0,2:2:6:90,6,0\n",
      "NC_000020.11\t43453424\t.\tG\tA\t78.32\tMQ_filter\tAC=2;AF=1.00;AN=2;DP=2;ExcessHet=3.0103;FS=0.000;MLEAC=1;MLEAF=0.500;MQ=21.00;QD=30.10;SOR=2.303\tGT:AD:DP:GQ:PL\t1/1:0,2:2:6:90,6,0\n",
      "NC_000020.11\t43453432\t.\tG\tA\t78.32\tMQ_filter\tAC=2;AF=1.00;AN=2;DP=2;ExcessHet=3.0103;FS=0.000;MLEAC=1;MLEAF=0.500;MQ=21.00;QD=32.06;SOR=2.303\tGT:AD:DP:GQ:PL\t1/1:0,2:2:6:90,6,0\n",
      "NC_000020.11\t43453441\t.\tG\tA\t78.32\tMQ_filter\tAC=2;AF=1.00;AN=2;DP=2;ExcessHet=3.0103;FS=0.000;MLEAC=1;MLEAF=0.500;MQ=21.00;QD=27.78;SOR=2.303\tGT:AD:DP:GQ:PL\t1/1:0,2:2:6:90,6,0\n"
     ]
    }
   ],
   "source": [
    "grep -v \"##\" filtered_snps.vcf | head\n",
    "grep -v \"##\" filtered_snps.vcf | tail"
   ]
  },
  {
   "cell_type": "code",
   "execution_count": null,
   "metadata": {},
   "outputs": [],
   "source": []
  }
 ],
 "metadata": {
  "kernelspec": {
   "display_name": "Bash",
   "language": "bash",
   "name": "bash"
  },
  "language_info": {
   "codemirror_mode": "shell",
   "file_extension": ".sh",
   "mimetype": "text/x-sh",
   "name": "bash"
  }
 },
 "nbformat": 4,
 "nbformat_minor": 4
}
